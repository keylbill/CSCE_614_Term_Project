{
  "nbformat": 4,
  "nbformat_minor": 0,
  "metadata": {
    "colab": {
      "name": "CSCE 614 CNN for CIFAR10",
      "provenance": [],
      "collapsed_sections": []
    },
    "kernelspec": {
      "name": "python3",
      "display_name": "Python 3"
    },
    "accelerator": "GPU"
  },
  "cells": [
    {
      "cell_type": "code",
      "metadata": {
        "id": "zQleibEwbTKz"
      },
      "source": [
        "# keras imports for the dataset and building our neural network\n",
        "from keras.datasets import cifar10\n",
        "from keras.models import Sequential\n",
        "from keras.layers import Dense, Dropout, Conv2D, MaxPool2D, Flatten\n",
        "from keras.utils import np_utils"
      ],
      "execution_count": 1,
      "outputs": []
    },
    {
      "cell_type": "code",
      "metadata": {
        "id": "oPcUraOAbWhg",
        "colab": {
          "base_uri": "https://localhost:8080/"
        },
        "outputId": "002a1ea2-d19d-444e-ff91-9b6454d9865c"
      },
      "source": [
        "# loading the dataset\n",
        "(X_train, y_train), (X_test, y_test) = cifar10.load_data()"
      ],
      "execution_count": 2,
      "outputs": [
        {
          "output_type": "stream",
          "text": [
            "Downloading data from https://www.cs.toronto.edu/~kriz/cifar-10-python.tar.gz\n",
            "170500096/170498071 [==============================] - 2s 0us/step\n"
          ],
          "name": "stdout"
        }
      ]
    },
    {
      "cell_type": "code",
      "metadata": {
        "id": "LzP5_wNjb3hV"
      },
      "source": [
        "# # building the input vector from the 32x32 pixels\n",
        "X_train = X_train.reshape(X_train.shape[0], 32, 32, 3)\n",
        "X_test = X_test.reshape(X_test.shape[0], 32, 32, 3)\n",
        "X_train = X_train.astype('float32')\n",
        "X_test = X_test.astype('float32')"
      ],
      "execution_count": 3,
      "outputs": []
    },
    {
      "cell_type": "code",
      "metadata": {
        "id": "78Y87xWAb7f2"
      },
      "source": [
        "# normalizing the data to help with the training\n",
        "X_train = (X_train/255)-0.5\n",
        "X_test = (X_test/255)-0.5"
      ],
      "execution_count": 4,
      "outputs": []
    },
    {
      "cell_type": "code",
      "metadata": {
        "id": "AeWHT02fb9T7",
        "colab": {
          "base_uri": "https://localhost:8080/"
        },
        "outputId": "b7552f74-65ee-46a3-b6f2-55c12ac1a5c3"
      },
      "source": [
        "# one-hot encoding using keras' numpy-related utilities\n",
        "n_classes = 10\n",
        "print(\"no one-hot encoding: \", y_train.shape)\n",
        "Y_train = np_utils.to_categorical(y_train, n_classes)\n",
        "Y_test = np_utils.to_categorical(y_test, n_classes)\n",
        "print(\"one hot encoding: \", Y_train.shape)"
      ],
      "execution_count": 5,
      "outputs": [
        {
          "output_type": "stream",
          "text": [
            "no one-hot encoding:  (50000, 1)\n",
            "one hot encoding:  (50000, 10)\n"
          ],
          "name": "stdout"
        }
      ]
    },
    {
      "cell_type": "code",
      "metadata": {
        "id": "whwxDeuOb-xd",
        "colab": {
          "base_uri": "https://localhost:8080/"
        },
        "outputId": "8922890f-cd18-4b7a-a226-aa4a31af37c7"
      },
      "source": [
        "# building a linear stack of layers with the sequential model\n",
        "model = Sequential()\n",
        "\n",
        "# convolutional layer\n",
        "model.add(Conv2D(50, kernel_size=(3,3), strides=(1,1), padding='same', activation='relu', input_shape=(32, 32, 3)))\n",
        "\n",
        "# convolutional layer\n",
        "model.add(Conv2D(75, kernel_size=(3,3), strides=(1,1), padding='same', activation='relu'))\n",
        "model.add(MaxPool2D(pool_size=(2,2)))\n",
        "model.add(Dropout(0.25))\n",
        "\n",
        "model.add(Conv2D(125, kernel_size=(3,3), strides=(1,1), padding='same', activation='relu'))\n",
        "model.add(MaxPool2D(pool_size=(2,2)))\n",
        "model.add(Dropout(0.25))\n",
        "\n",
        "# flatten output of conv\n",
        "model.add(Flatten())\n",
        "\n",
        "# hidden layer\n",
        "model.add(Dense(500, activation='relu'))\n",
        "model.add(Dropout(0.4))\n",
        "model.add(Dense(250, activation='relu'))\n",
        "model.add(Dropout(0.3))\n",
        "# output layer\n",
        "model.add(Dense(10, activation='softmax'))\n",
        "print(model.summary())"
      ],
      "execution_count": 10,
      "outputs": [
        {
          "output_type": "stream",
          "text": [
            "Model: \"sequential_1\"\n",
            "_________________________________________________________________\n",
            "Layer (type)                 Output Shape              Param #   \n",
            "=================================================================\n",
            "conv2d_3 (Conv2D)            (None, 32, 32, 50)        1400      \n",
            "_________________________________________________________________\n",
            "conv2d_4 (Conv2D)            (None, 32, 32, 75)        33825     \n",
            "_________________________________________________________________\n",
            "max_pooling2d_2 (MaxPooling2 (None, 16, 16, 75)        0         \n",
            "_________________________________________________________________\n",
            "dropout_4 (Dropout)          (None, 16, 16, 75)        0         \n",
            "_________________________________________________________________\n",
            "conv2d_5 (Conv2D)            (None, 16, 16, 125)       84500     \n",
            "_________________________________________________________________\n",
            "max_pooling2d_3 (MaxPooling2 (None, 8, 8, 125)         0         \n",
            "_________________________________________________________________\n",
            "dropout_5 (Dropout)          (None, 8, 8, 125)         0         \n",
            "_________________________________________________________________\n",
            "flatten_1 (Flatten)          (None, 8000)              0         \n",
            "_________________________________________________________________\n",
            "dense_3 (Dense)              (None, 500)               4000500   \n",
            "_________________________________________________________________\n",
            "dropout_6 (Dropout)          (None, 500)               0         \n",
            "_________________________________________________________________\n",
            "dense_4 (Dense)              (None, 250)               125250    \n",
            "_________________________________________________________________\n",
            "dropout_7 (Dropout)          (None, 250)               0         \n",
            "_________________________________________________________________\n",
            "dense_5 (Dense)              (None, 10)                2510      \n",
            "=================================================================\n",
            "Total params: 4,247,985\n",
            "Trainable params: 4,247,985\n",
            "Non-trainable params: 0\n",
            "_________________________________________________________________\n",
            "None\n"
          ],
          "name": "stdout"
        }
      ]
    },
    {
      "cell_type": "code",
      "metadata": {
        "id": "xu1gfzGfcAeu",
        "colab": {
          "base_uri": "https://localhost:8080/"
        },
        "outputId": "26b35414-ec00-4682-93bb-4af6f2a7e8b2"
      },
      "source": [
        "# compiling the sequential model\n",
        "model.compile(loss='categorical_crossentropy', metrics=['accuracy'], optimizer='adam')\n",
        "\n",
        "# training the model for 10 epochs\n",
        "model.fit(X_train, Y_train, batch_size=128, epochs=10)"
      ],
      "execution_count": 11,
      "outputs": [
        {
          "output_type": "stream",
          "text": [
            "Epoch 1/10\n",
            "391/391 [==============================] - 7s 19ms/step - loss: 1.4584 - accuracy: 0.4699\n",
            "Epoch 2/10\n",
            "391/391 [==============================] - 7s 19ms/step - loss: 0.9998 - accuracy: 0.6461\n",
            "Epoch 3/10\n",
            "391/391 [==============================] - 7s 19ms/step - loss: 0.8328 - accuracy: 0.7099\n",
            "Epoch 4/10\n",
            "391/391 [==============================] - 7s 19ms/step - loss: 0.7245 - accuracy: 0.7453\n",
            "Epoch 5/10\n",
            "391/391 [==============================] - 7s 19ms/step - loss: 0.6448 - accuracy: 0.7755\n",
            "Epoch 6/10\n",
            "391/391 [==============================] - 7s 18ms/step - loss: 0.5771 - accuracy: 0.7988\n",
            "Epoch 7/10\n",
            "391/391 [==============================] - 7s 19ms/step - loss: 0.5187 - accuracy: 0.8177\n",
            "Epoch 8/10\n",
            "391/391 [==============================] - 7s 18ms/step - loss: 0.4651 - accuracy: 0.8359\n",
            "Epoch 9/10\n",
            "391/391 [==============================] - 7s 19ms/step - loss: 0.4217 - accuracy: 0.8541\n",
            "Epoch 10/10\n",
            "391/391 [==============================] - 7s 19ms/step - loss: 0.3949 - accuracy: 0.8604\n"
          ],
          "name": "stdout"
        },
        {
          "output_type": "execute_result",
          "data": {
            "text/plain": [
              "<tensorflow.python.keras.callbacks.History at 0x7f6a14605630>"
            ]
          },
          "metadata": {
            "tags": []
          },
          "execution_count": 11
        }
      ]
    },
    {
      "cell_type": "code",
      "metadata": {
        "id": "boo3aOincsHD",
        "colab": {
          "base_uri": "https://localhost:8080/"
        },
        "outputId": "cd05f0b0-f697-4413-d037-45c9a3977b03"
      },
      "source": [
        "performance = model.evaluate(X_test, Y_test)\n",
        "print(\"Accuracy on Test samples: {0}\".format(performance[1]))"
      ],
      "execution_count": 8,
      "outputs": [
        {
          "output_type": "stream",
          "text": [
            "313/313 [==============================] - 1s 3ms/step - loss: 0.6420 - accuracy: 0.7913\n",
            "Accuracy on Test samples: 0.7912999987602234\n"
          ],
          "name": "stdout"
        }
      ]
    },
    {
      "cell_type": "code",
      "metadata": {
        "id": "iuuEosRErnVl"
      },
      "source": [
        ""
      ],
      "execution_count": 8,
      "outputs": []
    }
  ]
}