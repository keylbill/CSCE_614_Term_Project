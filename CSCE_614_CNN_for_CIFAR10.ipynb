{
  "nbformat": 4,
  "nbformat_minor": 0,
  "metadata": {
    "colab": {
      "name": "CSCE 614 CNN for CIFAR10",
      "provenance": [],
      "collapsed_sections": [],
      "authorship_tag": "ABX9TyP7DQYEmOzahRyj1csiVc5M",
      "include_colab_link": true
    },
    "kernelspec": {
      "name": "python3",
      "display_name": "Python 3"
    },
    "accelerator": "GPU"
  },
  "cells": [
    {
      "cell_type": "markdown",
      "metadata": {
        "id": "view-in-github",
        "colab_type": "text"
      },
      "source": [
        "<a href=\"https://colab.research.google.com/github/michellbrito/CSCE_614_Term_Project/blob/main/CSCE_614_CNN_for_CIFAR10.ipynb\" target=\"_parent\"><img src=\"https://colab.research.google.com/assets/colab-badge.svg\" alt=\"Open In Colab\"/></a>"
      ]
    },
    {
      "cell_type": "markdown",
      "metadata": {
        "id": "eyg9rJRvyKKh"
      },
      "source": [
        "#Package to install"
      ]
    },
    {
      "cell_type": "code",
      "metadata": {
        "id": "W3GpB_mmxqLN"
      },
      "source": [
        "#to install the measure metrics tool\n",
        "#!pip install wandb"
      ],
      "execution_count": null,
      "outputs": []
    },
    {
      "cell_type": "markdown",
      "metadata": {
        "id": "xxX_PgwryNBU"
      },
      "source": [
        "#Libraries"
      ]
    },
    {
      "cell_type": "code",
      "metadata": {
        "id": "zQleibEwbTKz"
      },
      "source": [
        "# keras imports for the dataset and building our neural network\n",
        "from keras.datasets import cifar10\n",
        "#basics\n",
        "from math import floor, sqrt, pi\n",
        "from random import sample\n",
        "import time\n",
        "import timeit\n",
        "#helpful progress bar\n",
        "from tqdm.notebook import tqdm, trange\n",
        "\n",
        "import warnings\n",
        "warnings.filterwarnings(\"ignore\")\n",
        "from keras.datasets import mnist\n",
        "import matplotlib.pyplot as plt\n",
        "import numpy as np\n",
        "from keras.utils import to_categorical\n",
        "\n",
        "from keras.layers import Dense, Dropout, Conv2D, MaxPool2D, Flatten\n",
        "import warnings\n",
        "warnings.filterwarnings(\"ignore\")  # Ignore some warning logs\n",
        "from keras.models import Sequential\n",
        "\n",
        "import tensorflow as tf\n",
        "from tensorflow.keras.layers import Conv2D, Flatten, MaxPooling2D\n",
        "from keras.utils import to_categorical\n",
        "from keras.models import Sequential\n",
        "from keras.layers import Dense, Dropout\n",
        "from hyperopt import hp, fmin, tpe, STATUS_OK, Trials\n",
        "\n",
        "from sklearn.model_selection import cross_validate, train_test_split\n"
      ],
      "execution_count": null,
      "outputs": []
    },
    {
      "cell_type": "markdown",
      "metadata": {
        "id": "MhWHYzqcyPmo"
      },
      "source": [
        "#Measuring Metrics\n",
        "1) run the code below\n",
        "2) click on the link\n",
        "3) sign up if you need to\n",
        "4) copy the code it gives you\n",
        "5) paste it here\n",
        "6) go back to the website, go to metrics. You will be able to see the metrics from there."
      ]
    },
    {
      "cell_type": "code",
      "metadata": {
        "colab": {
          "base_uri": "https://localhost:8080/",
          "height": 650
        },
        "id": "GgivBkGxuGIO",
        "outputId": "a14a2b35-f201-42c1-f471-94fbfe972217"
      },
      "source": [
        "import wandb\n",
        "wandb.init()"
      ],
      "execution_count": null,
      "outputs": [
        {
          "output_type": "display_data",
          "data": {
            "application/javascript": [
              "\n",
              "        window._wandbApiKey = new Promise((resolve, reject) => {\n",
              "            function loadScript(url) {\n",
              "            return new Promise(function(resolve, reject) {\n",
              "                let newScript = document.createElement(\"script\");\n",
              "                newScript.onerror = reject;\n",
              "                newScript.onload = resolve;\n",
              "                document.body.appendChild(newScript);\n",
              "                newScript.src = url;\n",
              "            });\n",
              "            }\n",
              "            loadScript(\"https://cdn.jsdelivr.net/npm/postmate/build/postmate.min.js\").then(() => {\n",
              "            const iframe = document.createElement('iframe')\n",
              "            iframe.style.cssText = \"width:0;height:0;border:none\"\n",
              "            document.body.appendChild(iframe)\n",
              "            const handshake = new Postmate({\n",
              "                container: iframe,\n",
              "                url: 'https://wandb.ai/authorize'\n",
              "            });\n",
              "            const timeout = setTimeout(() => reject(\"Couldn't auto authenticate\"), 5000)\n",
              "            handshake.then(function(child) {\n",
              "                child.on('authorize', data => {\n",
              "                    clearTimeout(timeout)\n",
              "                    resolve(data)\n",
              "                });\n",
              "            });\n",
              "            })\n",
              "        });\n",
              "    "
            ],
            "text/plain": [
              "<IPython.core.display.Javascript object>"
            ]
          },
          "metadata": {
            "tags": []
          }
        },
        {
          "output_type": "stream",
          "text": [
            "\u001b[34m\u001b[1mwandb\u001b[0m: You can find your API key in your browser here: https://wandb.ai/authorize\n"
          ],
          "name": "stderr"
        },
        {
          "output_type": "stream",
          "text": [
            "wandb: Paste an API key from your profile and hit enter: ··········\n"
          ],
          "name": "stdout"
        },
        {
          "output_type": "stream",
          "text": [
            "\u001b[34m\u001b[1mwandb\u001b[0m: Appending key for api.wandb.ai to your netrc file: /root/.netrc\n"
          ],
          "name": "stderr"
        },
        {
          "output_type": "display_data",
          "data": {
            "text/html": [
              "\n",
              "                Tracking run with wandb version 0.10.11<br/>\n",
              "                Syncing run <strong style=\"color:#cdcd00\">ethereal-oath-1</strong> to <a href=\"https://wandb.ai\" target=\"_blank\">Weights & Biases</a> <a href=\"https://docs.wandb.com/integrations/jupyter.html\" target=\"_blank\">(Documentation)</a>.<br/>\n",
              "                Project page: <a href=\"https://wandb.ai/killbill/uncategorized\" target=\"_blank\">https://wandb.ai/killbill/uncategorized</a><br/>\n",
              "                Run page: <a href=\"https://wandb.ai/killbill/uncategorized/runs/zmeyqktu\" target=\"_blank\">https://wandb.ai/killbill/uncategorized/runs/zmeyqktu</a><br/>\n",
              "                Run data is saved locally in <code>/content/wandb/run-20201126_084411-zmeyqktu</code><br/><br/>\n",
              "            "
            ],
            "text/plain": [
              "<IPython.core.display.HTML object>"
            ]
          },
          "metadata": {
            "tags": []
          }
        },
        {
          "output_type": "execute_result",
          "data": {
            "text/plain": [
              "<wandb.sdk.wandb_run.Run at 0x7f339b0f2550>"
            ],
            "text/html": [
              "<h1>Run(zmeyqktu)</h1><p></p><iframe src=\"https://wandb.ai/killbill/uncategorized/runs/zmeyqktu\" style=\"border:none;width:100%;height:400px\"></iframe>"
            ]
          },
          "metadata": {
            "tags": []
          },
          "execution_count": 15
        }
      ]
    },
    {
      "cell_type": "markdown",
      "metadata": {
        "id": "E1L0QTx2yUK9"
      },
      "source": [
        "Testing GPU. If \"/device:GPU:0\", that means it is using GPU for workload processing, otherwise, if \" \", then it is using CPU for workload processing"
      ]
    },
    {
      "cell_type": "code",
      "metadata": {
        "colab": {
          "base_uri": "https://localhost:8080/",
          "height": 35
        },
        "id": "dN7wtiT3QOWo",
        "outputId": "c3eafba5-602b-4b16-de4f-9b05e1f2b7f7"
      },
      "source": [
        "tf.test.gpu_device_name()"
      ],
      "execution_count": null,
      "outputs": [
        {
          "output_type": "execute_result",
          "data": {
            "application/vnd.google.colaboratory.intrinsic+json": {
              "type": "string"
            },
            "text/plain": [
              "'/device:GPU:0'"
            ]
          },
          "metadata": {
            "tags": []
          },
          "execution_count": 3
        }
      ]
    },
    {
      "cell_type": "markdown",
      "metadata": {
        "id": "WvDhg7Eayfwy"
      },
      "source": [
        "#Loading the MNIST dataset"
      ]
    },
    {
      "cell_type": "code",
      "metadata": {
        "id": "oPcUraOAbWhg",
        "colab": {
          "base_uri": "https://localhost:8080/",
          "height": 317
        },
        "outputId": "1ca31ff5-f1fa-4be3-f364-9a31f8e50104"
      },
      "source": [
        "# loading the dataset\n",
        "(train_images, train_labels), (test_images, test_labels) = cifar10.load_data()\n",
        "print(\"Visualizing a random image (11th) from training dataset\")\n",
        "_ = plt.imshow(train_images[10])"
      ],
      "execution_count": null,
      "outputs": [
        {
          "output_type": "stream",
          "text": [
            "Downloading data from https://www.cs.toronto.edu/~kriz/cifar-10-python.tar.gz\n",
            "170500096/170498071 [==============================] - 4s 0us/step\n",
            "Visualizing a random image (11th) from training dataset\n"
          ],
          "name": "stdout"
        },
        {
          "output_type": "display_data",
          "data": {
            "image/png": "[encoded data removed]",
            "text/plain": [
              "<Figure size 432x288 with 1 Axes>"
            ]
          },
          "metadata": {
            "tags": [],
            "needs_background": "light"
          }
        }
      ]
    },
    {
      "cell_type": "markdown",
      "metadata": {
        "id": "gt5EAygZyh8D"
      },
      "source": [
        "#Preprocessing and reshaping"
      ]
    },
    {
      "cell_type": "code",
      "metadata": {
        "id": "78Y87xWAb7f2"
      },
      "source": [
        "# normalizing the data to help with the training\n",
        "train_images = (train_images / 255) - 0.5\n",
        "test_images = (test_images / 255) - 0.5"
      ],
      "execution_count": null,
      "outputs": []
    },
    {
      "cell_type": "code",
      "metadata": {
        "id": "LzP5_wNjb3hV",
        "colab": {
          "base_uri": "https://localhost:8080/"
        },
        "outputId": "ec878938-7f3a-46b0-d52d-80c679a10174"
      },
      "source": [
        "# # building the input vector from the 32x32 pixels\n",
        "train_images_3d = train_images.reshape(train_images.shape[0], 32, 32, 3)\n",
        "test_images_3d = test_images.reshape(test_images.shape[0], 32, 32, 3)\n",
        "train_images_3d = train_images_3d.astype('float32')\n",
        "test_images_3d = test_images_3d.astype('float32')\n",
        "print(train_images_3d.shape, test_images_3d.shape)"
      ],
      "execution_count": null,
      "outputs": [
        {
          "output_type": "stream",
          "text": [
            "(50000, 32, 32, 3) (10000, 32, 32, 3)\n"
          ],
          "name": "stdout"
        }
      ]
    },
    {
      "cell_type": "markdown",
      "metadata": {
        "id": "TiAp9uXSylO3"
      },
      "source": [
        "#CNN Neural Network without optimized hyperparameters"
      ]
    },
    {
      "cell_type": "code",
      "metadata": {
        "id": "whwxDeuOb-xd",
        "colab": {
          "base_uri": "https://localhost:8080/"
        },
        "outputId": "d4b915ab-7f87-4a94-dd25-9585cd20167a"
      },
      "source": [
        "model = Sequential([Conv2D(50, kernel_size=(1,1), strides=(1,1), padding='same', activation='relu', input_shape=(32, 32, 3)), \n",
        "          Conv2D(75, kernel_size=(1,1), strides=(1,1), padding='same', activation='relu'), \n",
        "          MaxPooling2D(pool_size=(2,2)), Dropout(0.25),\n",
        "          Conv2D(125, kernel_size=(1,1), strides=(1,1), padding='same', activation='relu'),\n",
        "          MaxPooling2D(pool_size=(2,2)), Dropout(0.25), \n",
        "          Flatten(),\n",
        "          Dense(500, activation='relu'), Dropout(0.4),\n",
        "          Dense(250, activation='relu'), Dropout(0.3),\n",
        "          Dense(10, activation='softmax')])\n",
        "\n",
        "print(model.summary())"
      ],
      "execution_count": null,
      "outputs": [
        {
          "output_type": "stream",
          "text": [
            "Model: \"sequential_31\"\n",
            "_________________________________________________________________\n",
            "Layer (type)                 Output Shape              Param #   \n",
            "=================================================================\n",
            "conv2d_93 (Conv2D)           (None, 32, 32, 50)        200       \n",
            "_________________________________________________________________\n",
            "conv2d_94 (Conv2D)           (None, 32, 32, 75)        3825      \n",
            "_________________________________________________________________\n",
            "max_pooling2d_62 (MaxPooling (None, 16, 16, 75)        0         \n",
            "_________________________________________________________________\n",
            "dropout_124 (Dropout)        (None, 16, 16, 75)        0         \n",
            "_________________________________________________________________\n",
            "conv2d_95 (Conv2D)           (None, 16, 16, 125)       9500      \n",
            "_________________________________________________________________\n",
            "max_pooling2d_63 (MaxPooling (None, 8, 8, 125)         0         \n",
            "_________________________________________________________________\n",
            "dropout_125 (Dropout)        (None, 8, 8, 125)         0         \n",
            "_________________________________________________________________\n",
            "flatten_31 (Flatten)         (None, 8000)              0         \n",
            "_________________________________________________________________\n",
            "dense_93 (Dense)             (None, 500)               4000500   \n",
            "_________________________________________________________________\n",
            "dropout_126 (Dropout)        (None, 500)               0         \n",
            "_________________________________________________________________\n",
            "dense_94 (Dense)             (None, 250)               125250    \n",
            "_________________________________________________________________\n",
            "dropout_127 (Dropout)        (None, 250)               0         \n",
            "_________________________________________________________________\n",
            "dense_95 (Dense)             (None, 10)                2510      \n",
            "=================================================================\n",
            "Total params: 4,141,785\n",
            "Trainable params: 4,141,785\n",
            "Non-trainable params: 0\n",
            "_________________________________________________________________\n",
            "None\n"
          ],
          "name": "stdout"
        }
      ]
    },
    {
      "cell_type": "code",
      "metadata": {
        "id": "xu1gfzGfcAeu",
        "colab": {
          "base_uri": "https://localhost:8080/"
        },
        "outputId": "325e0c56-4304-4b33-bac5-e5f98c12f241"
      },
      "source": [
        "# compiling the sequential model\n",
        "model.compile(loss='categorical_crossentropy', metrics=['accuracy'], optimizer='adam')\n",
        "\n",
        "# training the model for 10 epochs\n",
        "model.fit(train_images_3d, to_categorical(train_labels), epochs=10, batch_size=128,)"
      ],
      "execution_count": null,
      "outputs": [
        {
          "output_type": "stream",
          "text": [
            "Epoch 1/10\n",
            "391/391 [==============================] - 5s 13ms/step - loss: 1.6764 - accuracy: 0.3912\n",
            "Epoch 2/10\n",
            "391/391 [==============================] - 5s 13ms/step - loss: 1.4082 - accuracy: 0.4927\n",
            "Epoch 3/10\n",
            "391/391 [==============================] - 5s 13ms/step - loss: 1.3084 - accuracy: 0.5303\n",
            "Epoch 4/10\n",
            "391/391 [==============================] - 5s 13ms/step - loss: 1.2393 - accuracy: 0.5576\n",
            "Epoch 5/10\n",
            "391/391 [==============================] - 5s 13ms/step - loss: 1.1845 - accuracy: 0.5788\n",
            "Epoch 6/10\n",
            "391/391 [==============================] - 5s 13ms/step - loss: 1.1486 - accuracy: 0.5912\n",
            "Epoch 7/10\n",
            "391/391 [==============================] - 5s 13ms/step - loss: 1.0975 - accuracy: 0.6089\n",
            "Epoch 8/10\n",
            "391/391 [==============================] - 5s 13ms/step - loss: 1.0691 - accuracy: 0.6203\n",
            "Epoch 9/10\n",
            "391/391 [==============================] - 5s 13ms/step - loss: 1.0292 - accuracy: 0.6355\n",
            "Epoch 10/10\n",
            "391/391 [==============================] - 5s 13ms/step - loss: 1.0022 - accuracy: 0.6439\n"
          ],
          "name": "stdout"
        },
        {
          "output_type": "execute_result",
          "data": {
            "text/plain": [
              "<tensorflow.python.keras.callbacks.History at 0x7f339b013860>"
            ]
          },
          "metadata": {
            "tags": []
          },
          "execution_count": 17
        }
      ]
    },
    {
      "cell_type": "code",
      "metadata": {
        "id": "boo3aOincsHD",
        "colab": {
          "base_uri": "https://localhost:8080/"
        },
        "outputId": "6c462a76-a5f5-42c4-c2f2-55fd62bd3819"
      },
      "source": [
        "performance = model.evaluate(test_images_3d, to_categorical(test_labels))\n",
        "print(\"Accuracy on Test samples: {0}\".format(performance[1]))"
      ],
      "execution_count": null,
      "outputs": [
        {
          "output_type": "stream",
          "text": [
            "313/313 [==============================] - 1s 3ms/step - loss: 1.0592 - accuracy: 0.6252\n",
            "Accuracy on Test samples: 0.6251999735832214\n"
          ],
          "name": "stdout"
        }
      ]
    },
    {
      "cell_type": "markdown",
      "metadata": {
        "id": "QIrZM86bUl8j"
      },
      "source": [
        "#HyperOpt: Optimizing Hyperparameters - DO NOT RUN THIS; SKIP SECTION"
      ]
    },
    {
      "cell_type": "code",
      "metadata": {
        "id": "iuuEosRErnVl",
        "colab": {
          "base_uri": "https://localhost:8080/"
        },
        "outputId": "067d12f3-6bc6-4712-e082-773eca654395"
      },
      "source": [
        "from hyperopt import hp, fmin, tpe, STATUS_OK, Trials\n",
        "\n",
        "\n",
        "def optimize_cnn(hyperparameter):\n",
        "  \n",
        "  cnn_model = Sequential([Conv2D(50, kernel_size=hyperparameter['conv_kernel_size'], strides = hyperparameter['conv_stride'], padding='same', activation=hyperparameter['activation'], input_shape=(32,32,3)), \n",
        "          Conv2D(75, kernel_size=hyperparameter['conv_kernel_size'], strides = hyperparameter['conv_stride'], padding='same', activation=hyperparameter['activation']), \n",
        "          MaxPooling2D(pool_size=(2,2)), Dropout(hyperparameter['dropout_prob']),\n",
        "          Conv2D(125, kernel_size=hyperparameter['conv_kernel_size'], strides = hyperparameter['conv_stride'], padding='same', activation=hyperparameter['activation']),\n",
        "          MaxPooling2D(pool_size=(2,2)), Dropout(hyperparameter['dropout_prob']), \n",
        "          Flatten(),\n",
        "          Dense(500, activation='relu'), Dropout(0.4),\n",
        "          Dense(250, activation='relu'), Dropout(0.3),\n",
        "          Dense(10, activation='softmax')])\n",
        "  \n",
        "\n",
        "  cnn_model.compile(optimizer=hyperparameter['optimizer'], loss='categorical_crossentropy', metrics=['accuracy'],)\n",
        "\n",
        "  # create a training (50K samples) and validation (10K samples) subsets from training images.\n",
        "  # Validation subset will be used to find the optimal hyperparameters\n",
        "  train_X, train_y = train_images_3d[:40000], train_labels[:40000]\n",
        "  valid_X, valid_y = train_images_3d[40000:], train_labels[40000:]\n",
        "\n",
        "  _ = cnn_model.fit(train_X, to_categorical(train_y), epochs=10, batch_size=128, verbose=0)\n",
        "  # Evaluate accuracy on validation data\n",
        "  performance = cnn_model.evaluate(valid_X, to_categorical(valid_y), verbose=0)\n",
        "\n",
        "  print(\"Hyperparameters: \", hyperparameter, \"Accuracy: \", performance[1])\n",
        "  print(\"----------------------------------------------------\")\n",
        "  # We want to minimize loss i.e. negative of accuracy\n",
        "  return({\"status\": STATUS_OK, \"loss\": -1*performance[1], \"model\":cnn_model})\n",
        "  \n",
        "\n",
        "# Define search space for hyper-parameters\n",
        "space = {\n",
        "    # The kernel_size for convolutions:\n",
        "    'conv_kernel_size': hp.choice('conv_kernel_size', [1, 3, 5]),\n",
        "    # Uniform distribution in finding appropriate dropout values\n",
        "    'dropout_prob': hp.uniform('dropout_prob', 0.1, 0.35),\n",
        "    #choice of stride\n",
        "    'conv_stride': hp.choice('conv_stride',[1,2]),\n",
        "    #choice of activation\n",
        "    'activation': hp.choice('activation', ['relu','selu','tanh']),\n",
        "    # Choice of optimizer \n",
        "    'optimizer': hp.choice('optimizer', ['Adam', 'sgd']),\n",
        "}\n",
        "\n",
        "trials = Trials()\n",
        "\n",
        "# Find the best hyperparameters\n",
        "best = fmin(\n",
        "        optimize_cnn,\n",
        "        space,\n",
        "        algo=tpe.suggest,\n",
        "        trials=trials,\n",
        "        max_evals=25,\n",
        "    )\n",
        "\n",
        "print(\"==================================\")\n",
        "print(\"Best Hyperparameters\", best)\n",
        "\n",
        "# You can retrain the final model with optimal hyperparameters on train+validation data\n",
        "\n",
        "# Or you can use the model returned directly\n",
        "# Find trial which has minimum loss value and use that model to perform evaluation on the test data\n",
        "test_model = trials.results[np.argmin([r['loss'] for r in trials.results])]['model']\n",
        "\n",
        "performance = test_model.evaluate(test_images_3d, to_categorical(test_labels))\n",
        "\n",
        "print(\"==================================\")\n",
        "print(\"Test Accuracy: \", performance[1])"
      ],
      "execution_count": null,
      "outputs": [
        {
          "output_type": "stream",
          "text": [
            "Hyperparameters: \n",
            "{'activation': 'relu', 'conv_kernel_size': 3, 'conv_stride': 2, 'dropout_prob': 0.3083993613180913, 'optimizer': 'Adam'}\n",
            "Accuracy: \n",
            "0.6665999889373779\n",
            "----------------------------------------------------\n",
            "Hyperparameters: \n",
            "{'activation': 'selu', 'conv_kernel_size': 5, 'conv_stride': 2, 'dropout_prob': 0.22768133388328765, 'optimizer': 'sgd'}\n",
            "Accuracy: \n",
            "0.48170000314712524\n",
            "----------------------------------------------------\n",
            "Hyperparameters: \n",
            "{'activation': 'relu', 'conv_kernel_size': 3, 'conv_stride': 1, 'dropout_prob': 0.2236633847214457, 'optimizer': 'Adam'}\n",
            "Accuracy: \n",
            "0.7770000100135803\n",
            "----------------------------------------------------\n",
            "Hyperparameters: \n",
            "{'activation': 'selu', 'conv_kernel_size': 3, 'conv_stride': 1, 'dropout_prob': 0.2920835371625694, 'optimizer': 'sgd'}\n",
            "Accuracy: \n",
            "0.5304999947547913\n",
            "----------------------------------------------------\n",
            "Hyperparameters: \n",
            "{'activation': 'tanh', 'conv_kernel_size': 1, 'conv_stride': 2, 'dropout_prob': 0.19308644300479122, 'optimizer': 'sgd'}\n",
            "Accuracy: \n",
            "0.2361000031232834\n",
            "----------------------------------------------------\n",
            "Hyperparameters: \n",
            "{'activation': 'tanh', 'conv_kernel_size': 3, 'conv_stride': 1, 'dropout_prob': 0.2703546679887436, 'optimizer': 'sgd'}\n",
            "Accuracy: \n",
            "0.4950999915599823\n",
            "----------------------------------------------------\n",
            "Hyperparameters: \n",
            "{'activation': 'tanh', 'conv_kernel_size': 1, 'conv_stride': 2, 'dropout_prob': 0.1522490091861437, 'optimizer': 'Adam'}\n",
            "Accuracy: \n",
            "0.35199999809265137\n",
            "----------------------------------------------------\n",
            "Hyperparameters: \n",
            "{'activation': 'relu', 'conv_kernel_size': 3, 'conv_stride': 2, 'dropout_prob': 0.2582747499833027, 'optimizer': 'Adam'}\n",
            "Accuracy: \n",
            "0.6761000156402588\n",
            "----------------------------------------------------\n",
            "Hyperparameters: \n",
            "{'activation': 'selu', 'conv_kernel_size': 1, 'conv_stride': 1, 'dropout_prob': 0.19410129445473562, 'optimizer': 'sgd'}\n",
            "Accuracy: \n",
            "0.4465000033378601\n",
            "----------------------------------------------------\n",
            "Hyperparameters: \n",
            "{'activation': 'tanh', 'conv_kernel_size': 5, 'conv_stride': 1, 'dropout_prob': 0.29124931515681896, 'optimizer': 'sgd'}\n",
            "Accuracy: \n",
            "0.5281999707221985\n",
            "----------------------------------------------------\n",
            "Hyperparameters: \n",
            "{'activation': 'tanh', 'conv_kernel_size': 1, 'conv_stride': 1, 'dropout_prob': 0.11180524852999213, 'optimizer': 'sgd'}\n",
            "Accuracy: \n",
            "0.4733000099658966\n",
            "----------------------------------------------------\n",
            "Hyperparameters: \n",
            "{'activation': 'relu', 'conv_kernel_size': 5, 'conv_stride': 1, 'dropout_prob': 0.34566209770889444, 'optimizer': 'Adam'}\n",
            "Accuracy: \n",
            "0.7748000025749207\n",
            "----------------------------------------------------\n",
            "Hyperparameters: \n",
            "{'activation': 'tanh', 'conv_kernel_size': 1, 'conv_stride': 1, 'dropout_prob': 0.10297295285824007, 'optimizer': 'sgd'}\n",
            "Accuracy: \n",
            "0.47699999809265137\n",
            "----------------------------------------------------\n",
            "Hyperparameters: \n",
            "{'activation': 'tanh', 'conv_kernel_size': 3, 'conv_stride': 1, 'dropout_prob': 0.2393852047747186, 'optimizer': 'sgd'}\n",
            "Accuracy: \n",
            "0.5080999732017517\n",
            "----------------------------------------------------\n",
            "Hyperparameters: \n",
            "{'activation': 'tanh', 'conv_kernel_size': 1, 'conv_stride': 2, 'dropout_prob': 0.33265561016536793, 'optimizer': 'Adam'}\n",
            "Accuracy: \n",
            "0.33250001072883606\n",
            "----------------------------------------------------\n",
            "Hyperparameters: \n",
            "{'activation': 'relu', 'conv_kernel_size': 1, 'conv_stride': 2, 'dropout_prob': 0.23372820942443606, 'optimizer': 'Adam'}\n",
            "Accuracy: \n",
            "0.33799999952316284\n",
            "----------------------------------------------------\n",
            "Hyperparameters: \n",
            "{'activation': 'relu', 'conv_kernel_size': 5, 'conv_stride': 2, 'dropout_prob': 0.2218369404885422, 'optimizer': 'sgd'}\n",
            "Accuracy: \n",
            "0.36899998784065247\n",
            "----------------------------------------------------\n",
            "Hyperparameters: \n",
            "{'activation': 'tanh', 'conv_kernel_size': 3, 'conv_stride': 2, 'dropout_prob': 0.1647057682700197, 'optimizer': 'sgd'}\n",
            "Accuracy: \n",
            "0.3718999922275543\n",
            "----------------------------------------------------\n",
            "Hyperparameters: \n",
            "{'activation': 'selu', 'conv_kernel_size': 1, 'conv_stride': 1, 'dropout_prob': 0.27310430671742525, 'optimizer': 'sgd'}\n",
            "Accuracy: \n",
            "0.44679999351501465\n",
            "----------------------------------------------------\n",
            "Hyperparameters: \n",
            "{'activation': 'relu', 'conv_kernel_size': 1, 'conv_stride': 2, 'dropout_prob': 0.32912091072951644, 'optimizer': 'Adam'}\n",
            "Accuracy: \n",
            "0.31299999356269836\n",
            "----------------------------------------------------\n",
            "Hyperparameters: \n",
            "{'activation': 'relu', 'conv_kernel_size': 5, 'conv_stride': 1, 'dropout_prob': 0.2027057673026432, 'optimizer': 'Adam'}\n",
            "Accuracy: \n",
            "0.7685999870300293\n",
            "----------------------------------------------------\n",
            "Hyperparameters: \n",
            "{'activation': 'relu', 'conv_kernel_size': 5, 'conv_stride': 1, 'dropout_prob': 0.1561154670513309, 'optimizer': 'Adam'}\n",
            "Accuracy: \n",
            "0.7687000036239624\n",
            "----------------------------------------------------\n",
            "Hyperparameters: \n",
            "{'activation': 'relu', 'conv_kernel_size': 5, 'conv_stride': 1, 'dropout_prob': 0.3418069551561593, 'optimizer': 'Adam'}\n",
            "Accuracy: \n",
            "0.7735999822616577\n",
            "----------------------------------------------------\n",
            "Hyperparameters: \n",
            "{'activation': 'relu', 'conv_kernel_size': 3, 'conv_stride': 1, 'dropout_prob': 0.17846854957097583, 'optimizer': 'Adam'}\n",
            "Accuracy: \n",
            "0.7767000198364258\n",
            "----------------------------------------------------\n",
            "Hyperparameters: \n",
            "{'activation': 'relu', 'conv_kernel_size': 3, 'conv_stride': 1, 'dropout_prob': 0.1272802112037128, 'optimizer': 'Adam'}\n",
            "Accuracy: \n",
            "0.78329998254776\n",
            "----------------------------------------------------\n",
            "100%|██████████| 25/25 [17:34<00:00, 42.18s/it, best loss: -0.78329998254776]\n",
            "==================================\n",
            "Best Hyperparameters {'activation': 0, 'conv_kernel_size': 1, 'conv_stride': 0, 'dropout_prob': 0.1272802112037128, 'optimizer': 0}\n",
            "313/313 [==============================] - 1s 3ms/step - loss: 0.7653 - accuracy: 0.7685\n",
            "==================================\n",
            "Test Accuracy:  0.7684999704360962\n"
          ],
          "name": "stdout"
        }
      ]
    },
    {
      "cell_type": "markdown",
      "metadata": {
        "id": "BhkesaCBnDTt"
      },
      "source": [
        "#Model with Optimized Hyperparameters"
      ]
    },
    {
      "cell_type": "code",
      "metadata": {
        "id": "nqplscb1o2uA",
        "colab": {
          "base_uri": "https://localhost:8080/"
        },
        "outputId": "6ee38f6d-b6dc-4b8c-a8df-39b6bc53845a"
      },
      "source": [
        "model = Sequential([Conv2D(50, kernel_size=(3,3), strides=(1,1), padding='same', activation='relu', input_shape=(32, 32, 3)), \n",
        "          Conv2D(75, kernel_size=(3,3), strides=(1,1), padding='same', activation='relu'), \n",
        "          MaxPooling2D(pool_size=(2,2)), Dropout(0.29459112305518087),\n",
        "          Conv2D(125, kernel_size=(3,3), strides=(1,1), padding='same', activation='relu'),\n",
        "          MaxPooling2D(pool_size=(2,2)), Dropout(0.29459112305518087), \n",
        "          Flatten(),\n",
        "          Dense(500, activation='relu'), Dropout(0.4),\n",
        "          Dense(250, activation='relu'), Dropout(0.3),\n",
        "          Dense(10, activation='softmax')])\n",
        "\n",
        "print(model.summary())"
      ],
      "execution_count": null,
      "outputs": [
        {
          "output_type": "stream",
          "text": [
            "Model: \"sequential_32\"\n",
            "_________________________________________________________________\n",
            "Layer (type)                 Output Shape              Param #   \n",
            "=================================================================\n",
            "conv2d_96 (Conv2D)           (None, 32, 32, 50)        1400      \n",
            "_________________________________________________________________\n",
            "conv2d_97 (Conv2D)           (None, 32, 32, 75)        33825     \n",
            "_________________________________________________________________\n",
            "max_pooling2d_64 (MaxPooling (None, 16, 16, 75)        0         \n",
            "_________________________________________________________________\n",
            "dropout_128 (Dropout)        (None, 16, 16, 75)        0         \n",
            "_________________________________________________________________\n",
            "conv2d_98 (Conv2D)           (None, 16, 16, 125)       84500     \n",
            "_________________________________________________________________\n",
            "max_pooling2d_65 (MaxPooling (None, 8, 8, 125)         0         \n",
            "_________________________________________________________________\n",
            "dropout_129 (Dropout)        (None, 8, 8, 125)         0         \n",
            "_________________________________________________________________\n",
            "flatten_32 (Flatten)         (None, 8000)              0         \n",
            "_________________________________________________________________\n",
            "dense_96 (Dense)             (None, 500)               4000500   \n",
            "_________________________________________________________________\n",
            "dropout_130 (Dropout)        (None, 500)               0         \n",
            "_________________________________________________________________\n",
            "dense_97 (Dense)             (None, 250)               125250    \n",
            "_________________________________________________________________\n",
            "dropout_131 (Dropout)        (None, 250)               0         \n",
            "_________________________________________________________________\n",
            "dense_98 (Dense)             (None, 10)                2510      \n",
            "=================================================================\n",
            "Total params: 4,247,985\n",
            "Trainable params: 4,247,985\n",
            "Non-trainable params: 0\n",
            "_________________________________________________________________\n",
            "None\n"
          ],
          "name": "stdout"
        }
      ]
    },
    {
      "cell_type": "code",
      "metadata": {
        "colab": {
          "base_uri": "https://localhost:8080/"
        },
        "id": "3NqGJ0XonJXn",
        "outputId": "1d422a0d-ce66-456e-b5a4-63c878f09ad8"
      },
      "source": [
        "# compiling the sequential model\n",
        "model.compile(loss='categorical_crossentropy', metrics=['accuracy'], optimizer='adam')\n",
        "\n",
        "# training the model for 10 epochs\n",
        "model.fit(train_images_3d, to_categorical(train_labels), epochs=10, batch_size=128,)"
      ],
      "execution_count": null,
      "outputs": [
        {
          "output_type": "stream",
          "text": [
            "Epoch 1/10\n",
            "391/391 [==============================] - 8s 20ms/step - loss: 1.4895 - accuracy: 0.4575\n",
            "Epoch 2/10\n",
            "391/391 [==============================] - 8s 20ms/step - loss: 1.0372 - accuracy: 0.6326\n",
            "Epoch 3/10\n",
            "391/391 [==============================] - 8s 20ms/step - loss: 0.8603 - accuracy: 0.6991\n",
            "Epoch 4/10\n",
            "391/391 [==============================] - 8s 20ms/step - loss: 0.7432 - accuracy: 0.7416\n",
            "Epoch 5/10\n",
            "391/391 [==============================] - 8s 20ms/step - loss: 0.6636 - accuracy: 0.7678\n",
            "Epoch 6/10\n",
            "391/391 [==============================] - 8s 20ms/step - loss: 0.5986 - accuracy: 0.7887\n",
            "Epoch 7/10\n",
            "391/391 [==============================] - 8s 20ms/step - loss: 0.5428 - accuracy: 0.8098\n",
            "Epoch 8/10\n",
            "391/391 [==============================] - 8s 19ms/step - loss: 0.4942 - accuracy: 0.8257\n",
            "Epoch 9/10\n",
            "391/391 [==============================] - 8s 19ms/step - loss: 0.4523 - accuracy: 0.8411\n",
            "Epoch 10/10\n",
            "391/391 [==============================] - 8s 19ms/step - loss: 0.4176 - accuracy: 0.8534\n"
          ],
          "name": "stdout"
        },
        {
          "output_type": "execute_result",
          "data": {
            "text/plain": [
              "<tensorflow.python.keras.callbacks.History at 0x7f3398e277f0>"
            ]
          },
          "metadata": {
            "tags": []
          },
          "execution_count": 19
        }
      ]
    },
    {
      "cell_type": "code",
      "metadata": {
        "colab": {
          "base_uri": "https://localhost:8080/"
        },
        "id": "ULSrorm5nfcZ",
        "outputId": "4fe72856-4a8c-4e23-bc47-5dbf2f5a7e80"
      },
      "source": [
        "performance = model.evaluate(test_images_3d, to_categorical(test_labels))\n",
        "print(\"Accuracy on Test samples: {0}\".format(performance[1]))"
      ],
      "execution_count": null,
      "outputs": [
        {
          "output_type": "stream",
          "text": [
            "313/313 [==============================] - 1s 4ms/step - loss: 0.6198 - accuracy: 0.7942\n",
            "Accuracy on Test samples: 0.7942000031471252\n"
          ],
          "name": "stdout"
        }
      ]
    },
    {
      "cell_type": "code",
      "metadata": {
        "id": "KYznwtmmvrPu"
      },
      "source": [
        ""
      ],
      "execution_count": null,
      "outputs": []
    }
  ]
}