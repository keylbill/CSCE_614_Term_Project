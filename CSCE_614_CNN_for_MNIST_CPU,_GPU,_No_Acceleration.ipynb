{
  "nbformat": 4,
  "nbformat_minor": 0,
  "metadata": {
    "accelerator": "GPU",
    "colab": {
      "name": "CSCE 614 CNN for MNIST - CPU, GPU, No Acceleration ",
      "provenance": [],
      "collapsed_sections": [],
      "toc_visible": true,
      "authorship_tag": "ABX9TyObUQxK5BzBHjPaFiCicEe3",
      "include_colab_link": true
    },
    "kernelspec": {
      "display_name": "Python 3",
      "name": "python3"
    },
    "widgets": {
      "application/vnd.jupyter.widget-state+json": {
        "a96485857cd440bba6f7ac508a9217a0": {
          "model_module": "@jupyter-widgets/controls",
          "model_name": "VBoxModel",
          "state": {
            "_view_name": "VBoxView",
            "_dom_classes": [],
            "_model_name": "VBoxModel",
            "_view_module": "@jupyter-widgets/controls",
            "_model_module_version": "1.5.0",
            "_view_count": null,
            "_view_module_version": "1.5.0",
            "box_style": "",
            "layout": "IPY_MODEL_8c2fa05274564a0cb6703dc7f758ed06",
            "_model_module": "@jupyter-widgets/controls",
            "children": [
              "IPY_MODEL_625b80f7561d4add952cfceb8362747c",
              "IPY_MODEL_392ac758f79848c0b4a47f5af268dde4"
            ]
          }
        },
        "8c2fa05274564a0cb6703dc7f758ed06": {
          "model_module": "@jupyter-widgets/base",
          "model_name": "LayoutModel",
          "state": {
            "_view_name": "LayoutView",
            "grid_template_rows": null,
            "right": null,
            "justify_content": null,
            "_view_module": "@jupyter-widgets/base",
            "overflow": null,
            "_model_module_version": "1.2.0",
            "_view_count": null,
            "flex_flow": null,
            "width": null,
            "min_width": null,
            "border": null,
            "align_items": null,
            "bottom": null,
            "_model_module": "@jupyter-widgets/base",
            "top": null,
            "grid_column": null,
            "overflow_y": null,
            "overflow_x": null,
            "grid_auto_flow": null,
            "grid_area": null,
            "grid_template_columns": null,
            "flex": null,
            "_model_name": "LayoutModel",
            "justify_items": null,
            "grid_row": null,
            "max_height": null,
            "align_content": null,
            "visibility": null,
            "align_self": null,
            "height": null,
            "min_height": null,
            "padding": null,
            "grid_auto_rows": null,
            "grid_gap": null,
            "max_width": null,
            "order": null,
            "_view_module_version": "1.2.0",
            "grid_template_areas": null,
            "object_position": null,
            "object_fit": null,
            "grid_auto_columns": null,
            "margin": null,
            "display": null,
            "left": null
          }
        },
        "625b80f7561d4add952cfceb8362747c": {
          "model_module": "@jupyter-widgets/controls",
          "model_name": "LabelModel",
          "state": {
            "_view_name": "LabelView",
            "style": "IPY_MODEL_ebec04ec05a7478ea12221451388d092",
            "_dom_classes": [],
            "description": "",
            "_model_name": "LabelModel",
            "placeholder": "​",
            "_view_module": "@jupyter-widgets/controls",
            "_model_module_version": "1.5.0",
            "value": " 0.00MB of 36.96MB uploaded (0.00MB deduped)\r",
            "_view_count": null,
            "_view_module_version": "1.5.0",
            "description_tooltip": null,
            "_model_module": "@jupyter-widgets/controls",
            "layout": "IPY_MODEL_f86452d0d70c4c1999af1bd06e2247a9"
          }
        },
        "392ac758f79848c0b4a47f5af268dde4": {
          "model_module": "@jupyter-widgets/controls",
          "model_name": "FloatProgressModel",
          "state": {
            "_view_name": "ProgressView",
            "style": "IPY_MODEL_f5959058ba0e49ccac09740cc4027e0b",
            "_dom_classes": [],
            "description": "",
            "_model_name": "FloatProgressModel",
            "bar_style": "",
            "max": 1,
            "_view_module": "@jupyter-widgets/controls",
            "_model_module_version": "1.5.0",
            "value": 0.00006930804637260496,
            "_view_count": null,
            "_view_module_version": "1.5.0",
            "orientation": "horizontal",
            "min": 0,
            "description_tooltip": null,
            "_model_module": "@jupyter-widgets/controls",
            "layout": "IPY_MODEL_6610db63dc84447a93bed20b15bca4e5"
          }
        },
        "ebec04ec05a7478ea12221451388d092": {
          "model_module": "@jupyter-widgets/controls",
          "model_name": "DescriptionStyleModel",
          "state": {
            "_view_name": "StyleView",
            "_model_name": "DescriptionStyleModel",
            "description_width": "",
            "_view_module": "@jupyter-widgets/base",
            "_model_module_version": "1.5.0",
            "_view_count": null,
            "_view_module_version": "1.2.0",
            "_model_module": "@jupyter-widgets/controls"
          }
        },
        "f86452d0d70c4c1999af1bd06e2247a9": {
          "model_module": "@jupyter-widgets/base",
          "model_name": "LayoutModel",
          "state": {
            "_view_name": "LayoutView",
            "grid_template_rows": null,
            "right": null,
            "justify_content": null,
            "_view_module": "@jupyter-widgets/base",
            "overflow": null,
            "_model_module_version": "1.2.0",
            "_view_count": null,
            "flex_flow": null,
            "width": null,
            "min_width": null,
            "border": null,
            "align_items": null,
            "bottom": null,
            "_model_module": "@jupyter-widgets/base",
            "top": null,
            "grid_column": null,
            "overflow_y": null,
            "overflow_x": null,
            "grid_auto_flow": null,
            "grid_area": null,
            "grid_template_columns": null,
            "flex": null,
            "_model_name": "LayoutModel",
            "justify_items": null,
            "grid_row": null,
            "max_height": null,
            "align_content": null,
            "visibility": null,
            "align_self": null,
            "height": null,
            "min_height": null,
            "padding": null,
            "grid_auto_rows": null,
            "grid_gap": null,
            "max_width": null,
            "order": null,
            "_view_module_version": "1.2.0",
            "grid_template_areas": null,
            "object_position": null,
            "object_fit": null,
            "grid_auto_columns": null,
            "margin": null,
            "display": null,
            "left": null
          }
        },
        "f5959058ba0e49ccac09740cc4027e0b": {
          "model_module": "@jupyter-widgets/controls",
          "model_name": "ProgressStyleModel",
          "state": {
            "_view_name": "StyleView",
            "_model_name": "ProgressStyleModel",
            "description_width": "",
            "_view_module": "@jupyter-widgets/base",
            "_model_module_version": "1.5.0",
            "_view_count": null,
            "_view_module_version": "1.2.0",
            "bar_color": null,
            "_model_module": "@jupyter-widgets/controls"
          }
        },
        "6610db63dc84447a93bed20b15bca4e5": {
          "model_module": "@jupyter-widgets/base",
          "model_name": "LayoutModel",
          "state": {
            "_view_name": "LayoutView",
            "grid_template_rows": null,
            "right": null,
            "justify_content": null,
            "_view_module": "@jupyter-widgets/base",
            "overflow": null,
            "_model_module_version": "1.2.0",
            "_view_count": null,
            "flex_flow": null,
            "width": null,
            "min_width": null,
            "border": null,
            "align_items": null,
            "bottom": null,
            "_model_module": "@jupyter-widgets/base",
            "top": null,
            "grid_column": null,
            "overflow_y": null,
            "overflow_x": null,
            "grid_auto_flow": null,
            "grid_area": null,
            "grid_template_columns": null,
            "flex": null,
            "_model_name": "LayoutModel",
            "justify_items": null,
            "grid_row": null,
            "max_height": null,
            "align_content": null,
            "visibility": null,
            "align_self": null,
            "height": null,
            "min_height": null,
            "padding": null,
            "grid_auto_rows": null,
            "grid_gap": null,
            "max_width": null,
            "order": null,
            "_view_module_version": "1.2.0",
            "grid_template_areas": null,
            "object_position": null,
            "object_fit": null,
            "grid_auto_columns": null,
            "margin": null,
            "display": null,
            "left": null
          }
        },
        "a92ce3605c4a4431bec2d4584eb900bf": {
          "model_module": "@jupyter-widgets/controls",
          "model_name": "VBoxModel",
          "state": {
            "_view_name": "VBoxView",
            "_dom_classes": [],
            "_model_name": "VBoxModel",
            "_view_module": "@jupyter-widgets/controls",
            "_model_module_version": "1.5.0",
            "_view_count": null,
            "_view_module_version": "1.5.0",
            "box_style": "",
            "layout": "IPY_MODEL_5b74d47e64a9469ba8ed0b4cc5cebf17",
            "_model_module": "@jupyter-widgets/controls",
            "children": [
              "IPY_MODEL_0de73f27feb9476eb0b9fbf1e241d3dd",
              "IPY_MODEL_8a2a82d694bc40ec942e170cbfa5f743"
            ]
          }
        },
        "5b74d47e64a9469ba8ed0b4cc5cebf17": {
          "model_module": "@jupyter-widgets/base",
          "model_name": "LayoutModel",
          "state": {
            "_view_name": "LayoutView",
            "grid_template_rows": null,
            "right": null,
            "justify_content": null,
            "_view_module": "@jupyter-widgets/base",
            "overflow": null,
            "_model_module_version": "1.2.0",
            "_view_count": null,
            "flex_flow": null,
            "width": null,
            "min_width": null,
            "border": null,
            "align_items": null,
            "bottom": null,
            "_model_module": "@jupyter-widgets/base",
            "top": null,
            "grid_column": null,
            "overflow_y": null,
            "overflow_x": null,
            "grid_auto_flow": null,
            "grid_area": null,
            "grid_template_columns": null,
            "flex": null,
            "_model_name": "LayoutModel",
            "justify_items": null,
            "grid_row": null,
            "max_height": null,
            "align_content": null,
            "visibility": null,
            "align_self": null,
            "height": null,
            "min_height": null,
            "padding": null,
            "grid_auto_rows": null,
            "grid_gap": null,
            "max_width": null,
            "order": null,
            "_view_module_version": "1.2.0",
            "grid_template_areas": null,
            "object_position": null,
            "object_fit": null,
            "grid_auto_columns": null,
            "margin": null,
            "display": null,
            "left": null
          }
        },
        "0de73f27feb9476eb0b9fbf1e241d3dd": {
          "model_module": "@jupyter-widgets/controls",
          "model_name": "LabelModel",
          "state": {
            "_view_name": "LabelView",
            "style": "IPY_MODEL_7fa81ff626ec4691a05ecca01c5ebb37",
            "_dom_classes": [],
            "description": "",
            "_model_name": "LabelModel",
            "placeholder": "​",
            "_view_module": "@jupyter-widgets/controls",
            "_model_module_version": "1.5.0",
            "value": " 38.46MB of 38.46MB uploaded (0.00MB deduped)\r",
            "_view_count": null,
            "_view_module_version": "1.5.0",
            "description_tooltip": null,
            "_model_module": "@jupyter-widgets/controls",
            "layout": "IPY_MODEL_9532cebe35e54eada7b90c73599307eb"
          }
        },
        "8a2a82d694bc40ec942e170cbfa5f743": {
          "model_module": "@jupyter-widgets/controls",
          "model_name": "FloatProgressModel",
          "state": {
            "_view_name": "ProgressView",
            "style": "IPY_MODEL_b5c0a25b66f34d8ba4751d517cb40c0b",
            "_dom_classes": [],
            "description": "",
            "_model_name": "FloatProgressModel",
            "bar_style": "",
            "max": 1,
            "_view_module": "@jupyter-widgets/controls",
            "_model_module_version": "1.5.0",
            "value": 1,
            "_view_count": null,
            "_view_module_version": "1.5.0",
            "orientation": "horizontal",
            "min": 0,
            "description_tooltip": null,
            "_model_module": "@jupyter-widgets/controls",
            "layout": "IPY_MODEL_cd4a5d518ed4484c8a45417f287db368"
          }
        },
        "7fa81ff626ec4691a05ecca01c5ebb37": {
          "model_module": "@jupyter-widgets/controls",
          "model_name": "DescriptionStyleModel",
          "state": {
            "_view_name": "StyleView",
            "_model_name": "DescriptionStyleModel",
            "description_width": "",
            "_view_module": "@jupyter-widgets/base",
            "_model_module_version": "1.5.0",
            "_view_count": null,
            "_view_module_version": "1.2.0",
            "_model_module": "@jupyter-widgets/controls"
          }
        },
        "9532cebe35e54eada7b90c73599307eb": {
          "model_module": "@jupyter-widgets/base",
          "model_name": "LayoutModel",
          "state": {
            "_view_name": "LayoutView",
            "grid_template_rows": null,
            "right": null,
            "justify_content": null,
            "_view_module": "@jupyter-widgets/base",
            "overflow": null,
            "_model_module_version": "1.2.0",
            "_view_count": null,
            "flex_flow": null,
            "width": null,
            "min_width": null,
            "border": null,
            "align_items": null,
            "bottom": null,
            "_model_module": "@jupyter-widgets/base",
            "top": null,
            "grid_column": null,
            "overflow_y": null,
            "overflow_x": null,
            "grid_auto_flow": null,
            "grid_area": null,
            "grid_template_columns": null,
            "flex": null,
            "_model_name": "LayoutModel",
            "justify_items": null,
            "grid_row": null,
            "max_height": null,
            "align_content": null,
            "visibility": null,
            "align_self": null,
            "height": null,
            "min_height": null,
            "padding": null,
            "grid_auto_rows": null,
            "grid_gap": null,
            "max_width": null,
            "order": null,
            "_view_module_version": "1.2.0",
            "grid_template_areas": null,
            "object_position": null,
            "object_fit": null,
            "grid_auto_columns": null,
            "margin": null,
            "display": null,
            "left": null
          }
        },
        "b5c0a25b66f34d8ba4751d517cb40c0b": {
          "model_module": "@jupyter-widgets/controls",
          "model_name": "ProgressStyleModel",
          "state": {
            "_view_name": "StyleView",
            "_model_name": "ProgressStyleModel",
            "description_width": "",
            "_view_module": "@jupyter-widgets/base",
            "_model_module_version": "1.5.0",
            "_view_count": null,
            "_view_module_version": "1.2.0",
            "bar_color": null,
            "_model_module": "@jupyter-widgets/controls"
          }
        },
        "cd4a5d518ed4484c8a45417f287db368": {
          "model_module": "@jupyter-widgets/base",
          "model_name": "LayoutModel",
          "state": {
            "_view_name": "LayoutView",
            "grid_template_rows": null,
            "right": null,
            "justify_content": null,
            "_view_module": "@jupyter-widgets/base",
            "overflow": null,
            "_model_module_version": "1.2.0",
            "_view_count": null,
            "flex_flow": null,
            "width": null,
            "min_width": null,
            "border": null,
            "align_items": null,
            "bottom": null,
            "_model_module": "@jupyter-widgets/base",
            "top": null,
            "grid_column": null,
            "overflow_y": null,
            "overflow_x": null,
            "grid_auto_flow": null,
            "grid_area": null,
            "grid_template_columns": null,
            "flex": null,
            "_model_name": "LayoutModel",
            "justify_items": null,
            "grid_row": null,
            "max_height": null,
            "align_content": null,
            "visibility": null,
            "align_self": null,
            "height": null,
            "min_height": null,
            "padding": null,
            "grid_auto_rows": null,
            "grid_gap": null,
            "max_width": null,
            "order": null,
            "_view_module_version": "1.2.0",
            "grid_template_areas": null,
            "object_position": null,
            "object_fit": null,
            "grid_auto_columns": null,
            "margin": null,
            "display": null,
            "left": null
          }
        }
      }
    }
  },
  "cells": [
    {
      "cell_type": "markdown",
      "metadata": {
        "id": "view-in-github",
        "colab_type": "text"
      },
      "source": [
        "<a href=\"https://colab.research.google.com/github/michellbrito/CSCE_614_Term_Project/blob/main/CSCE_614_CNN_for_MNIST_CPU%2C_GPU%2C_No_Acceleration.ipynb\" target=\"_parent\"><img src=\"https://colab.research.google.com/assets/colab-badge.svg\" alt=\"Open In Colab\"/></a>"
      ]
    },
    {
      "cell_type": "markdown",
      "metadata": {
        "id": "wwQcUlt8xyaI"
      },
      "source": [
        "#Packages that may need to be installed"
      ]
    },
    {
      "cell_type": "code",
      "metadata": {
        "id": "y2EF234mFQRp"
      },
      "source": [
        "!pip install hyperopt"
      ],
      "execution_count": null,
      "outputs": []
    },
    {
      "cell_type": "code",
      "metadata": {
        "colab": {
          "base_uri": "https://localhost:8080/"
        },
        "id": "Lb3rT3p8yPJO",
        "outputId": "e6167d58-5071-4d1e-e02a-45bcfd36aa34"
      },
      "source": [
        "!pip install --upgrade wandb\n",
        "!wandb login 6508adb8701b189506a5541448dfc6f1e805edeb"
      ],
      "execution_count": null,
      "outputs": [
        {
          "output_type": "stream",
          "text": [
            "Requirement already up-to-date: wandb in /usr/local/lib/python3.6/dist-packages (0.10.11)\n",
            "Requirement already satisfied, skipping upgrade: python-dateutil>=2.6.1 in /usr/local/lib/python3.6/dist-packages (from wandb) (2.8.1)\n",
            "Requirement already satisfied, skipping upgrade: watchdog>=0.8.3 in /usr/local/lib/python3.6/dist-packages (from wandb) (0.10.4)\n",
            "Requirement already satisfied, skipping upgrade: sentry-sdk>=0.4.0 in /usr/local/lib/python3.6/dist-packages (from wandb) (0.19.4)\n",
            "Requirement already satisfied, skipping upgrade: docker-pycreds>=0.4.0 in /usr/local/lib/python3.6/dist-packages (from wandb) (0.4.0)\n",
            "Requirement already satisfied, skipping upgrade: promise<3,>=2.0 in /usr/local/lib/python3.6/dist-packages (from wandb) (2.3)\n",
            "Requirement already satisfied, skipping upgrade: shortuuid>=0.5.0 in /usr/local/lib/python3.6/dist-packages (from wandb) (1.0.1)\n",
            "Requirement already satisfied, skipping upgrade: requests<3,>=2.0.0 in /usr/local/lib/python3.6/dist-packages (from wandb) (2.23.0)\n",
            "Requirement already satisfied, skipping upgrade: GitPython>=1.0.0 in /usr/local/lib/python3.6/dist-packages (from wandb) (3.1.11)\n",
            "Requirement already satisfied, skipping upgrade: configparser>=3.8.1 in /usr/local/lib/python3.6/dist-packages (from wandb) (5.0.1)\n",
            "Requirement already satisfied, skipping upgrade: subprocess32>=3.5.3 in /usr/local/lib/python3.6/dist-packages (from wandb) (3.5.4)\n",
            "Requirement already satisfied, skipping upgrade: PyYAML in /usr/local/lib/python3.6/dist-packages (from wandb) (3.13)\n",
            "Requirement already satisfied, skipping upgrade: six>=1.13.0 in /usr/local/lib/python3.6/dist-packages (from wandb) (1.15.0)\n",
            "Requirement already satisfied, skipping upgrade: psutil>=5.0.0 in /usr/local/lib/python3.6/dist-packages (from wandb) (5.4.8)\n",
            "Requirement already satisfied, skipping upgrade: Click>=7.0 in /usr/local/lib/python3.6/dist-packages (from wandb) (7.1.2)\n",
            "Requirement already satisfied, skipping upgrade: protobuf>=3.12.0 in /usr/local/lib/python3.6/dist-packages (from wandb) (3.12.4)\n",
            "Requirement already satisfied, skipping upgrade: pathtools>=0.1.1 in /usr/local/lib/python3.6/dist-packages (from watchdog>=0.8.3->wandb) (0.1.2)\n",
            "Requirement already satisfied, skipping upgrade: certifi in /usr/local/lib/python3.6/dist-packages (from sentry-sdk>=0.4.0->wandb) (2020.11.8)\n",
            "Requirement already satisfied, skipping upgrade: urllib3>=1.10.0 in /usr/local/lib/python3.6/dist-packages (from sentry-sdk>=0.4.0->wandb) (1.24.3)\n",
            "Requirement already satisfied, skipping upgrade: chardet<4,>=3.0.2 in /usr/local/lib/python3.6/dist-packages (from requests<3,>=2.0.0->wandb) (3.0.4)\n",
            "Requirement already satisfied, skipping upgrade: idna<3,>=2.5 in /usr/local/lib/python3.6/dist-packages (from requests<3,>=2.0.0->wandb) (2.10)\n",
            "Requirement already satisfied, skipping upgrade: gitdb<5,>=4.0.1 in /usr/local/lib/python3.6/dist-packages (from GitPython>=1.0.0->wandb) (4.0.5)\n",
            "Requirement already satisfied, skipping upgrade: setuptools in /usr/local/lib/python3.6/dist-packages (from protobuf>=3.12.0->wandb) (50.3.2)\n",
            "Requirement already satisfied, skipping upgrade: smmap<4,>=3.0.1 in /usr/local/lib/python3.6/dist-packages (from gitdb<5,>=4.0.1->GitPython>=1.0.0->wandb) (3.0.4)\n",
            "\u001b[34m\u001b[1mwandb\u001b[0m: Appending key for api.wandb.ai to your netrc file: /root/.netrc\n"
          ],
          "name": "stdout"
        }
      ]
    },
    {
      "cell_type": "code",
      "metadata": {
        "id": "f6j4Pe7NOoNd"
      },
      "source": [
        "#install only if trying to run on local NVIDIA GPU with CUDA cores enabled\n",
        "!pip install tensorflow-gpu"
      ],
      "execution_count": null,
      "outputs": []
    },
    {
      "cell_type": "markdown",
      "metadata": {
        "id": "F42I34kKx3m_"
      },
      "source": [
        "#Libraries"
      ]
    },
    {
      "cell_type": "code",
      "metadata": {
        "id": "pwE8f3T-fMPn"
      },
      "source": [
        "#basics\n",
        "from math import floor, sqrt, pi\n",
        "from random import sample\n",
        "import time\n",
        "import timeit\n",
        "#helpful progress bar\n",
        "from tqdm.notebook import tqdm, trange\n",
        "\n",
        "import warnings\n",
        "warnings.filterwarnings(\"ignore\")\n",
        "from keras.datasets import mnist\n",
        "import matplotlib.pyplot as plt\n",
        "import numpy as np\n",
        "from keras.utils import to_categorical\n",
        "\n",
        "from keras.layers import Dense, Dropout, Conv2D, MaxPool2D, Flatten\n",
        "import warnings\n",
        "warnings.filterwarnings(\"ignore\")  # Ignore some warning logs\n",
        "from keras.models import Sequential\n",
        "\n",
        "import tensorflow as tf\n",
        "from tensorflow.keras.layers import Conv2D, Flatten, MaxPooling2D\n",
        "from keras.utils import to_categorical\n",
        "from keras.models import Sequential\n",
        "from keras.layers import Dense, Dropout\n",
        "from hyperopt import hp, fmin, tpe, STATUS_OK, Trials\n",
        "\n",
        "from sklearn.model_selection import cross_validate, train_test_split\n",
        "\n",
        "import os\n"
      ],
      "execution_count": 2,
      "outputs": []
    },
    {
      "cell_type": "markdown",
      "metadata": {
        "id": "cz-jzm1Vqo-v"
      },
      "source": [
        "#Measuring Metrics\n",
        "1) run the code below\n",
        "2) click on the link\n",
        "3) sign up if you need to\n",
        "4) copy the code it gives you\n",
        "5) paste it here\n",
        "6) go back to the website, go to metrics. You will be able to see the metrics from there."
      ]
    },
    {
      "cell_type": "code",
      "metadata": {
        "colab": {
          "base_uri": "https://localhost:8080/",
          "height": 1000,
          "referenced_widgets": [
            "a96485857cd440bba6f7ac508a9217a0",
            "8c2fa05274564a0cb6703dc7f758ed06",
            "625b80f7561d4add952cfceb8362747c",
            "392ac758f79848c0b4a47f5af268dde4",
            "ebec04ec05a7478ea12221451388d092",
            "f86452d0d70c4c1999af1bd06e2247a9",
            "f5959058ba0e49ccac09740cc4027e0b",
            "6610db63dc84447a93bed20b15bca4e5"
          ]
        },
        "id": "kAwRVQReyXfQ",
        "outputId": "8009bcb5-cfdf-4e05-cc95-55b1e2bef1b8"
      },
      "source": [
        "#This will initialize wandb for measuring metrics and write all metrics to csce614 project\n",
        "import wandb\n",
        "from wandb.keras import WandbCallback\n",
        "wandb.init(project=\"csce614\")"
      ],
      "execution_count": null,
      "outputs": [
        {
          "output_type": "display_data",
          "data": {
            "text/html": [
              "Finishing last run (ID:3iqqt25u) before initializing another..."
            ],
            "text/plain": [
              "<IPython.core.display.HTML object>"
            ]
          },
          "metadata": {
            "tags": []
          }
        },
        {
          "output_type": "display_data",
          "data": {
            "text/html": [
              "<br/>Waiting for W&B process to finish, PID 127<br/>Program ended successfully."
            ],
            "text/plain": [
              "<IPython.core.display.HTML object>"
            ]
          },
          "metadata": {
            "tags": []
          }
        },
        {
          "output_type": "display_data",
          "data": {
            "application/vnd.jupyter.widget-view+json": {
              "model_id": "a96485857cd440bba6f7ac508a9217a0",
              "version_minor": 0,
              "version_major": 2
            },
            "text/plain": [
              "VBox(children=(Label(value=' 0.00MB of 0.00MB uploaded (0.00MB deduped)\\r'), FloatProgress(value=1.0, max=1.0)…"
            ]
          },
          "metadata": {
            "tags": []
          }
        },
        {
          "output_type": "display_data",
          "data": {
            "text/html": [
              "Find user logs for this run at: <code>/content/wandb/run-20201128_033432-3iqqt25u/logs/debug.log</code>"
            ],
            "text/plain": [
              "<IPython.core.display.HTML object>"
            ]
          },
          "metadata": {
            "tags": []
          }
        },
        {
          "output_type": "display_data",
          "data": {
            "text/html": [
              "Find internal logs for this run at: <code>/content/wandb/run-20201128_033432-3iqqt25u/logs/debug-internal.log</code>"
            ],
            "text/plain": [
              "<IPython.core.display.HTML object>"
            ]
          },
          "metadata": {
            "tags": []
          }
        },
        {
          "output_type": "display_data",
          "data": {
            "text/html": [
              "<h3>Run summary:</h3><br/><style>\n",
              "    table.wandb td:nth-child(1) { padding: 0 10px; text-align: right }\n",
              "    </style><table class=\"wandb\">\n",
              "<tr><td>epoch</td><td>14</td></tr><tr><td>loss</td><td>0.15506</td></tr><tr><td>accuracy</td><td>0.95003</td></tr><tr><td>_step</td><td>14</td></tr><tr><td>_runtime</td><td>108</td></tr><tr><td>_timestamp</td><td>1606534580</td></tr></table>"
            ],
            "text/plain": [
              "<IPython.core.display.HTML object>"
            ]
          },
          "metadata": {
            "tags": []
          }
        },
        {
          "output_type": "display_data",
          "data": {
            "text/html": [
              "<h3>Run history:</h3><br/><style>\n",
              "    table.wandb td:nth-child(1) { padding: 0 10px; text-align: right }\n",
              "    </style><table class=\"wandb\">\n",
              "<tr><td>epoch</td><td>▁▁▂▃▃▃▄▅▅▅▆▇▇▇█</td></tr><tr><td>loss</td><td>█▃▃▂▂▂▂▁▁▁▁▁▁▁▁</td></tr><tr><td>accuracy</td><td>▁▆▆▇▇▇▇████████</td></tr><tr><td>_step</td><td>▁▁▂▃▃▃▄▅▅▅▆▇▇▇█</td></tr><tr><td>_runtime</td><td>▁▂▂▂▃▄▄▄▅▅▆▆▇▇█</td></tr><tr><td>_timestamp</td><td>▁▂▂▂▃▄▄▄▅▅▆▆▇▇█</td></tr></table><br/>"
            ],
            "text/plain": [
              "<IPython.core.display.HTML object>"
            ]
          },
          "metadata": {
            "tags": []
          }
        },
        {
          "output_type": "display_data",
          "data": {
            "text/html": [
              "Synced 5 W&B file(s), 1 media file(s), 0 artifact file(s) and 1 other file(s)"
            ],
            "text/plain": [
              "<IPython.core.display.HTML object>"
            ]
          },
          "metadata": {
            "tags": []
          }
        },
        {
          "output_type": "display_data",
          "data": {
            "text/html": [
              "\n",
              "                    <br/>Synced <strong style=\"color:#cdcd00\">noble-disco-8</strong>: <a href=\"https://wandb.ai/killbill/csce614/runs/3iqqt25u\" target=\"_blank\">https://wandb.ai/killbill/csce614/runs/3iqqt25u</a><br/>\n",
              "                "
            ],
            "text/plain": [
              "<IPython.core.display.HTML object>"
            ]
          },
          "metadata": {
            "tags": []
          }
        },
        {
          "output_type": "display_data",
          "data": {
            "text/html": [
              "...Successfully finished last run (ID:3iqqt25u). Initializing new run:<br/><br/>"
            ],
            "text/plain": [
              "<IPython.core.display.HTML object>"
            ]
          },
          "metadata": {
            "tags": []
          }
        },
        {
          "output_type": "display_data",
          "data": {
            "text/html": [
              "\n",
              "                Tracking run with wandb version 0.10.11<br/>\n",
              "                Syncing run <strong style=\"color:#cdcd00\">different-snowball-10</strong> to <a href=\"https://wandb.ai\" target=\"_blank\">Weights & Biases</a> <a href=\"https://docs.wandb.com/integrations/jupyter.html\" target=\"_blank\">(Documentation)</a>.<br/>\n",
              "                Project page: <a href=\"https://wandb.ai/killbill/csce614\" target=\"_blank\">https://wandb.ai/killbill/csce614</a><br/>\n",
              "                Run page: <a href=\"https://wandb.ai/killbill/csce614/runs/10aa07w3\" target=\"_blank\">https://wandb.ai/killbill/csce614/runs/10aa07w3</a><br/>\n",
              "                Run data is saved locally in <code>/content/wandb/run-20201128_035648-10aa07w3</code><br/><br/>\n",
              "            "
            ],
            "text/plain": [
              "<IPython.core.display.HTML object>"
            ]
          },
          "metadata": {
            "tags": []
          }
        },
        {
          "output_type": "execute_result",
          "data": {
            "text/plain": [
              "<wandb.sdk.wandb_run.Run at 0x7fbd20080128>"
            ],
            "text/html": [
              "<h1>Run(10aa07w3)</h1><p></p><iframe src=\"https://wandb.ai/killbill/csce614/runs/10aa07w3\" style=\"border:none;width:100%;height:400px\"></iframe>"
            ]
          },
          "metadata": {
            "tags": []
          },
          "execution_count": 12
        }
      ]
    },
    {
      "cell_type": "markdown",
      "metadata": {
        "id": "AP8c_1RBGJbo"
      },
      "source": [
        "#Checking Current Hardware Specs"
      ]
    },
    {
      "cell_type": "markdown",
      "metadata": {
        "id": "gDwcw73srigA"
      },
      "source": [
        "GPU Information:"
      ]
    },
    {
      "cell_type": "code",
      "metadata": {
        "colab": {
          "base_uri": "https://localhost:8080/"
        },
        "id": "Yj_k-IIAqvbY",
        "outputId": "caac06f0-4379-440f-91e7-9bac1dcdd07c"
      },
      "source": [
        "!nvidia-smi"
      ],
      "execution_count": 3,
      "outputs": [
        {
          "output_type": "stream",
          "text": [
            "Fri Dec  4 00:14:13 2020       \n",
            "+-----------------------------------------------------------------------------+\n",
            "| NVIDIA-SMI 455.38       Driver Version: 418.67       CUDA Version: 10.1     |\n",
            "|-------------------------------+----------------------+----------------------+\n",
            "| GPU  Name        Persistence-M| Bus-Id        Disp.A | Volatile Uncorr. ECC |\n",
            "| Fan  Temp  Perf  Pwr:Usage/Cap|         Memory-Usage | GPU-Util  Compute M. |\n",
            "|                               |                      |               MIG M. |\n",
            "|===============================+======================+======================|\n",
            "|   0  Tesla T4            Off  | 00000000:00:04.0 Off |                    0 |\n",
            "| N/A   64C    P0    30W /  70W |    227MiB / 15079MiB |      0%      Default |\n",
            "|                               |                      |                 ERR! |\n",
            "+-------------------------------+----------------------+----------------------+\n",
            "                                                                               \n",
            "+-----------------------------------------------------------------------------+\n",
            "| Processes:                                                                  |\n",
            "|  GPU   GI   CI        PID   Type   Process name                  GPU Memory |\n",
            "|        ID   ID                                                   Usage      |\n",
            "|=============================================================================|\n",
            "|  No running processes found                                                 |\n",
            "+-----------------------------------------------------------------------------+\n"
          ],
          "name": "stdout"
        }
      ]
    },
    {
      "cell_type": "markdown",
      "metadata": {
        "id": "0nnIvTIgGbhi"
      },
      "source": [
        "CPU Information:"
      ]
    },
    {
      "cell_type": "code",
      "metadata": {
        "colab": {
          "base_uri": "https://localhost:8080/"
        },
        "id": "kXA7sDSHGa1v",
        "outputId": "dea394af-a302-4f67-a439-4a247542efd1"
      },
      "source": [
        "!cat /proc/cpuinfo"
      ],
      "execution_count": 4,
      "outputs": [
        {
          "output_type": "stream",
          "text": [
            "processor\t: 0\n",
            "vendor_id\t: GenuineIntel\n",
            "cpu family\t: 6\n",
            "model\t\t: 79\n",
            "model name\t: Intel(R) Xeon(R) CPU @ 2.20GHz\n",
            "stepping\t: 0\n",
            "microcode\t: 0x1\n",
            "cpu MHz\t\t: 2200.000\n",
            "cache size\t: 56320 KB\n",
            "physical id\t: 0\n",
            "siblings\t: 2\n",
            "core id\t\t: 0\n",
            "cpu cores\t: 1\n",
            "apicid\t\t: 0\n",
            "initial apicid\t: 0\n",
            "fpu\t\t: yes\n",
            "fpu_exception\t: yes\n",
            "cpuid level\t: 13\n",
            "wp\t\t: yes\n",
            "flags\t\t: fpu vme de pse tsc msr pae mce cx8 apic sep mtrr pge mca cmov pat pse36 clflush mmx fxsr sse sse2 ss ht syscall nx pdpe1gb rdtscp lm constant_tsc rep_good nopl xtopology nonstop_tsc cpuid tsc_known_freq pni pclmulqdq ssse3 fma cx16 pcid sse4_1 sse4_2 x2apic movbe popcnt aes xsave avx f16c rdrand hypervisor lahf_lm abm 3dnowprefetch invpcid_single ssbd ibrs ibpb stibp fsgsbase tsc_adjust bmi1 hle avx2 smep bmi2 erms invpcid rtm rdseed adx smap xsaveopt arat md_clear arch_capabilities\n",
            "bugs\t\t: cpu_meltdown spectre_v1 spectre_v2 spec_store_bypass l1tf mds swapgs taa\n",
            "bogomips\t: 4400.00\n",
            "clflush size\t: 64\n",
            "cache_alignment\t: 64\n",
            "address sizes\t: 46 bits physical, 48 bits virtual\n",
            "power management:\n",
            "\n",
            "processor\t: 1\n",
            "vendor_id\t: GenuineIntel\n",
            "cpu family\t: 6\n",
            "model\t\t: 79\n",
            "model name\t: Intel(R) Xeon(R) CPU @ 2.20GHz\n",
            "stepping\t: 0\n",
            "microcode\t: 0x1\n",
            "cpu MHz\t\t: 2200.000\n",
            "cache size\t: 56320 KB\n",
            "physical id\t: 0\n",
            "siblings\t: 2\n",
            "core id\t\t: 0\n",
            "cpu cores\t: 1\n",
            "apicid\t\t: 1\n",
            "initial apicid\t: 1\n",
            "fpu\t\t: yes\n",
            "fpu_exception\t: yes\n",
            "cpuid level\t: 13\n",
            "wp\t\t: yes\n",
            "flags\t\t: fpu vme de pse tsc msr pae mce cx8 apic sep mtrr pge mca cmov pat pse36 clflush mmx fxsr sse sse2 ss ht syscall nx pdpe1gb rdtscp lm constant_tsc rep_good nopl xtopology nonstop_tsc cpuid tsc_known_freq pni pclmulqdq ssse3 fma cx16 pcid sse4_1 sse4_2 x2apic movbe popcnt aes xsave avx f16c rdrand hypervisor lahf_lm abm 3dnowprefetch invpcid_single ssbd ibrs ibpb stibp fsgsbase tsc_adjust bmi1 hle avx2 smep bmi2 erms invpcid rtm rdseed adx smap xsaveopt arat md_clear arch_capabilities\n",
            "bugs\t\t: cpu_meltdown spectre_v1 spectre_v2 spec_store_bypass l1tf mds swapgs taa\n",
            "bogomips\t: 4400.00\n",
            "clflush size\t: 64\n",
            "cache_alignment\t: 64\n",
            "address sizes\t: 46 bits physical, 48 bits virtual\n",
            "power management:\n",
            "\n"
          ],
          "name": "stdout"
        }
      ]
    },
    {
      "cell_type": "markdown",
      "metadata": {
        "id": "fZJcNVpur_b1"
      },
      "source": [
        "#Loading the MNIST dataset"
      ]
    },
    {
      "cell_type": "code",
      "metadata": {
        "colab": {
          "base_uri": "https://localhost:8080/",
          "height": 353
        },
        "id": "h-nlhpFZfZe9",
        "outputId": "3024f36e-1bc7-4276-e858-59cd6e52853e"
      },
      "source": [
        " #Load MNISt dataset\n",
        "(train_images, train_labels), (test_images, test_labels) = mnist.load_data()\n",
        "\n",
        "# Check number of samples (60000 in training and 10000 in test)\n",
        "# Each image has 28 x 28 pixels\n",
        "print(\"Train Image Shape: \", train_images.shape, \"Train Label Shape: \", train_labels.shape) \n",
        "print(\"Test Image Shape: \", test_images.shape, \"Test Label Shape: \", test_labels.shape) \n",
        "\n",
        "#  Visualizing a random image (11th) from training dataset\n",
        "print(\"Visualizing a random image (11th) from training dataset\")\n",
        "_ = plt.imshow(train_images[10])"
      ],
      "execution_count": null,
      "outputs": [
        {
          "output_type": "stream",
          "text": [
            "Downloading data from https://storage.googleapis.com/tensorflow/tf-keras-datasets/mnist.npz\n",
            "11493376/11490434 [==============================] - 0s 0us/step\n",
            "Train Image Shape:  (60000, 28, 28) Train Label Shape:  (60000,)\n",
            "Test Image Shape:  (10000, 28, 28) Test Label Shape:  (10000,)\n",
            "Visualizing a random image (11th) from training dataset\n"
          ],
          "name": "stdout"
        },
        {
          "output_type": "display_data",
          "data": {
            "image/png": "[encoded data removed]",
            "text/plain": [
              "<Figure size 432x288 with 1 Axes>"
            ]
          },
          "metadata": {
            "tags": [],
            "needs_background": "light"
          }
        }
      ]
    },
    {
      "cell_type": "markdown",
      "metadata": {
        "id": "eRO1rTmesDXI"
      },
      "source": [
        "#Preprocessing and reshaping"
      ]
    },
    {
      "cell_type": "code",
      "metadata": {
        "id": "4ekIdle9fbMs"
      },
      "source": [
        "# Preprocessing: Normalize the images.\n",
        "train_images = (train_images / 255) - 0.5\n",
        "test_images = (test_images / 255) - 0.5"
      ],
      "execution_count": null,
      "outputs": []
    },
    {
      "cell_type": "code",
      "metadata": {
        "colab": {
          "base_uri": "https://localhost:8080/"
        },
        "id": "HOowt7fCZLEe",
        "outputId": "03506795-2b0b-48be-f866-5d067a179c6f"
      },
      "source": [
        "train_images_3d = train_images.reshape(60000,28,28,1)\n",
        "test_images_3d = test_images.reshape(10000,28,28,1)\n",
        "print(train_images_3d.shape, test_images_3d.shape)"
      ],
      "execution_count": null,
      "outputs": [
        {
          "output_type": "stream",
          "text": [
            "(60000, 28, 28, 1) (10000, 28, 28, 1)\n"
          ],
          "name": "stdout"
        }
      ]
    },
    {
      "cell_type": "markdown",
      "metadata": {
        "id": "oj4S0LxnsGZd"
      },
      "source": [
        "#CNN Neural Network with unoptimized hyperparameters"
      ]
    },
    {
      "cell_type": "code",
      "metadata": {
        "colab": {
          "base_uri": "https://localhost:8080/"
        },
        "id": "OsmCj4cafdC0",
        "outputId": "ef0ee60d-2231-4a40-f560-3567c75214e9"
      },
      "source": [
        "model = Sequential([Conv2D(50, kernel_size=(1,1), strides=(1,1), padding='same', activation='relu', input_shape=(28,28,1)), \n",
        "          Conv2D(75, kernel_size=(1,1), strides=(1,1), padding='same', activation='relu'), \n",
        "          MaxPooling2D(pool_size=(2,2)), Dropout(0.25),\n",
        "          Conv2D(125, kernel_size=(1,1), strides=(1,1), padding='same', activation='relu'),\n",
        "          MaxPooling2D(pool_size=(2,2)), Dropout(0.25), \n",
        "          Flatten(),\n",
        "          Dense(500, activation='relu'), Dropout(0.4),\n",
        "          Dense(250, activation='relu'), Dropout(0.3),\n",
        "          Dense(10, activation='softmax')])\n",
        "\n",
        "print(model.summary())"
      ],
      "execution_count": null,
      "outputs": [
        {
          "output_type": "stream",
          "text": [
            "Model: \"sequential_1\"\n",
            "_________________________________________________________________\n",
            "Layer (type)                 Output Shape              Param #   \n",
            "=================================================================\n",
            "conv2d_3 (Conv2D)            (None, 28, 28, 50)        100       \n",
            "_________________________________________________________________\n",
            "conv2d_4 (Conv2D)            (None, 28, 28, 75)        3825      \n",
            "_________________________________________________________________\n",
            "max_pooling2d_2 (MaxPooling2 (None, 14, 14, 75)        0         \n",
            "_________________________________________________________________\n",
            "dropout_4 (Dropout)          (None, 14, 14, 75)        0         \n",
            "_________________________________________________________________\n",
            "conv2d_5 (Conv2D)            (None, 14, 14, 125)       9500      \n",
            "_________________________________________________________________\n",
            "max_pooling2d_3 (MaxPooling2 (None, 7, 7, 125)         0         \n",
            "_________________________________________________________________\n",
            "dropout_5 (Dropout)          (None, 7, 7, 125)         0         \n",
            "_________________________________________________________________\n",
            "flatten_1 (Flatten)          (None, 6125)              0         \n",
            "_________________________________________________________________\n",
            "dense_3 (Dense)              (None, 500)               3063000   \n",
            "_________________________________________________________________\n",
            "dropout_6 (Dropout)          (None, 500)               0         \n",
            "_________________________________________________________________\n",
            "dense_4 (Dense)              (None, 250)               125250    \n",
            "_________________________________________________________________\n",
            "dropout_7 (Dropout)          (None, 250)               0         \n",
            "_________________________________________________________________\n",
            "dense_5 (Dense)              (None, 10)                2510      \n",
            "=================================================================\n",
            "Total params: 3,204,185\n",
            "Trainable params: 3,204,185\n",
            "Non-trainable params: 0\n",
            "_________________________________________________________________\n",
            "None\n"
          ],
          "name": "stdout"
        }
      ]
    },
    {
      "cell_type": "code",
      "metadata": {
        "colab": {
          "base_uri": "https://localhost:8080/"
        },
        "id": "aWhLSUtgfnPQ",
        "outputId": "d1ab8341-6ce8-4113-defa-015f27bfa23a"
      },
      "source": [
        "#Training the network without optimized hyperparameters\n",
        "import time \n",
        "start_time = time.time()\n",
        "# compiling the sequential model\n",
        "model.compile(loss='categorical_crossentropy', metrics=['accuracy'], optimizer='adam')\n",
        "\n",
        "# training the model for 10 epochs\n",
        "model.fit(train_images_3d, to_categorical(train_labels), epochs=15, batch_size=128,callbacks=[WandbCallback()],)\n",
        "model.save(os.path.join(wandb.run.dir, \"model.h5\"))\n",
        "\n",
        "\n",
        "print(\"--- %s seconds ---\" % (time.time() - start_time))"
      ],
      "execution_count": null,
      "outputs": [
        {
          "output_type": "stream",
          "text": [
            "Epoch 1/15\n",
            "469/469 [==============================] - 5s 10ms/step - loss: 0.5608 - accuracy: 0.8176\n",
            "Epoch 2/15\n",
            "469/469 [==============================] - 5s 10ms/step - loss: 0.2891 - accuracy: 0.9079\n",
            "Epoch 3/15\n",
            "469/469 [==============================] - 5s 10ms/step - loss: 0.2419 - accuracy: 0.9232\n",
            "Epoch 4/15\n",
            "469/469 [==============================] - 5s 10ms/step - loss: 0.2180 - accuracy: 0.9313\n",
            "Epoch 5/15\n",
            "469/469 [==============================] - 5s 10ms/step - loss: 0.2030 - accuracy: 0.9344\n",
            "Epoch 6/15\n",
            "469/469 [==============================] - 5s 10ms/step - loss: 0.1943 - accuracy: 0.9375\n",
            "Epoch 7/15\n",
            "469/469 [==============================] - 5s 10ms/step - loss: 0.1803 - accuracy: 0.9421\n",
            "Epoch 8/15\n",
            "469/469 [==============================] - 5s 10ms/step - loss: 0.1786 - accuracy: 0.9418\n",
            "Epoch 9/15\n",
            "469/469 [==============================] - 5s 10ms/step - loss: 0.1713 - accuracy: 0.9452\n",
            "Epoch 10/15\n",
            "469/469 [==============================] - 5s 10ms/step - loss: 0.1629 - accuracy: 0.9475\n",
            "Epoch 11/15\n",
            "469/469 [==============================] - 5s 10ms/step - loss: 0.1628 - accuracy: 0.9474\n",
            "Epoch 12/15\n",
            "469/469 [==============================] - 5s 10ms/step - loss: 0.1561 - accuracy: 0.9500\n",
            "Epoch 13/15\n",
            "469/469 [==============================] - 5s 10ms/step - loss: 0.1552 - accuracy: 0.9503\n",
            "Epoch 14/15\n",
            "469/469 [==============================] - 5s 10ms/step - loss: 0.1495 - accuracy: 0.9513\n",
            "Epoch 15/15\n",
            "469/469 [==============================] - 5s 10ms/step - loss: 0.1452 - accuracy: 0.9535\n",
            "--- 72.08646941184998 seconds ---\n"
          ],
          "name": "stdout"
        }
      ]
    },
    {
      "cell_type": "code",
      "metadata": {
        "colab": {
          "base_uri": "https://localhost:8080/"
        },
        "id": "0syZ2YCpgDpt",
        "outputId": "83931dcf-ea07-4019-e271-f4324bc3cb81"
      },
      "source": [
        "performance = model.evaluate(test_images_3d, to_categorical(test_labels))\n",
        "print(\"Accuracy on Test samples: {0}\".format(performance[1]))"
      ],
      "execution_count": null,
      "outputs": [
        {
          "output_type": "stream",
          "text": [
            "313/313 [==============================] - 1s 3ms/step - loss: 0.1728 - accuracy: 0.9541\n",
            "Accuracy on Test samples: 0.9541000127792358\n"
          ],
          "name": "stdout"
        }
      ]
    },
    {
      "cell_type": "markdown",
      "metadata": {
        "id": "a-U9quDBsnZd"
      },
      "source": [
        "#HyperOpt: Optimizing hyperparameters"
      ]
    },
    {
      "cell_type": "markdown",
      "metadata": {
        "id": "336RIObJGyVx"
      },
      "source": [
        "A function that uses Hyperopt to automatically take the CNN hyperparameters, alter them, and pick the best set of hyperparameter combinations"
      ]
    },
    {
      "cell_type": "code",
      "metadata": {
        "colab": {
          "base_uri": "https://localhost:8080/"
        },
        "id": "-Yf3Zcd2zcIw",
        "outputId": "00b2b4d8-6680-41e1-970c-35fbfe1c570f"
      },
      "source": [
        "from hyperopt import hp, fmin, tpe, STATUS_OK, Trials\n",
        "\n",
        "\n",
        "def optimize_cnn(hyperparameter):\n",
        "  \n",
        "  # Define model using hyperparameters \n",
        "\n",
        "  cnn_model = Sequential([Conv2D(50, kernel_size=hyperparameter['conv_kernel_size'], strides = hyperparameter['conv_stride'], padding='same', activation=hyperparameter['activation'], input_shape=(28,28,1)), \n",
        "          Conv2D(75, kernel_size=hyperparameter['conv_kernel_size'], strides = hyperparameter['conv_stride'], padding='same', activation=hyperparameter['activation']), \n",
        "          MaxPooling2D(pool_size=(2,2)), Dropout(hyperparameter['dropout_prob']),\n",
        "          Conv2D(125, kernel_size=hyperparameter['conv_kernel_size'], strides = hyperparameter['conv_stride'], padding='same', activation=hyperparameter['activation']),\n",
        "          MaxPooling2D(pool_size=(2,2)), Dropout(hyperparameter['dropout_prob']), \n",
        "          Flatten(),\n",
        "          Dense(500, activation='relu'), Dropout(0.4),\n",
        "          Dense(250, activation='relu'), Dropout(0.3),\n",
        "          Dense(10, activation='softmax')])\n",
        "  \n",
        "  cnn_model.compile(optimizer=hyperparameter['optimizer'], loss='categorical_crossentropy', metrics=['accuracy'],)\n",
        "\n",
        "  # create a training (50K samples) and validation (10K samples) subsets from training images.\n",
        "  # Validation subset will be used to find the optimal hyperparameters\n",
        "  train_X, train_y = train_images_3d[:50000], train_labels[:50000]\n",
        "  valid_X, valid_y = train_images_3d[50000:], train_labels[50000:]\n",
        "\n",
        "  _ = cnn_model.fit(train_X, to_categorical(train_y), epochs=2, batch_size=128, verbose=0)\n",
        "  # Evaluate accuracy on validation data\n",
        "  performance = cnn_model.evaluate(valid_X, to_categorical(valid_y), verbose=0)\n",
        "\n",
        "  print(\"Hyperparameters: \", hyperparameter, \"Accuracy: \", performance[1])\n",
        "  print(\"----------------------------------------------------\")\n",
        "  # We want to minimize loss i.e. negative of accuracy\n",
        "  return({\"status\": STATUS_OK, \"loss\": -1*performance[1], \"model\":cnn_model})\n",
        "  \n",
        "\n",
        "# Define search space for hyper-parameters\n",
        "space = {\n",
        "    # The kernel_size for convolutions:\n",
        "    'conv_kernel_size': hp.choice('conv_kernel_size', [1, 3, 5]),\n",
        "    # Uniform distribution in finding appropriate dropout values\n",
        "    'dropout_prob': hp.uniform('dropout_prob', 0.1, 0.35),\n",
        "    #choice of stride\n",
        "    'conv_stride': hp.choice('conv_stride',[1,2]),\n",
        "    #choice of activation\n",
        "    'activation': hp.choice('activation', ['relu','selu','tanh']),\n",
        "    # Choice of optimizer \n",
        "    'optimizer': hp.choice('optimizer', ['Adam', 'sgd']),\n",
        "}\n",
        "\n",
        "trials = Trials()\n",
        "\n",
        "# Find the best hyperparameters\n",
        "best = fmin(\n",
        "        optimize_cnn,\n",
        "        space,\n",
        "        algo=tpe.suggest,\n",
        "        trials=trials,\n",
        "        max_evals=25,\n",
        "    )\n",
        "\n",
        "print(\"==================================\")\n",
        "print(\"Best Hyperparameters\", best)\n",
        "\n",
        "# You can retrain the final model with optimal hyperparameters on train+validation data\n",
        "\n",
        "# Or you can use the model returned directly\n",
        "# Find trial which has minimum loss value and use that model to perform evaluation on the test data\n",
        "test_model = trials.results[np.argmin([r['loss'] for r in trials.results])]['model']\n",
        "\n",
        "performance = test_model.evaluate(test_images_3d, to_categorical(test_labels))\n",
        "\n",
        "print(\"==================================\")\n",
        "print(\"Test Accuracy: \", performance[1])"
      ],
      "execution_count": null,
      "outputs": [
        {
          "output_type": "stream",
          "text": [
            "Hyperparameters: \n",
            "{'activation': 'selu', 'conv_kernel_size': 1, 'conv_stride': 2, 'dropout_prob': 0.30563575033128176, 'optimizer': 'sgd'}\n",
            "Accuracy: \n",
            "0.1665000021457672\n",
            "----------------------------------------------------\n",
            "Hyperparameters: \n",
            "{'activation': 'tanh', 'conv_kernel_size': 3, 'conv_stride': 2, 'dropout_prob': 0.12869068811893428, 'optimizer': 'sgd'}\n",
            "Accuracy: \n",
            "0.4318999946117401\n",
            "----------------------------------------------------\n",
            "Hyperparameters: \n",
            "{'activation': 'selu', 'conv_kernel_size': 5, 'conv_stride': 2, 'dropout_prob': 0.34092122970047456, 'optimizer': 'Adam'}\n",
            "Accuracy: \n",
            "0.9814000129699707\n",
            "----------------------------------------------------\n",
            "Hyperparameters: \n",
            "{'activation': 'relu', 'conv_kernel_size': 5, 'conv_stride': 2, 'dropout_prob': 0.1788426252439586, 'optimizer': 'Adam'}\n",
            "Accuracy: \n",
            "0.98089998960495\n",
            "----------------------------------------------------\n",
            "Hyperparameters: \n",
            "{'activation': 'selu', 'conv_kernel_size': 1, 'conv_stride': 2, 'dropout_prob': 0.2330746868404061, 'optimizer': 'sgd'}\n",
            "Accuracy: \n",
            "0.17139999568462372\n",
            "----------------------------------------------------\n",
            "Hyperparameters: \n",
            "{'activation': 'selu', 'conv_kernel_size': 3, 'conv_stride': 1, 'dropout_prob': 0.34906504758600543, 'optimizer': 'Adam'}\n",
            "Accuracy: \n",
            "0.9868999719619751\n",
            "----------------------------------------------------\n",
            "Hyperparameters: \n",
            "{'activation': 'relu', 'conv_kernel_size': 3, 'conv_stride': 2, 'dropout_prob': 0.2887925958484187, 'optimizer': 'sgd'}\n",
            "Accuracy: \n",
            "0.10639999806880951\n",
            "----------------------------------------------------\n",
            "Hyperparameters: \n",
            "{'activation': 'selu', 'conv_kernel_size': 3, 'conv_stride': 2, 'dropout_prob': 0.34745379393997794, 'optimizer': 'Adam'}\n",
            "Accuracy: \n",
            "0.9740999937057495\n",
            "----------------------------------------------------\n",
            "Hyperparameters: \n",
            "{'activation': 'selu', 'conv_kernel_size': 3, 'conv_stride': 2, 'dropout_prob': 0.22167490247960392, 'optimizer': 'sgd'}\n",
            "Accuracy: \n",
            "0.6420999765396118\n",
            "----------------------------------------------------\n",
            "Hyperparameters: \n",
            "{'activation': 'tanh', 'conv_kernel_size': 1, 'conv_stride': 2, 'dropout_prob': 0.18522875068116434, 'optimizer': 'sgd'}\n",
            "Accuracy: \n",
            "0.1703999936580658\n",
            "----------------------------------------------------\n",
            "Hyperparameters: \n",
            "{'activation': 'selu', 'conv_kernel_size': 1, 'conv_stride': 1, 'dropout_prob': 0.3353879856937968, 'optimizer': 'sgd'}\n",
            "Accuracy: \n",
            "0.8744999766349792\n",
            "----------------------------------------------------\n",
            "Hyperparameters: \n",
            "{'activation': 'tanh', 'conv_kernel_size': 1, 'conv_stride': 1, 'dropout_prob': 0.3148967073520744, 'optimizer': 'Adam'}\n",
            "Accuracy: \n",
            "0.9394000172615051\n",
            "----------------------------------------------------\n",
            "Hyperparameters: \n",
            "{'activation': 'relu', 'conv_kernel_size': 3, 'conv_stride': 2, 'dropout_prob': 0.11364923435775556, 'optimizer': 'sgd'}\n",
            "Accuracy: \n",
            "0.10639999806880951\n",
            "----------------------------------------------------\n",
            "Hyperparameters: \n",
            "{'activation': 'tanh', 'conv_kernel_size': 5, 'conv_stride': 1, 'dropout_prob': 0.31568321319766623, 'optimizer': 'Adam'}\n",
            "Accuracy: \n",
            "0.9830999970436096\n",
            "----------------------------------------------------\n",
            "Hyperparameters: \n",
            "{'activation': 'tanh', 'conv_kernel_size': 1, 'conv_stride': 1, 'dropout_prob': 0.13382060169944737, 'optimizer': 'Adam'}\n",
            "Accuracy: \n",
            "0.9434000253677368\n",
            "----------------------------------------------------\n",
            "Hyperparameters: \n",
            "{'activation': 'relu', 'conv_kernel_size': 3, 'conv_stride': 1, 'dropout_prob': 0.11820921456217409, 'optimizer': 'sgd'}\n",
            "Accuracy: \n",
            "0.9089999794960022\n",
            "----------------------------------------------------\n",
            "Hyperparameters: \n",
            "{'activation': 'selu', 'conv_kernel_size': 3, 'conv_stride': 1, 'dropout_prob': 0.28254763000782535, 'optimizer': 'Adam'}\n",
            "Accuracy: \n",
            "0.9876000285148621\n",
            "----------------------------------------------------\n",
            "Hyperparameters: \n",
            "{'activation': 'selu', 'conv_kernel_size': 5, 'conv_stride': 2, 'dropout_prob': 0.198083600604123, 'optimizer': 'sgd'}\n",
            "Accuracy: \n",
            "0.8845000267028809\n",
            "----------------------------------------------------\n",
            "Hyperparameters: \n",
            "{'activation': 'tanh', 'conv_kernel_size': 1, 'conv_stride': 1, 'dropout_prob': 0.19186717023161104, 'optimizer': 'Adam'}\n",
            "Accuracy: \n",
            "0.9448000192642212\n",
            "----------------------------------------------------\n",
            "Hyperparameters: \n",
            "{'activation': 'relu', 'conv_kernel_size': 5, 'conv_stride': 1, 'dropout_prob': 0.34851760766452, 'optimizer': 'sgd'}\n",
            "Accuracy: \n",
            "0.9347000122070312\n",
            "----------------------------------------------------\n",
            "Hyperparameters: \n",
            "{'activation': 'selu', 'conv_kernel_size': 3, 'conv_stride': 1, 'dropout_prob': 0.2665332883373677, 'optimizer': 'Adam'}\n",
            "Accuracy: \n",
            "0.9868999719619751\n",
            "----------------------------------------------------\n",
            "Hyperparameters: \n",
            "{'activation': 'selu', 'conv_kernel_size': 3, 'conv_stride': 1, 'dropout_prob': 0.26384275312450756, 'optimizer': 'Adam'}\n",
            "Accuracy: \n",
            "0.9837999939918518\n",
            "----------------------------------------------------\n",
            "Hyperparameters: \n",
            "{'activation': 'selu', 'conv_kernel_size': 3, 'conv_stride': 1, 'dropout_prob': 0.2757837843553333, 'optimizer': 'Adam'}\n",
            "Accuracy: \n",
            "0.9824000000953674\n",
            "----------------------------------------------------\n",
            "Hyperparameters: \n",
            "{'activation': 'selu', 'conv_kernel_size': 3, 'conv_stride': 1, 'dropout_prob': 0.24246006255634328, 'optimizer': 'Adam'}\n",
            "Accuracy: \n",
            "0.98580002784729\n",
            "----------------------------------------------------\n",
            "Hyperparameters: \n",
            "{'activation': 'selu', 'conv_kernel_size': 3, 'conv_stride': 1, 'dropout_prob': 0.25306785707477153, 'optimizer': 'Adam'}\n",
            "Accuracy: \n",
            "0.9821000099182129\n",
            "----------------------------------------------------\n",
            "100%|██████████| 25/25 [03:23<00:00,  8.14s/it, best loss: -0.9876000285148621]\n",
            "==================================\n",
            "Best Hyperparameters {'activation': 1, 'conv_kernel_size': 1, 'conv_stride': 0, 'dropout_prob': 0.28254763000782535, 'optimizer': 0}\n",
            "313/313 [==============================] - 1s 3ms/step - loss: 0.0332 - accuracy: 0.9890\n",
            "==================================\n",
            "Test Accuracy:  0.9890000224113464\n"
          ],
          "name": "stdout"
        }
      ]
    },
    {
      "cell_type": "markdown",
      "metadata": {
        "id": "330BqyfMmUzv"
      },
      "source": [
        "#Model with optimized Hyperparameters"
      ]
    },
    {
      "cell_type": "code",
      "metadata": {
        "colab": {
          "base_uri": "https://localhost:8080/"
        },
        "id": "gw5NQ0vHQWnr",
        "outputId": "68ed9c6b-a589-424b-ebf2-e1e008c5b677"
      },
      "source": [
        "model = Sequential([Conv2D(50, kernel_size=(3,3), strides=(1,1), padding='same', activation='relu', input_shape=(28,28,1)), \n",
        "          Conv2D(75, kernel_size=(3,3), strides=(1,1), padding='same', activation='relu'), \n",
        "          MaxPooling2D(pool_size=(2,2)), Dropout(0.2538798802417247),\n",
        "          Conv2D(125, kernel_size=(3,3), strides=(1,1), padding='same', activation='relu'),\n",
        "          MaxPooling2D(pool_size=(2,2)), Dropout(0.2538798802417247), \n",
        "          Flatten(),\n",
        "          Dense(500, activation='relu'), Dropout(0.4),\n",
        "          Dense(250, activation='relu'), Dropout(0.3),\n",
        "          Dense(10, activation='softmax')])\n",
        "\n",
        "print(model.summary())"
      ],
      "execution_count": null,
      "outputs": [
        {
          "output_type": "stream",
          "text": [
            "Model: \"sequential_2\"\n",
            "_________________________________________________________________\n",
            "Layer (type)                 Output Shape              Param #   \n",
            "=================================================================\n",
            "conv2d_6 (Conv2D)            (None, 28, 28, 50)        500       \n",
            "_________________________________________________________________\n",
            "conv2d_7 (Conv2D)            (None, 28, 28, 75)        33825     \n",
            "_________________________________________________________________\n",
            "max_pooling2d_4 (MaxPooling2 (None, 14, 14, 75)        0         \n",
            "_________________________________________________________________\n",
            "dropout_8 (Dropout)          (None, 14, 14, 75)        0         \n",
            "_________________________________________________________________\n",
            "conv2d_8 (Conv2D)            (None, 14, 14, 125)       84500     \n",
            "_________________________________________________________________\n",
            "max_pooling2d_5 (MaxPooling2 (None, 7, 7, 125)         0         \n",
            "_________________________________________________________________\n",
            "dropout_9 (Dropout)          (None, 7, 7, 125)         0         \n",
            "_________________________________________________________________\n",
            "flatten_2 (Flatten)          (None, 6125)              0         \n",
            "_________________________________________________________________\n",
            "dense_6 (Dense)              (None, 500)               3063000   \n",
            "_________________________________________________________________\n",
            "dropout_10 (Dropout)         (None, 500)               0         \n",
            "_________________________________________________________________\n",
            "dense_7 (Dense)              (None, 250)               125250    \n",
            "_________________________________________________________________\n",
            "dropout_11 (Dropout)         (None, 250)               0         \n",
            "_________________________________________________________________\n",
            "dense_8 (Dense)              (None, 10)                2510      \n",
            "=================================================================\n",
            "Total params: 3,309,585\n",
            "Trainable params: 3,309,585\n",
            "Non-trainable params: 0\n",
            "_________________________________________________________________\n",
            "None\n"
          ],
          "name": "stdout"
        }
      ]
    },
    {
      "cell_type": "code",
      "metadata": {
        "colab": {
          "base_uri": "https://localhost:8080/"
        },
        "id": "TYBGq2EMwGZ-",
        "outputId": "76ea7c0d-e473-420b-949e-eefb1d370f2d"
      },
      "source": [
        "import time \n",
        "start_time = time.time()\n",
        "# compiling the sequential model\n",
        "model.compile(loss='categorical_crossentropy', metrics=['accuracy'], optimizer='adam')\n",
        "\n",
        "# training the model for 10 epochs\n",
        "model.fit(train_images_3d, to_categorical(train_labels), epochs=15, batch_size=128,callbacks=[WandbCallback()],)\n",
        "model.save(os.path.join(wandb.run.dir, \"model.h5\"))\n",
        "\n",
        "\n",
        "print(\"--- %s seconds ---\" % (time.time() - start_time))"
      ],
      "execution_count": null,
      "outputs": [
        {
          "output_type": "stream",
          "text": [
            "Epoch 1/15\n",
            "469/469 [==============================] - 7s 15ms/step - loss: 0.2077 - accuracy: 0.9329\n",
            "Epoch 2/15\n",
            "469/469 [==============================] - 7s 15ms/step - loss: 0.0598 - accuracy: 0.9830\n",
            "Epoch 3/15\n",
            "469/469 [==============================] - 7s 15ms/step - loss: 0.0409 - accuracy: 0.9877\n",
            "Epoch 4/15\n",
            "469/469 [==============================] - 7s 15ms/step - loss: 0.0380 - accuracy: 0.9886\n",
            "Epoch 5/15\n",
            "469/469 [==============================] - 7s 15ms/step - loss: 0.0318 - accuracy: 0.9902\n",
            "Epoch 6/15\n",
            "469/469 [==============================] - 7s 15ms/step - loss: 0.0260 - accuracy: 0.9922\n",
            "Epoch 7/15\n",
            "469/469 [==============================] - 7s 15ms/step - loss: 0.0227 - accuracy: 0.9929\n",
            "Epoch 8/15\n",
            "469/469 [==============================] - 7s 15ms/step - loss: 0.0223 - accuracy: 0.9936\n",
            "Epoch 9/15\n",
            "469/469 [==============================] - 7s 15ms/step - loss: 0.0185 - accuracy: 0.9948\n",
            "Epoch 10/15\n",
            "469/469 [==============================] - 7s 15ms/step - loss: 0.0187 - accuracy: 0.9944\n",
            "Epoch 11/15\n",
            "469/469 [==============================] - 7s 15ms/step - loss: 0.0164 - accuracy: 0.9948\n",
            "Epoch 12/15\n",
            "469/469 [==============================] - 7s 15ms/step - loss: 0.0146 - accuracy: 0.9954\n",
            "Epoch 13/15\n",
            "469/469 [==============================] - 7s 15ms/step - loss: 0.0139 - accuracy: 0.9961\n",
            "Epoch 14/15\n",
            "469/469 [==============================] - 7s 15ms/step - loss: 0.0144 - accuracy: 0.9958\n",
            "Epoch 15/15\n",
            "469/469 [==============================] - 7s 15ms/step - loss: 0.0139 - accuracy: 0.9959\n",
            "--- 107.53397798538208 seconds ---\n"
          ],
          "name": "stdout"
        }
      ]
    },
    {
      "cell_type": "code",
      "metadata": {
        "colab": {
          "base_uri": "https://localhost:8080/"
        },
        "id": "OHTe-HZgwLX6",
        "outputId": "f64489d2-bf0d-464f-e195-265d18ca473c"
      },
      "source": [
        "performance = model.evaluate(test_images_3d, to_categorical(test_labels))\n",
        "print(\"Accuracy on Test samples: {0}\".format(performance[1]))"
      ],
      "execution_count": null,
      "outputs": [
        {
          "output_type": "stream",
          "text": [
            "313/313 [==============================] - 1s 3ms/step - loss: 0.0194 - accuracy: 0.9950\n",
            "Accuracy on Test samples: 0.9950000047683716\n"
          ],
          "name": "stdout"
        }
      ]
    },
    {
      "cell_type": "code",
      "metadata": {
        "colab": {
          "base_uri": "https://localhost:8080/",
          "height": 541,
          "referenced_widgets": [
            "a92ce3605c4a4431bec2d4584eb900bf",
            "5b74d47e64a9469ba8ed0b4cc5cebf17",
            "0de73f27feb9476eb0b9fbf1e241d3dd",
            "8a2a82d694bc40ec942e170cbfa5f743",
            "7fa81ff626ec4691a05ecca01c5ebb37",
            "9532cebe35e54eada7b90c73599307eb",
            "b5c0a25b66f34d8ba4751d517cb40c0b",
            "cd4a5d518ed4484c8a45417f287db368"
          ]
        },
        "id": "f805PsnvxiO4",
        "outputId": "3db8dcde-296b-4a09-fb9a-cfda0e14bb34"
      },
      "source": [
        "wandb.run.finish()"
      ],
      "execution_count": null,
      "outputs": [
        {
          "output_type": "display_data",
          "data": {
            "text/html": [
              "<br/>Waiting for W&B process to finish, PID 395<br/>Program ended successfully."
            ],
            "text/plain": [
              "<IPython.core.display.HTML object>"
            ]
          },
          "metadata": {
            "tags": []
          }
        },
        {
          "output_type": "display_data",
          "data": {
            "application/vnd.jupyter.widget-view+json": {
              "model_id": "a92ce3605c4a4431bec2d4584eb900bf",
              "version_minor": 0,
              "version_major": 2
            },
            "text/plain": [
              "VBox(children=(Label(value=' 0.00MB of 0.00MB uploaded (0.00MB deduped)\\r'), FloatProgress(value=1.0, max=1.0)…"
            ]
          },
          "metadata": {
            "tags": []
          }
        },
        {
          "output_type": "display_data",
          "data": {
            "text/html": [
              "Find user logs for this run at: <code>/content/wandb/run-20201128_035648-10aa07w3/logs/debug.log</code>"
            ],
            "text/plain": [
              "<IPython.core.display.HTML object>"
            ]
          },
          "metadata": {
            "tags": []
          }
        },
        {
          "output_type": "display_data",
          "data": {
            "text/html": [
              "Find internal logs for this run at: <code>/content/wandb/run-20201128_035648-10aa07w3/logs/debug-internal.log</code>"
            ],
            "text/plain": [
              "<IPython.core.display.HTML object>"
            ]
          },
          "metadata": {
            "tags": []
          }
        },
        {
          "output_type": "display_data",
          "data": {
            "text/html": [
              "<h3>Run summary:</h3><br/><style>\n",
              "    table.wandb td:nth-child(1) { padding: 0 10px; text-align: right }\n",
              "    </style><table class=\"wandb\">\n",
              "<tr><td>epoch</td><td>14</td></tr><tr><td>loss</td><td>0.01388</td></tr><tr><td>accuracy</td><td>0.99592</td></tr><tr><td>_step</td><td>29</td></tr><tr><td>_runtime</td><td>390</td></tr><tr><td>_timestamp</td><td>1606536201</td></tr></table>"
            ],
            "text/plain": [
              "<IPython.core.display.HTML object>"
            ]
          },
          "metadata": {
            "tags": []
          }
        },
        {
          "output_type": "display_data",
          "data": {
            "text/html": [
              "<h3>Run history:</h3><br/><style>\n",
              "    table.wandb td:nth-child(1) { padding: 0 10px; text-align: right }\n",
              "    </style><table class=\"wandb\">\n",
              "<tr><td>epoch</td><td>▁▁▂▃▃▃▄▅▅▅▆▇▇▇█▁▁▂▃▃▃▄▅▅▅▆▇▇▇█</td></tr><tr><td>loss</td><td>█▅▄▄▃▃▃▃▃▃▃▃▃▃▃▃▂▁▁▁▁▁▁▁▁▁▁▁▁▁</td></tr><tr><td>accuracy</td><td>▁▅▅▅▆▆▆▆▆▆▆▆▆▆▆▆▇█████████████</td></tr><tr><td>_step</td><td>▁▁▁▂▂▂▂▃▃▃▃▄▄▄▄▅▅▅▅▆▆▆▆▇▇▇▇███</td></tr><tr><td>_runtime</td><td>▁▁▁▂▂▂▂▂▃▃▃▃▃▃▄▄▄▅▅▅▅▆▆▆▇▇▇▇██</td></tr><tr><td>_timestamp</td><td>▁▁▁▂▂▂▂▂▃▃▃▃▃▃▄▄▄▅▅▅▅▆▆▆▇▇▇▇██</td></tr></table><br/>"
            ],
            "text/plain": [
              "<IPython.core.display.HTML object>"
            ]
          },
          "metadata": {
            "tags": []
          }
        },
        {
          "output_type": "display_data",
          "data": {
            "text/html": [
              "Synced 5 W&B file(s), 2 media file(s), 0 artifact file(s) and 1 other file(s)"
            ],
            "text/plain": [
              "<IPython.core.display.HTML object>"
            ]
          },
          "metadata": {
            "tags": []
          }
        },
        {
          "output_type": "display_data",
          "data": {
            "text/html": [
              "\n",
              "                    <br/>Synced <strong style=\"color:#cdcd00\">different-snowball-10</strong>: <a href=\"https://wandb.ai/killbill/csce614/runs/10aa07w3\" target=\"_blank\">https://wandb.ai/killbill/csce614/runs/10aa07w3</a><br/>\n",
              "                "
            ],
            "text/plain": [
              "<IPython.core.display.HTML object>"
            ]
          },
          "metadata": {
            "tags": []
          }
        }
      ]
    },
    {
      "cell_type": "code",
      "metadata": {
        "id": "1XcTvvtYyQzm"
      },
      "source": [
        ""
      ],
      "execution_count": null,
      "outputs": []
    }
  ]
}