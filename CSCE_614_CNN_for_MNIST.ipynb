{
  "nbformat": 4,
  "nbformat_minor": 0,
  "metadata": {
    "accelerator": "GPU",
    "colab": {
      "name": "CSCE 614 CNN for MNIST",
      "provenance": [],
      "collapsed_sections": [],
      "authorship_tag": "ABX9TyOmZXRlbVNqQxbUkTl1PVh5",
      "include_colab_link": true
    },
    "kernelspec": {
      "display_name": "Python 3",
      "name": "python3"
    }
  },
  "cells": [
    {
      "cell_type": "markdown",
      "metadata": {
        "id": "view-in-github",
        "colab_type": "text"
      },
      "source": [
        "<a href=\"https://colab.research.google.com/github/michellbrito/CSCE_614_Term_Project/blob/main/CSCE_614_CNN_for_MNIST.ipynb\" target=\"_parent\"><img src=\"https://colab.research.google.com/assets/colab-badge.svg\" alt=\"Open In Colab\"/></a>"
      ]
    },
    {
      "cell_type": "markdown",
      "metadata": {
        "id": "wwQcUlt8xyaI"
      },
      "source": [
        "#Package to install"
      ]
    },
    {
      "cell_type": "code",
      "metadata": {
        "colab": {
          "base_uri": "https://localhost:8080/"
        },
        "id": "Lb3rT3p8yPJO",
        "outputId": "36e520ab-2295-4c7f-d276-0256feef0a84"
      },
      "source": [
        "#to install the measure metrics tool\n",
        "#!pip install wandb"
      ],
      "execution_count": null,
      "outputs": [
        {
          "output_type": "stream",
          "text": [
            "Collecting wandb\n",
            "  Downloading https://files.pythonhosted.org/packages/93/7c/bf3cba8513f02c92fff0f0dab49846f1aa3da93c71fb4de7f34f501d15f0/wandb-0.10.11-py2.py3-none-any.whl (1.8MB)\n",
            "Collecting watchdog>=0.8.3 (from wandb)\n",
            "  Downloading https://files.pythonhosted.org/packages/6f/10/500580a0987363a0d9e1f3dd5cb1bba94a47e19266c6ce9dfb6cdd455758/watchdog-0.10.4.tar.gz (98kB)\n",
            "Collecting sentry-sdk>=0.4.0 (from wandb)\n",
            "  Downloading https://files.pythonhosted.org/packages/61/e1/3a9f8ca1009fc6a1e850801f2386e9d88b95147218cbe8c33bc4d60b3695/sentry_sdk-0.19.4-py2.py3-none-any.whl (128kB)\n",
            "Requirement already satisfied: python-dateutil>=2.6.1 in c:\\users\\aarya\\anaconda3\\lib\\site-packages (from wandb) (2.8.0)\n",
            "Requirement already satisfied: psutil>=5.0.0 in c:\\users\\aarya\\anaconda3\\lib\\site-packages (from wandb) (5.6.3)\n",
            "Requirement already satisfied: Click>=7.0 in c:\\users\\aarya\\anaconda3\\lib\\site-packages (from wandb) (7.0)\n",
            "Collecting GitPython>=1.0.0 (from wandb)\n",
            "  Downloading https://files.pythonhosted.org/packages/24/d1/a7f8fe3df258549b303415157328bfcc63e9b11d06a7ad7a3327f3d32606/GitPython-3.1.11-py3-none-any.whl (159kB)\n",
            "Requirement already satisfied: protobuf>=3.12.0 in c:\\users\\aarya\\anaconda3\\lib\\site-packages (from wandb) (3.14.0)\n",
            "Collecting six>=1.13.0 (from wandb)\n",
            "  Using cached https://files.pythonhosted.org/packages/ee/ff/48bde5c0f013094d729fe4b0316ba2a24774b3ff1c52d924a8a4cb04078a/six-1.15.0-py2.py3-none-any.whl\n",
            "Collecting shortuuid>=0.5.0 (from wandb)\n",
            "  Downloading https://files.pythonhosted.org/packages/25/a6/2ecc1daa6a304e7f1b216f0896b26156b78e7c38e1211e9b798b4716c53d/shortuuid-1.0.1-py3-none-any.whl\n",
            "Requirement already satisfied: requests<3,>=2.0.0 in c:\\users\\aarya\\anaconda3\\lib\\site-packages (from wandb) (2.22.0)\n",
            "Requirement already satisfied: PyYAML in c:\\users\\aarya\\anaconda3\\lib\\site-packages (from wandb) (5.1.2)\n",
            "Collecting subprocess32>=3.5.3 (from wandb)\n",
            "  Downloading https://files.pythonhosted.org/packages/32/c8/564be4d12629b912ea431f1a50eb8b3b9d00f1a0b1ceff17f266be190007/subprocess32-3.5.4.tar.gz (97kB)\n",
            "Collecting configparser>=3.8.1 (from wandb)\n",
            "  Downloading https://files.pythonhosted.org/packages/08/b2/ef713e0e67f6e7ec7d59aea3ee78d05b39c15930057e724cc6d362a8c3bb/configparser-5.0.1-py3-none-any.whl\n",
            "Collecting docker-pycreds>=0.4.0 (from wandb)\n",
            "  Downloading https://files.pythonhosted.org/packages/f5/e8/f6bd1eee09314e7e6dee49cbe2c5e22314ccdb38db16c9fc72d2fa80d054/docker_pycreds-0.4.0-py2.py3-none-any.whl\n",
            "Collecting promise<3,>=2.0 (from wandb)\n",
            "  Downloading https://files.pythonhosted.org/packages/cf/9c/fb5d48abfe5d791cd496e4242ebcf87a4bb2e0c3dcd6e0ae68c11426a528/promise-2.3.tar.gz\n",
            "Collecting pathtools>=0.1.1 (from watchdog>=0.8.3->wandb)\n",
            "  Downloading https://files.pythonhosted.org/packages/e7/7f/470d6fcdf23f9f3518f6b0b76be9df16dcc8630ad409947f8be2eb0ed13a/pathtools-0.1.2.tar.gz\n",
            "Requirement already satisfied: urllib3>=1.10.0 in c:\\users\\aarya\\anaconda3\\lib\\site-packages (from sentry-sdk>=0.4.0->wandb) (1.24.2)\n",
            "Requirement already satisfied: certifi in c:\\users\\aarya\\anaconda3\\lib\\site-packages (from sentry-sdk>=0.4.0->wandb) (2019.9.11)\n",
            "Collecting gitdb<5,>=4.0.1 (from GitPython>=1.0.0->wandb)\n",
            "  Downloading https://files.pythonhosted.org/packages/48/11/d1800bca0a3bae820b84b7d813ad1eff15a48a64caea9c823fc8c1b119e8/gitdb-4.0.5-py3-none-any.whl (63kB)\n",
            "Requirement already satisfied: idna<2.9,>=2.5 in c:\\users\\aarya\\anaconda3\\lib\\site-packages (from requests<3,>=2.0.0->wandb) (2.8)\n",
            "Requirement already satisfied: chardet<3.1.0,>=3.0.2 in c:\\users\\aarya\\anaconda3\\lib\\site-packages (from requests<3,>=2.0.0->wandb) (3.0.4)\n",
            "Collecting smmap<4,>=3.0.1 (from gitdb<5,>=4.0.1->GitPython>=1.0.0->wandb)\n",
            "  Downloading https://files.pythonhosted.org/packages/b0/9a/4d409a6234eb940e6a78dfdfc66156e7522262f5f2fecca07dc55915952d/smmap-3.0.4-py2.py3-none-any.whl\n",
            "Building wheels for collected packages: watchdog, subprocess32, promise, pathtools\n",
            "  Building wheel for watchdog (setup.py): started\n",
            "  Building wheel for watchdog (setup.py): finished with status 'done'\n",
            "  Created wheel for watchdog: filename=watchdog-0.10.4-cp37-none-any.whl size=74847 sha256=562598af66506c848a742b52d8f66f153277bd280713c32ee09cd35561a612ec\n",
            "  Stored in directory: C:\\Users\\aarya\\AppData\\Local\\pip\\Cache\\wheels\\9e\\11\\04\\5160b8815b0cc7cf574bdc6d053e510169ec264c8791b4ec3a\n",
            "  Building wheel for subprocess32 (setup.py): started\n",
            "  Building wheel for subprocess32 (setup.py): finished with status 'done'\n",
            "  Created wheel for subprocess32: filename=subprocess32-3.5.4-cp37-none-any.whl size=6495 sha256=dfdba270747ee8a6891c6f232d3a4b212350f43f3386c1dbcea01b6f4b2e5c2a\n",
            "  Stored in directory: C:\\Users\\aarya\\AppData\\Local\\pip\\Cache\\wheels\\68\\39\\1a\\5e402bdfdf004af1786c8b853fd92f8c4a04f22aad179654d1\n",
            "  Building wheel for promise (setup.py): started\n",
            "  Building wheel for promise (setup.py): finished with status 'done'\n",
            "  Created wheel for promise: filename=promise-2.3-cp37-none-any.whl size=21500 sha256=3e5edc0053bd1a4947d630fb2ac3655931ec689238b0eb841f7061e57574cc7c\n",
            "  Stored in directory: C:\\Users\\aarya\\AppData\\Local\\pip\\Cache\\wheels\\19\\49\\34\\c3c1e78bcb954c49e5ec0d31784fe63d14d427f316b12fbde9\n",
            "  Building wheel for pathtools (setup.py): started\n",
            "  Building wheel for pathtools (setup.py): finished with status 'done'\n",
            "  Created wheel for pathtools: filename=pathtools-0.1.2-cp37-none-any.whl size=8793 sha256=df8dfa27e5212483c10e87d01559d736b88a64e0e6430e19487e7cd4737df2bc\n",
            "  Stored in directory: C:\\Users\\aarya\\AppData\\Local\\pip\\Cache\\wheels\\0b\\04\\79\\c3b0c3a0266a3cb4376da31e5bfe8bba0c489246968a68e843\n",
            "Successfully built watchdog subprocess32 promise pathtools\n",
            "Installing collected packages: pathtools, watchdog, sentry-sdk, smmap, gitdb, GitPython, six, shortuuid, subprocess32, configparser, docker-pycreds, promise, wandb\n",
            "  Found existing installation: six 1.12.0\n",
            "    Uninstalling six-1.12.0:\n",
            "      Successfully uninstalled six-1.12.0\n",
            "Successfully installed GitPython-3.1.11 configparser-5.0.1 docker-pycreds-0.4.0 gitdb-4.0.5 pathtools-0.1.2 promise-2.3 sentry-sdk-0.19.4 shortuuid-1.0.1 six-1.15.0 smmap-3.0.4 subprocess32-3.5.4 wandb-0.10.11 watchdog-0.10.4\n"
          ],
          "name": "stdout"
        },
        {
          "output_type": "stream",
          "text": [
            "ERROR: astroid 2.3.1 requires typed-ast<1.5,>=1.4.0; implementation_name == \"cpython\" and python_version < \"3.8\", which is not installed.\n",
            "ERROR: astroid 2.3.1 has requirement six==1.12, but you'll have six 1.15.0 which is incompatible.\n"
          ],
          "name": "stderr"
        }
      ]
    },
    {
      "cell_type": "markdown",
      "metadata": {
        "id": "F42I34kKx3m_"
      },
      "source": [
        "#Libraries"
      ]
    },
    {
      "cell_type": "code",
      "metadata": {
        "id": "pwE8f3T-fMPn"
      },
      "source": [
        "#basics\n",
        "from math import floor, sqrt, pi\n",
        "from random import sample\n",
        "import time\n",
        "import timeit\n",
        "#helpful progress bar\n",
        "from tqdm.notebook import tqdm, trange\n",
        "\n",
        "import warnings\n",
        "warnings.filterwarnings(\"ignore\")\n",
        "from keras.datasets import mnist\n",
        "import matplotlib.pyplot as plt\n",
        "import numpy as np\n",
        "from keras.utils import to_categorical\n",
        "\n",
        "from keras.layers import Dense, Dropout, Conv2D, MaxPool2D, Flatten\n",
        "import warnings\n",
        "warnings.filterwarnings(\"ignore\")  # Ignore some warning logs\n",
        "from keras.models import Sequential\n",
        "\n",
        "import tensorflow as tf\n",
        "from tensorflow.keras.layers import Conv2D, Flatten, MaxPooling2D\n",
        "from keras.utils import to_categorical\n",
        "from keras.models import Sequential\n",
        "from keras.layers import Dense, Dropout\n",
        "from hyperopt import hp, fmin, tpe, STATUS_OK, Trials\n",
        "\n",
        "from sklearn.model_selection import cross_validate, train_test_split\n",
        "\n",
        "import os\n"
      ],
      "execution_count": 2,
      "outputs": []
    },
    {
      "cell_type": "markdown",
      "metadata": {
        "id": "cz-jzm1Vqo-v"
      },
      "source": [
        "#Measuring Metrics\n",
        "1) run the code below\n",
        "2) click on the link\n",
        "3) sign up if you need to\n",
        "4) copy the code it gives you\n",
        "5) paste it here\n",
        "6) go back to the website, go to metrics. You will be able to see the metrics from there."
      ]
    },
    {
      "cell_type": "code",
      "metadata": {
        "colab": {
          "base_uri": "https://localhost:8080/",
          "height": 633
        },
        "id": "kAwRVQReyXfQ",
        "outputId": "d88b0d4f-2a3c-4ff6-8fe6-0ebf557d29c4"
      },
      "source": [
        "import wandb\n",
        "wandb.init()"
      ],
      "execution_count": null,
      "outputs": [
        {
          "output_type": "stream",
          "text": [
            "wandb: You can find your API key in your browser here: https://wandb.ai/authorize\n"
          ],
          "name": "stderr"
        },
        {
          "output_type": "stream",
          "text": [
            "\u001b[34m\u001b[1mwandb\u001b[0m: Paste an API key from your profile and hit enter: ··········\n"
          ],
          "name": "stdout"
        },
        {
          "output_type": "stream",
          "text": [
            "wandb: Appending key for api.wandb.ai to your netrc file: C:\\Users\\aarya/.netrc\n"
          ],
          "name": "stderr"
        },
        {
          "output_type": "display_data",
          "data": {
            "text/plain": [
              "<IPython.core.display.HTML object>"
            ],
            "text/html": [
              "\n",
              "                Tracking run with wandb version 0.10.11<br/>\n",
              "                Syncing run <strong style=\"color:#cdcd00\">prime-voice-2</strong> to <a href=\"https://wandb.ai\" target=\"_blank\">Weights & Biases</a> <a href=\"https://docs.wandb.com/integrations/jupyter.html\" target=\"_blank\">(Documentation)</a>.<br/>\n",
              "                Project page: <a href=\"https://wandb.ai/killbill/uncategorized\" target=\"_blank\">https://wandb.ai/killbill/uncategorized</a><br/>\n",
              "                Run page: <a href=\"https://wandb.ai/killbill/uncategorized/runs/372j08hz\" target=\"_blank\">https://wandb.ai/killbill/uncategorized/runs/372j08hz</a><br/>\n",
              "                Run data is saved locally in <code>C:\\Users\\aarya\\wandb\\run-20201126_030222-372j08hz</code><br/><br/>\n",
              "            "
            ]
          },
          "metadata": {
            "tags": []
          }
        },
        {
          "output_type": "execute_result",
          "data": {
            "text/html": [
              "<h1>Run(372j08hz)</h1><p></p><iframe src=\"https://wandb.ai/killbill/uncategorized/runs/372j08hz\" style=\"border:none;width:100%;height:400px\"></iframe>"
            ],
            "text/plain": [
              "<wandb.sdk.wandb_run.Run at 0x2a4dce68888>"
            ]
          },
          "metadata": {
            "tags": []
          },
          "execution_count": 24
        }
      ]
    },
    {
      "cell_type": "markdown",
      "metadata": {
        "id": "gDwcw73srigA"
      },
      "source": [
        "Testing GPU. If \"/device:GPU:0\", that means it is using GPU for workload processing, otherwise, if \" \", then it is using CPU for workload processing"
      ]
    },
    {
      "cell_type": "code",
      "metadata": {
        "colab": {
          "base_uri": "https://localhost:8080/"
        },
        "id": "Yj_k-IIAqvbY",
        "outputId": "df580846-7a13-4303-f055-b466adf4c683"
      },
      "source": [
        "tf.test.gpu_device_name()"
      ],
      "execution_count": null,
      "outputs": [
        {
          "output_type": "execute_result",
          "data": {
            "text/plain": [
              "'/device:GPU:0'"
            ]
          },
          "metadata": {
            "tags": []
          },
          "execution_count": 19
        }
      ]
    },
    {
      "cell_type": "markdown",
      "metadata": {
        "id": "fZJcNVpur_b1"
      },
      "source": [
        "#Loading the MNIST dataset"
      ]
    },
    {
      "cell_type": "code",
      "metadata": {
        "colab": {
          "base_uri": "https://localhost:8080/",
          "height": 350
        },
        "id": "h-nlhpFZfZe9",
        "outputId": "996ed21c-49ce-47c5-936b-808181d0a43f"
      },
      "source": [
        " #Load MNISt dataset\n",
        "(train_images, train_labels), (test_images, test_labels) = mnist.load_data()\n",
        "\n",
        "# Check number of samples (60000 in training and 10000 in test)\n",
        "# Each image has 28 x 28 pixels\n",
        "print(\"Train Image Shape: \", train_images.shape, \"Train Label Shape: \", train_labels.shape) \n",
        "print(\"Test Image Shape: \", test_images.shape, \"Test Label Shape: \", test_labels.shape) \n",
        "\n",
        "#  Visualizing a random image (11th) from training dataset\n",
        "print(\"Visualizing a random image (11th) from training dataset\")\n",
        "_ = plt.imshow(train_images[10])\n",
        "# print(type(train_images))\n",
        "# print(train_images)\n",
        "# print(train_labels)"
      ],
      "execution_count": 3,
      "outputs": [
        {
          "output_type": "stream",
          "text": [
            "Downloading data from https://storage.googleapis.com/tensorflow/tf-keras-datasets/mnist.npz\n",
            "11493376/11490434 [==============================] - 0s 0us/step\n",
            "Train Image Shape:  (60000, 28, 28) Train Label Shape:  (60000,)\n",
            "Test Image Shape:  (10000, 28, 28) Test Label Shape:  (10000,)\n",
            "Visualizing a random image (11th) from training dataset\n"
          ],
          "name": "stdout"
        },
        {
          "output_type": "display_data",
          "data": {
            "image/png": "[encoded data removed]",
            "text/plain": [
              "<Figure size 432x288 with 1 Axes>"
            ]
          },
          "metadata": {
            "tags": [],
            "needs_background": "light"
          }
        }
      ]
    },
    {
      "cell_type": "markdown",
      "metadata": {
        "id": "eRO1rTmesDXI"
      },
      "source": [
        "#Preprocessing and reshaping"
      ]
    },
    {
      "cell_type": "code",
      "metadata": {
        "id": "4ekIdle9fbMs"
      },
      "source": [
        "# Preprocessing: Normalize the images.\n",
        "train_images = (train_images / 255) - 0.5\n",
        "test_images = (test_images / 255) - 0.5"
      ],
      "execution_count": 4,
      "outputs": []
    },
    {
      "cell_type": "code",
      "metadata": {
        "id": "HOowt7fCZLEe",
        "colab": {
          "base_uri": "https://localhost:8080/"
        },
        "outputId": "11b4058e-cfea-4b37-b337-f1b27afe000a"
      },
      "source": [
        "train_images_3d = train_images.reshape(60000,28,28,1)\n",
        "test_images_3d = test_images.reshape(10000,28,28,1)\n",
        "print(train_images_3d.shape, test_images_3d.shape)"
      ],
      "execution_count": 5,
      "outputs": [
        {
          "output_type": "stream",
          "text": [
            "(60000, 28, 28, 1) (10000, 28, 28, 1)\n"
          ],
          "name": "stdout"
        }
      ]
    },
    {
      "cell_type": "markdown",
      "metadata": {
        "id": "oj4S0LxnsGZd"
      },
      "source": [
        "#CNN Neural Network without optimized hyperparameters"
      ]
    },
    {
      "cell_type": "code",
      "metadata": {
        "colab": {
          "base_uri": "https://localhost:8080/"
        },
        "id": "OsmCj4cafdC0",
        "outputId": "11fc4bc8-8b97-40f2-ab55-b77495e72f70"
      },
      "source": [
        "model = Sequential([Conv2D(50, kernel_size=(1,1), strides=(1,1), padding='same', activation='relu', input_shape=(28,28,1)), \n",
        "          Conv2D(75, kernel_size=(1,1), strides=(1,1), padding='same', activation='relu'), \n",
        "          MaxPooling2D(pool_size=(2,2)), Dropout(0.25),\n",
        "          Conv2D(125, kernel_size=(1,1), strides=(1,1), padding='same', activation='relu'),\n",
        "          MaxPooling2D(pool_size=(2,2)), Dropout(0.25), \n",
        "          Flatten(),\n",
        "          Dense(500, activation='relu'), Dropout(0.4),\n",
        "          Dense(250, activation='relu'), Dropout(0.3),\n",
        "          Dense(10, activation='softmax')])\n",
        "\n",
        "print(model.summary())"
      ],
      "execution_count": null,
      "outputs": [
        {
          "output_type": "stream",
          "text": [
            "Model: \"sequential_44\"\n",
            "_________________________________________________________________\n",
            "Layer (type)                 Output Shape              Param #   \n",
            "=================================================================\n",
            "conv2d_132 (Conv2D)          (None, 28, 28, 50)        100       \n",
            "_________________________________________________________________\n",
            "conv2d_133 (Conv2D)          (None, 28, 28, 75)        3825      \n",
            "_________________________________________________________________\n",
            "max_pooling2d_88 (MaxPooling (None, 14, 14, 75)        0         \n",
            "_________________________________________________________________\n",
            "dropout_176 (Dropout)        (None, 14, 14, 75)        0         \n",
            "_________________________________________________________________\n",
            "conv2d_134 (Conv2D)          (None, 14, 14, 125)       9500      \n",
            "_________________________________________________________________\n",
            "max_pooling2d_89 (MaxPooling (None, 7, 7, 125)         0         \n",
            "_________________________________________________________________\n",
            "dropout_177 (Dropout)        (None, 7, 7, 125)         0         \n",
            "_________________________________________________________________\n",
            "flatten_44 (Flatten)         (None, 6125)              0         \n",
            "_________________________________________________________________\n",
            "dense_132 (Dense)            (None, 500)               3063000   \n",
            "_________________________________________________________________\n",
            "dropout_178 (Dropout)        (None, 500)               0         \n",
            "_________________________________________________________________\n",
            "dense_133 (Dense)            (None, 250)               125250    \n",
            "_________________________________________________________________\n",
            "dropout_179 (Dropout)        (None, 250)               0         \n",
            "_________________________________________________________________\n",
            "dense_134 (Dense)            (None, 10)                2510      \n",
            "=================================================================\n",
            "Total params: 3,204,185\n",
            "Trainable params: 3,204,185\n",
            "Non-trainable params: 0\n",
            "_________________________________________________________________\n",
            "None\n"
          ],
          "name": "stdout"
        }
      ]
    },
    {
      "cell_type": "code",
      "metadata": {
        "colab": {
          "base_uri": "https://localhost:8080/"
        },
        "id": "aWhLSUtgfnPQ",
        "outputId": "f8d7b9fd-c394-4b64-88e8-adb9977b1c30"
      },
      "source": [
        "import time \n",
        "start_time = time.time()\n",
        "# compiling the sequential model\n",
        "model.compile(loss='categorical_crossentropy', metrics=['accuracy'], optimizer='adam')\n",
        "\n",
        "# training the model for 10 epochs\n",
        "model.fit(train_images_3d, to_categorical(train_labels), epochs=10, batch_size=128,)\n",
        "\n",
        "\n",
        "print(\"--- %s seconds ---\" % (time.time() - start_time))\n"
      ],
      "execution_count": null,
      "outputs": [
        {
          "output_type": "stream",
          "text": [
            "Epoch 1/10\n",
            "WARNING:tensorflow:AutoGraph could not transform <function Model.make_train_function.<locals>.train_function at 0x000002A4BB91FC18> and will run it as-is.\n",
            "Please report this to the TensorFlow team. When filing the bug, set the verbosity to 10 (on Linux, `export AUTOGRAPH_VERBOSITY=10`) and attach the full output.\n",
            "Cause: 'arguments' object has no attribute 'posonlyargs'\n",
            "To silence this warning, decorate the function with @tf.autograph.experimental.do_not_convert\n",
            "WARNING: AutoGraph could not transform <function Model.make_train_function.<locals>.train_function at 0x000002A4BB91FC18> and will run it as-is.\n",
            "Please report this to the TensorFlow team. When filing the bug, set the verbosity to 10 (on Linux, `export AUTOGRAPH_VERBOSITY=10`) and attach the full output.\n",
            "Cause: 'arguments' object has no attribute 'posonlyargs'\n",
            "To silence this warning, decorate the function with @tf.autograph.experimental.do_not_convert\n",
            "469/469 [==============================] - 4s 8ms/step - loss: 0.5255 - accuracy: 0.8279\n",
            "Epoch 2/10\n",
            "469/469 [==============================] - 4s 8ms/step - loss: 0.2863 - accuracy: 0.9098\n",
            "Epoch 3/10\n",
            "469/469 [==============================] - 4s 8ms/step - loss: 0.2394 - accuracy: 0.9247\n",
            "Epoch 4/10\n",
            "469/469 [==============================] - 4s 8ms/step - loss: 0.2183 - accuracy: 0.9313\n",
            "Epoch 5/10\n",
            "469/469 [==============================] - 4s 8ms/step - loss: 0.2035 - accuracy: 0.9349\n",
            "Epoch 6/10\n",
            "469/469 [==============================] - 4s 8ms/step - loss: 0.1871 - accuracy: 0.9406\n",
            "Epoch 7/10\n",
            "469/469 [==============================] - 4s 8ms/step - loss: 0.1800 - accuracy: 0.9418\n",
            "Epoch 8/10\n",
            "469/469 [==============================] - 4s 8ms/step - loss: 0.1712 - accuracy: 0.9446\n",
            "Epoch 9/10\n",
            "469/469 [==============================] - 4s 8ms/step - loss: 0.1675 - accuracy: 0.9465\n",
            "Epoch 10/10\n",
            "469/469 [==============================] - 4s 8ms/step - loss: 0.1601 - accuracy: 0.9481\n",
            "--- 38.896766901016235 seconds ---\n"
          ],
          "name": "stdout"
        }
      ]
    },
    {
      "cell_type": "code",
      "metadata": {
        "colab": {
          "base_uri": "https://localhost:8080/"
        },
        "id": "0syZ2YCpgDpt",
        "outputId": "d1fcbc7c-4703-4487-e6db-bddb7f6deeed"
      },
      "source": [
        "performance = model.evaluate(test_images_3d, to_categorical(test_labels))\n",
        "print(\"Accuracy on Test samples: {0}\".format(performance[1]))"
      ],
      "execution_count": null,
      "outputs": [
        {
          "output_type": "stream",
          "text": [
            "WARNING:tensorflow:AutoGraph could not transform <function Model.make_test_function.<locals>.test_function at 0x000002A23AC3E318> and will run it as-is.\n",
            "Please report this to the TensorFlow team. When filing the bug, set the verbosity to 10 (on Linux, `export AUTOGRAPH_VERBOSITY=10`) and attach the full output.\n",
            "Cause: 'arguments' object has no attribute 'posonlyargs'\n",
            "To silence this warning, decorate the function with @tf.autograph.experimental.do_not_convert\n",
            "WARNING: AutoGraph could not transform <function Model.make_test_function.<locals>.test_function at 0x000002A23AC3E318> and will run it as-is.\n",
            "Please report this to the TensorFlow team. When filing the bug, set the verbosity to 10 (on Linux, `export AUTOGRAPH_VERBOSITY=10`) and attach the full output.\n",
            "Cause: 'arguments' object has no attribute 'posonlyargs'\n",
            "To silence this warning, decorate the function with @tf.autograph.experimental.do_not_convert\n",
            "313/313 [==============================] - 1s 2ms/step - loss: 0.2293 - accuracy: 0.9356\n",
            "Accuracy on Test samples: 0.9355999827384949\n"
          ],
          "name": "stdout"
        }
      ]
    },
    {
      "cell_type": "markdown",
      "metadata": {
        "id": "a-U9quDBsnZd"
      },
      "source": [
        "#HyperOpt: Optimizing hyperparameters - DO NOT RUN THIS UNLESS YOU WANT TO WAIT FOREVER; SKIP SECTION"
      ]
    },
    {
      "cell_type": "code",
      "metadata": {
        "id": "-Yf3Zcd2zcIw",
        "colab": {
          "base_uri": "https://localhost:8080/"
        },
        "outputId": "67f51b32-2f29-4a9b-99db-dba1be808cfa"
      },
      "source": [
        "from hyperopt import hp, fmin, tpe, STATUS_OK, Trials\n",
        "\n",
        "\n",
        "def optimize_cnn(hyperparameter):\n",
        "  \n",
        "  # Define model using hyperparameters \n",
        "\n",
        "  cnn_model = Sequential([Conv2D(50, kernel_size=hyperparameter['conv_kernel_size'], strides = hyperparameter['conv_stride'], padding='same', activation=hyperparameter['activation'], input_shape=(28,28,1)), \n",
        "          Conv2D(75, kernel_size=hyperparameter['conv_kernel_size'], strides = hyperparameter['conv_stride'], padding='same', activation=hyperparameter['activation']), \n",
        "          MaxPooling2D(pool_size=(2,2)), Dropout(hyperparameter['dropout_prob']),\n",
        "          Conv2D(125, kernel_size=hyperparameter['conv_kernel_size'], strides = hyperparameter['conv_stride'], padding='same', activation=hyperparameter['activation']),\n",
        "          MaxPooling2D(pool_size=(2,2)), Dropout(hyperparameter['dropout_prob']), \n",
        "          Flatten(),\n",
        "          Dense(500, activation='relu'), Dropout(0.4),\n",
        "          Dense(250, activation='relu'), Dropout(0.3),\n",
        "          Dense(10, activation='softmax')])\n",
        "  \n",
        "  cnn_model.compile(optimizer=hyperparameter['optimizer'], loss='categorical_crossentropy', metrics=['accuracy'],)\n",
        "\n",
        "  # create a training (50K samples) and validation (10K samples) subsets from training images.\n",
        "  # Validation subset will be used to find the optimal hyperparameters\n",
        "  train_X, train_y = train_images_3d[:50000], train_labels[:50000]\n",
        "  valid_X, valid_y = train_images_3d[50000:], train_labels[50000:]\n",
        "\n",
        "  _ = cnn_model.fit(train_X, to_categorical(train_y), epochs=10, batch_size=128, verbose=0)\n",
        "  # Evaluate accuracy on validation data\n",
        "  performance = cnn_model.evaluate(valid_X, to_categorical(valid_y), verbose=0)\n",
        "\n",
        "  print(\"Hyperparameters: \", hyperparameter, \"Accuracy: \", performance[1])\n",
        "  print(\"----------------------------------------------------\")\n",
        "  # We want to minimize loss i.e. negative of accuracy\n",
        "  return({\"status\": STATUS_OK, \"loss\": -1*performance[1], \"model\":cnn_model})\n",
        "  \n",
        "\n",
        "# Define search space for hyper-parameters\n",
        "space = {\n",
        "    # The kernel_size for convolutions:\n",
        "    'conv_kernel_size': hp.choice('conv_kernel_size', [1, 3, 5]),\n",
        "    # Uniform distribution in finding appropriate dropout values\n",
        "    'dropout_prob': hp.uniform('dropout_prob', 0.1, 0.35),\n",
        "    #choice of stride\n",
        "    'conv_stride': hp.choice('conv_stride',[1,2]),\n",
        "    #choice of activation\n",
        "    'activation': hp.choice('activation', ['relu','selu','tanh']),\n",
        "    # Choice of optimizer \n",
        "    'optimizer': hp.choice('optimizer', ['Adam', 'sgd']),\n",
        "}\n",
        "\n",
        "trials = Trials()\n",
        "\n",
        "# Find the best hyperparameters\n",
        "best = fmin(\n",
        "        optimize_cnn,\n",
        "        space,\n",
        "        algo=tpe.suggest,\n",
        "        trials=trials,\n",
        "        max_evals=25,\n",
        "    )\n",
        "\n",
        "print(\"==================================\")\n",
        "print(\"Best Hyperparameters\", best)\n",
        "\n",
        "# You can retrain the final model with optimal hyperparameters on train+validation data\n",
        "\n",
        "# Or you can use the model returned directly\n",
        "# Find trial which has minimum loss value and use that model to perform evaluation on the test data\n",
        "test_model = trials.results[np.argmin([r['loss'] for r in trials.results])]['model']\n",
        "\n",
        "performance = test_model.evaluate(test_images_3d, to_categorical(test_labels))\n",
        "\n",
        "print(\"==================================\")\n",
        "print(\"Test Accuracy: \", performance[1])"
      ],
      "execution_count": null,
      "outputs": [
        {
          "output_type": "stream",
          "text": [
            "\r  0%|                                                                              | 0/25 [00:00<?, ?trial/s, best loss=?]WARNING:tensorflow:AutoGraph could not transform <function Model.make_train_function.<locals>.train_function at 0x000002A4C0D0A8B8> and will run it as-is.\n",
            "Please report this to the TensorFlow team. When filing the bug, set the verbosity to 10 (on Linux, `export AUTOGRAPH_VERBOSITY=10`) and attach the full output.\n",
            "Cause: 'arguments' object has no attribute 'posonlyargs'\n",
            "To silence this warning, decorate the function with @tf.autograph.experimental.do_not_convert\n",
            "WARNING: AutoGraph could not transform <function Model.make_train_function.<locals>.train_function at 0x000002A4C0D0A8B8> and will run it as-is.\n",
            "Please report this to the TensorFlow team. When filing the bug, set the verbosity to 10 (on Linux, `export AUTOGRAPH_VERBOSITY=10`) and attach the full output.\n",
            "Cause: 'arguments' object has no attribute 'posonlyargs'\n",
            "To silence this warning, decorate the function with @tf.autograph.experimental.do_not_convert\n",
            "  0%|                                                                              | 0/25 [00:00<?, ?trial/s, best loss=?]WARNING:tensorflow:AutoGraph could not transform <function Model.make_test_function.<locals>.test_function at 0x000002A250565708> and will run it as-is.\n",
            "Please report this to the TensorFlow team. When filing the bug, set the verbosity to 10 (on Linux, `export AUTOGRAPH_VERBOSITY=10`) and attach the full output.\n",
            "Cause: 'arguments' object has no attribute 'posonlyargs'\n",
            "To silence this warning, decorate the function with @tf.autograph.experimental.do_not_convert\n",
            "WARNING: AutoGraph could not transform <function Model.make_test_function.<locals>.test_function at 0x000002A250565708> and will run it as-is.\n",
            "Please report this to the TensorFlow team. When filing the bug, set the verbosity to 10 (on Linux, `export AUTOGRAPH_VERBOSITY=10`) and attach the full output.\n",
            "Cause: 'arguments' object has no attribute 'posonlyargs'\n",
            "To silence this warning, decorate the function with @tf.autograph.experimental.do_not_convert\n",
            "Hyperparameters: \n",
            "{'activation': 'tanh', 'conv_kernel_size': 1, 'conv_stride': 1, 'dropout_prob': 0.14035537611184226, 'optimizer': 'Adam'}\n",
            "Accuracy: \n",
            "0.9567999839782715\n",
            "----------------------------------------------------\n",
            "  4%|██                                                 | 1/25 [00:28<11:14, 28.10s/trial, best loss: -0.9567999839782715]WARNING:tensorflow:AutoGraph could not transform <function Model.make_train_function.<locals>.train_function at 0x000002A24946EF78> and will run it as-is.\n",
            "Please report this to the TensorFlow team. When filing the bug, set the verbosity to 10 (on Linux, `export AUTOGRAPH_VERBOSITY=10`) and attach the full output.\n",
            "Cause: 'arguments' object has no attribute 'posonlyargs'\n",
            "To silence this warning, decorate the function with @tf.autograph.experimental.do_not_convert\n",
            "WARNING: AutoGraph could not transform <function Model.make_train_function.<locals>.train_function at 0x000002A24946EF78> and will run it as-is.\n",
            "Please report this to the TensorFlow team. When filing the bug, set the verbosity to 10 (on Linux, `export AUTOGRAPH_VERBOSITY=10`) and attach the full output.\n",
            "Cause: 'arguments' object has no attribute 'posonlyargs'\n",
            "To silence this warning, decorate the function with @tf.autograph.experimental.do_not_convert\n",
            "  4%|██                                                 | 1/25 [00:28<11:14, 28.10s/trial, best loss: -0.9567999839782715]WARNING:tensorflow:AutoGraph could not transform <function Model.make_test_function.<locals>.test_function at 0x000002A4D1296828> and will run it as-is.\n",
            "Please report this to the TensorFlow team. When filing the bug, set the verbosity to 10 (on Linux, `export AUTOGRAPH_VERBOSITY=10`) and attach the full output.\n",
            "Cause: 'arguments' object has no attribute 'posonlyargs'\n",
            "To silence this warning, decorate the function with @tf.autograph.experimental.do_not_convert\n",
            "WARNING: AutoGraph could not transform <function Model.make_test_function.<locals>.test_function at 0x000002A4D1296828> and will run it as-is.\n",
            "Please report this to the TensorFlow team. When filing the bug, set the verbosity to 10 (on Linux, `export AUTOGRAPH_VERBOSITY=10`) and attach the full output.\n",
            "Cause: 'arguments' object has no attribute 'posonlyargs'\n",
            "To silence this warning, decorate the function with @tf.autograph.experimental.do_not_convert\n",
            "Hyperparameters: \n",
            "{'activation': 'selu', 'conv_kernel_size': 5, 'conv_stride': 1, 'dropout_prob': 0.23549894508096822, 'optimizer': 'Adam'}\n",
            "Accuracy: \n",
            "0.9868000149726868\n",
            "----------------------------------------------------\n",
            "  8%|████                                               | 2/25 [01:10<12:27, 32.48s/trial, best loss: -0.9868000149726868]WARNING:tensorflow:AutoGraph could not transform <function Model.make_train_function.<locals>.train_function at 0x000002A24916C438> and will run it as-is.\n",
            "Please report this to the TensorFlow team. When filing the bug, set the verbosity to 10 (on Linux, `export AUTOGRAPH_VERBOSITY=10`) and attach the full output.\n",
            "Cause: 'arguments' object has no attribute 'posonlyargs'\n",
            "To silence this warning, decorate the function with @tf.autograph.experimental.do_not_convert\n",
            "WARNING: AutoGraph could not transform <function Model.make_train_function.<locals>.train_function at 0x000002A24916C438> and will run it as-is.\n",
            "Please report this to the TensorFlow team. When filing the bug, set the verbosity to 10 (on Linux, `export AUTOGRAPH_VERBOSITY=10`) and attach the full output.\n",
            "Cause: 'arguments' object has no attribute 'posonlyargs'\n",
            "To silence this warning, decorate the function with @tf.autograph.experimental.do_not_convert\n",
            "  8%|████                                               | 2/25 [01:10<12:27, 32.48s/trial, best loss: -0.9868000149726868]WARNING:tensorflow:AutoGraph could not transform <function Model.make_test_function.<locals>.test_function at 0x000002A4C11319D8> and will run it as-is.\n",
            "Please report this to the TensorFlow team. When filing the bug, set the verbosity to 10 (on Linux, `export AUTOGRAPH_VERBOSITY=10`) and attach the full output.\n",
            "Cause: 'arguments' object has no attribute 'posonlyargs'\n",
            "To silence this warning, decorate the function with @tf.autograph.experimental.do_not_convert\n",
            "WARNING: AutoGraph could not transform <function Model.make_test_function.<locals>.test_function at 0x000002A4C11319D8> and will run it as-is.\n",
            "Please report this to the TensorFlow team. When filing the bug, set the verbosity to 10 (on Linux, `export AUTOGRAPH_VERBOSITY=10`) and attach the full output.\n",
            "Cause: 'arguments' object has no attribute 'posonlyargs'\n",
            "To silence this warning, decorate the function with @tf.autograph.experimental.do_not_convert\n",
            "Hyperparameters: \n",
            "{'activation': 'selu', 'conv_kernel_size': 5, 'conv_stride': 1, 'dropout_prob': 0.28666837176645643, 'optimizer': 'sgd'}\n",
            "Accuracy: \n",
            "0.9821000099182129\n",
            "----------------------------------------------------\n",
            " 12%|██████                                             | 3/25 [01:52<12:54, 35.22s/trial, best loss: -0.9868000149726868]WARNING:tensorflow:AutoGraph could not transform <function Model.make_train_function.<locals>.train_function at 0x000002A2352575E8> and will run it as-is.\n",
            "Please report this to the TensorFlow team. When filing the bug, set the verbosity to 10 (on Linux, `export AUTOGRAPH_VERBOSITY=10`) and attach the full output.\n",
            "Cause: 'arguments' object has no attribute 'posonlyargs'\n",
            "To silence this warning, decorate the function with @tf.autograph.experimental.do_not_convert\n",
            "WARNING: AutoGraph could not transform <function Model.make_train_function.<locals>.train_function at 0x000002A2352575E8> and will run it as-is.\n",
            "Please report this to the TensorFlow team. When filing the bug, set the verbosity to 10 (on Linux, `export AUTOGRAPH_VERBOSITY=10`) and attach the full output.\n",
            "Cause: 'arguments' object has no attribute 'posonlyargs'\n",
            "To silence this warning, decorate the function with @tf.autograph.experimental.do_not_convert\n",
            " 12%|██████                                             | 3/25 [01:52<12:54, 35.22s/trial, best loss: -0.9868000149726868]WARNING:tensorflow:AutoGraph could not transform <function Model.make_test_function.<locals>.test_function at 0x000002A235532828> and will run it as-is.\n",
            "Please report this to the TensorFlow team. When filing the bug, set the verbosity to 10 (on Linux, `export AUTOGRAPH_VERBOSITY=10`) and attach the full output.\n",
            "Cause: 'arguments' object has no attribute 'posonlyargs'\n",
            "To silence this warning, decorate the function with @tf.autograph.experimental.do_not_convert\n",
            "WARNING: AutoGraph could not transform <function Model.make_test_function.<locals>.test_function at 0x000002A235532828> and will run it as-is.\n",
            "Please report this to the TensorFlow team. When filing the bug, set the verbosity to 10 (on Linux, `export AUTOGRAPH_VERBOSITY=10`) and attach the full output.\n",
            "Cause: 'arguments' object has no attribute 'posonlyargs'\n",
            "To silence this warning, decorate the function with @tf.autograph.experimental.do_not_convert\n",
            "Hyperparameters: \n",
            "{'activation': 'relu', 'conv_kernel_size': 5, 'conv_stride': 2, 'dropout_prob': 0.18420892046411808, 'optimizer': 'sgd'}\n",
            "Accuracy: \n",
            "0.965499997138977\n",
            "----------------------------------------------------\n",
            " 16%|████████▏                                          | 4/25 [02:08<10:16, 29.35s/trial, best loss: -0.9868000149726868]WARNING:tensorflow:AutoGraph could not transform <function Model.make_train_function.<locals>.train_function at 0x000002A247E93798> and will run it as-is.\n",
            "Please report this to the TensorFlow team. When filing the bug, set the verbosity to 10 (on Linux, `export AUTOGRAPH_VERBOSITY=10`) and attach the full output.\n",
            "Cause: 'arguments' object has no attribute 'posonlyargs'\n",
            "To silence this warning, decorate the function with @tf.autograph.experimental.do_not_convert\n",
            "WARNING: AutoGraph could not transform <function Model.make_train_function.<locals>.train_function at 0x000002A247E93798> and will run it as-is.\n",
            "Please report this to the TensorFlow team. When filing the bug, set the verbosity to 10 (on Linux, `export AUTOGRAPH_VERBOSITY=10`) and attach the full output.\n",
            "Cause: 'arguments' object has no attribute 'posonlyargs'\n",
            "To silence this warning, decorate the function with @tf.autograph.experimental.do_not_convert\n",
            " 16%|████████▏                                          | 4/25 [02:08<10:16, 29.35s/trial, best loss: -0.9868000149726868]WARNING:tensorflow:AutoGraph could not transform <function Model.make_test_function.<locals>.test_function at 0x000002A2299E0288> and will run it as-is.\n",
            "Please report this to the TensorFlow team. When filing the bug, set the verbosity to 10 (on Linux, `export AUTOGRAPH_VERBOSITY=10`) and attach the full output.\n",
            "Cause: 'arguments' object has no attribute 'posonlyargs'\n",
            "To silence this warning, decorate the function with @tf.autograph.experimental.do_not_convert\n",
            "WARNING: AutoGraph could not transform <function Model.make_test_function.<locals>.test_function at 0x000002A2299E0288> and will run it as-is.\n",
            "Please report this to the TensorFlow team. When filing the bug, set the verbosity to 10 (on Linux, `export AUTOGRAPH_VERBOSITY=10`) and attach the full output.\n",
            "Cause: 'arguments' object has no attribute 'posonlyargs'\n",
            "To silence this warning, decorate the function with @tf.autograph.experimental.do_not_convert\n",
            "Hyperparameters: \n",
            "{'activation': 'relu', 'conv_kernel_size': 3, 'conv_stride': 2, 'dropout_prob': 0.13845837703841557, 'optimizer': 'sgd'}\n",
            "Accuracy: \n",
            "0.9397000074386597\n",
            "----------------------------------------------------\n",
            " 20%|██████████▏                                        | 5/25 [02:20<08:03, 24.16s/trial, best loss: -0.9868000149726868]WARNING:tensorflow:AutoGraph could not transform <function Model.make_train_function.<locals>.train_function at 0x000002A24916B288> and will run it as-is.\n",
            "Please report this to the TensorFlow team. When filing the bug, set the verbosity to 10 (on Linux, `export AUTOGRAPH_VERBOSITY=10`) and attach the full output.\n",
            "Cause: 'arguments' object has no attribute 'posonlyargs'\n",
            "To silence this warning, decorate the function with @tf.autograph.experimental.do_not_convert\n",
            "WARNING: AutoGraph could not transform <function Model.make_train_function.<locals>.train_function at 0x000002A24916B288> and will run it as-is.\n",
            "Please report this to the TensorFlow team. When filing the bug, set the verbosity to 10 (on Linux, `export AUTOGRAPH_VERBOSITY=10`) and attach the full output.\n",
            "Cause: 'arguments' object has no attribute 'posonlyargs'\n",
            "To silence this warning, decorate the function with @tf.autograph.experimental.do_not_convert\n",
            " 20%|██████████▏                                        | 5/25 [02:20<08:03, 24.16s/trial, best loss: -0.9868000149726868]WARNING:tensorflow:AutoGraph could not transform <function Model.make_test_function.<locals>.test_function at 0x000002A4D763B3A8> and will run it as-is.\n",
            "Please report this to the TensorFlow team. When filing the bug, set the verbosity to 10 (on Linux, `export AUTOGRAPH_VERBOSITY=10`) and attach the full output.\n",
            "Cause: 'arguments' object has no attribute 'posonlyargs'\n",
            "To silence this warning, decorate the function with @tf.autograph.experimental.do_not_convert\n",
            "WARNING: AutoGraph could not transform <function Model.make_test_function.<locals>.test_function at 0x000002A4D763B3A8> and will run it as-is.\n",
            "Please report this to the TensorFlow team. When filing the bug, set the verbosity to 10 (on Linux, `export AUTOGRAPH_VERBOSITY=10`) and attach the full output.\n",
            "Cause: 'arguments' object has no attribute 'posonlyargs'\n",
            "To silence this warning, decorate the function with @tf.autograph.experimental.do_not_convert\n",
            "Hyperparameters: \n",
            "{'activation': 'selu', 'conv_kernel_size': 1, 'conv_stride': 2, 'dropout_prob': 0.15070782615584655, 'optimizer': 'sgd'}\n",
            "Accuracy: \n",
            "0.16760000586509705\n",
            "----------------------------------------------------\n",
            " 24%|████████████▏                                      | 6/25 [02:30<06:19, 19.99s/trial, best loss: -0.9868000149726868]WARNING:tensorflow:AutoGraph could not transform <function Model.make_train_function.<locals>.train_function at 0x000002A234D7DA68> and will run it as-is.\n",
            "Please report this to the TensorFlow team. When filing the bug, set the verbosity to 10 (on Linux, `export AUTOGRAPH_VERBOSITY=10`) and attach the full output.\n",
            "Cause: 'arguments' object has no attribute 'posonlyargs'\n",
            "To silence this warning, decorate the function with @tf.autograph.experimental.do_not_convert\n",
            "WARNING: AutoGraph could not transform <function Model.make_train_function.<locals>.train_function at 0x000002A234D7DA68> and will run it as-is.\n",
            "Please report this to the TensorFlow team. When filing the bug, set the verbosity to 10 (on Linux, `export AUTOGRAPH_VERBOSITY=10`) and attach the full output.\n",
            "Cause: 'arguments' object has no attribute 'posonlyargs'\n",
            "To silence this warning, decorate the function with @tf.autograph.experimental.do_not_convert\n",
            " 24%|████████████▏                                      | 6/25 [02:30<06:19, 19.99s/trial, best loss: -0.9868000149726868]WARNING:tensorflow:AutoGraph could not transform <function Model.make_test_function.<locals>.test_function at 0x000002A235191C18> and will run it as-is.\n",
            "Please report this to the TensorFlow team. When filing the bug, set the verbosity to 10 (on Linux, `export AUTOGRAPH_VERBOSITY=10`) and attach the full output.\n",
            "Cause: 'arguments' object has no attribute 'posonlyargs'\n",
            "To silence this warning, decorate the function with @tf.autograph.experimental.do_not_convert\n",
            "WARNING: AutoGraph could not transform <function Model.make_test_function.<locals>.test_function at 0x000002A235191C18> and will run it as-is.\n",
            "Please report this to the TensorFlow team. When filing the bug, set the verbosity to 10 (on Linux, `export AUTOGRAPH_VERBOSITY=10`) and attach the full output.\n",
            "Cause: 'arguments' object has no attribute 'posonlyargs'\n",
            "To silence this warning, decorate the function with @tf.autograph.experimental.do_not_convert\n",
            "Hyperparameters: \n",
            "{'activation': 'selu', 'conv_kernel_size': 5, 'conv_stride': 2, 'dropout_prob': 0.20130148437745465, 'optimizer': 'Adam'}\n",
            "Accuracy: \n",
            "0.9843999743461609\n",
            "----------------------------------------------------\n",
            " 28%|██████████████▎                                    | 7/25 [02:46<05:38, 18.80s/trial, best loss: -0.9868000149726868]WARNING:tensorflow:AutoGraph could not transform <function Model.make_train_function.<locals>.train_function at 0x000002A235191F78> and will run it as-is.\n",
            "Please report this to the TensorFlow team. When filing the bug, set the verbosity to 10 (on Linux, `export AUTOGRAPH_VERBOSITY=10`) and attach the full output.\n",
            "Cause: 'arguments' object has no attribute 'posonlyargs'\n",
            "To silence this warning, decorate the function with @tf.autograph.experimental.do_not_convert\n",
            "WARNING: AutoGraph could not transform <function Model.make_train_function.<locals>.train_function at 0x000002A235191F78> and will run it as-is.\n",
            "Please report this to the TensorFlow team. When filing the bug, set the verbosity to 10 (on Linux, `export AUTOGRAPH_VERBOSITY=10`) and attach the full output.\n",
            "Cause: 'arguments' object has no attribute 'posonlyargs'\n",
            "To silence this warning, decorate the function with @tf.autograph.experimental.do_not_convert\n",
            " 28%|██████████████▎                                    | 7/25 [02:46<05:38, 18.80s/trial, best loss: -0.9868000149726868]WARNING:tensorflow:AutoGraph could not transform <function Model.make_test_function.<locals>.test_function at 0x000002A235430708> and will run it as-is.\n",
            "Please report this to the TensorFlow team. When filing the bug, set the verbosity to 10 (on Linux, `export AUTOGRAPH_VERBOSITY=10`) and attach the full output.\n",
            "Cause: 'arguments' object has no attribute 'posonlyargs'\n",
            "To silence this warning, decorate the function with @tf.autograph.experimental.do_not_convert\n",
            "WARNING: AutoGraph could not transform <function Model.make_test_function.<locals>.test_function at 0x000002A235430708> and will run it as-is.\n",
            "Please report this to the TensorFlow team. When filing the bug, set the verbosity to 10 (on Linux, `export AUTOGRAPH_VERBOSITY=10`) and attach the full output.\n",
            "Cause: 'arguments' object has no attribute 'posonlyargs'\n",
            "To silence this warning, decorate the function with @tf.autograph.experimental.do_not_convert\n",
            "Hyperparameters: \n",
            "{'activation': 'tanh', 'conv_kernel_size': 5, 'conv_stride': 2, 'dropout_prob': 0.3442700272185294, 'optimizer': 'sgd'}\n",
            "Accuracy: \n",
            "0.9684000015258789\n",
            "----------------------------------------------------\n",
            " 32%|████████████████▎                                  | 8/25 [03:02<05:03, 17.87s/trial, best loss: -0.9868000149726868]WARNING:tensorflow:AutoGraph could not transform <function Model.make_train_function.<locals>.train_function at 0x000002A4B8F27A68> and will run it as-is.\n",
            "Please report this to the TensorFlow team. When filing the bug, set the verbosity to 10 (on Linux, `export AUTOGRAPH_VERBOSITY=10`) and attach the full output.\n",
            "Cause: 'arguments' object has no attribute 'posonlyargs'\n",
            "To silence this warning, decorate the function with @tf.autograph.experimental.do_not_convert\n",
            "WARNING: AutoGraph could not transform <function Model.make_train_function.<locals>.train_function at 0x000002A4B8F27A68> and will run it as-is.\n",
            "Please report this to the TensorFlow team. When filing the bug, set the verbosity to 10 (on Linux, `export AUTOGRAPH_VERBOSITY=10`) and attach the full output.\n",
            "Cause: 'arguments' object has no attribute 'posonlyargs'\n",
            "To silence this warning, decorate the function with @tf.autograph.experimental.do_not_convert\n",
            " 32%|████████████████▎                                  | 8/25 [03:02<05:03, 17.87s/trial, best loss: -0.9868000149726868]WARNING:tensorflow:AutoGraph could not transform <function Model.make_test_function.<locals>.test_function at 0x000002A4B9202C18> and will run it as-is.\n",
            "Please report this to the TensorFlow team. When filing the bug, set the verbosity to 10 (on Linux, `export AUTOGRAPH_VERBOSITY=10`) and attach the full output.\n",
            "Cause: 'arguments' object has no attribute 'posonlyargs'\n",
            "To silence this warning, decorate the function with @tf.autograph.experimental.do_not_convert\n",
            "WARNING: AutoGraph could not transform <function Model.make_test_function.<locals>.test_function at 0x000002A4B9202C18> and will run it as-is.\n",
            "Please report this to the TensorFlow team. When filing the bug, set the verbosity to 10 (on Linux, `export AUTOGRAPH_VERBOSITY=10`) and attach the full output.\n",
            "Cause: 'arguments' object has no attribute 'posonlyargs'\n",
            "To silence this warning, decorate the function with @tf.autograph.experimental.do_not_convert\n",
            "Hyperparameters: \n",
            "{'activation': 'selu', 'conv_kernel_size': 5, 'conv_stride': 1, 'dropout_prob': 0.3122315575919223, 'optimizer': 'Adam'}\n",
            "Accuracy: \n",
            "0.9879999756813049\n",
            "----------------------------------------------------\n",
            " 36%|██████████████████▎                                | 9/25 [03:45<06:46, 25.40s/trial, best loss: -0.9879999756813049]WARNING:tensorflow:AutoGraph could not transform <function Model.make_train_function.<locals>.train_function at 0x000002A4B93758B8> and will run it as-is.\n",
            "Please report this to the TensorFlow team. When filing the bug, set the verbosity to 10 (on Linux, `export AUTOGRAPH_VERBOSITY=10`) and attach the full output.\n",
            "Cause: 'arguments' object has no attribute 'posonlyargs'\n",
            "To silence this warning, decorate the function with @tf.autograph.experimental.do_not_convert\n",
            "WARNING: AutoGraph could not transform <function Model.make_train_function.<locals>.train_function at 0x000002A4B93758B8> and will run it as-is.\n",
            "Please report this to the TensorFlow team. When filing the bug, set the verbosity to 10 (on Linux, `export AUTOGRAPH_VERBOSITY=10`) and attach the full output.\n",
            "Cause: 'arguments' object has no attribute 'posonlyargs'\n",
            "To silence this warning, decorate the function with @tf.autograph.experimental.do_not_convert\n",
            " 36%|██████████████████▎                                | 9/25 [03:45<06:46, 25.40s/trial, best loss: -0.9879999756813049]WARNING:tensorflow:AutoGraph could not transform <function Model.make_test_function.<locals>.test_function at 0x000002A4B9646AF8> and will run it as-is.\n",
            "Please report this to the TensorFlow team. When filing the bug, set the verbosity to 10 (on Linux, `export AUTOGRAPH_VERBOSITY=10`) and attach the full output.\n",
            "Cause: 'arguments' object has no attribute 'posonlyargs'\n",
            "To silence this warning, decorate the function with @tf.autograph.experimental.do_not_convert\n",
            "WARNING: AutoGraph could not transform <function Model.make_test_function.<locals>.test_function at 0x000002A4B9646AF8> and will run it as-is.\n",
            "Please report this to the TensorFlow team. When filing the bug, set the verbosity to 10 (on Linux, `export AUTOGRAPH_VERBOSITY=10`) and attach the full output.\n",
            "Cause: 'arguments' object has no attribute 'posonlyargs'\n",
            "To silence this warning, decorate the function with @tf.autograph.experimental.do_not_convert\n",
            "Hyperparameters: \n",
            "{'activation': 'relu', 'conv_kernel_size': 5, 'conv_stride': 2, 'dropout_prob': 0.30768717694850184, 'optimizer': 'sgd'}\n",
            "Accuracy: \n",
            "0.9606000185012817\n",
            "----------------------------------------------------\n",
            " 40%|████████████████████                              | 10/25 [04:00<05:35, 22.35s/trial, best loss: -0.9879999756813049]WARNING:tensorflow:AutoGraph could not transform <function Model.make_train_function.<locals>.train_function at 0x000002A4B976FA68> and will run it as-is.\n",
            "Please report this to the TensorFlow team. When filing the bug, set the verbosity to 10 (on Linux, `export AUTOGRAPH_VERBOSITY=10`) and attach the full output.\n",
            "Cause: 'arguments' object has no attribute 'posonlyargs'\n",
            "To silence this warning, decorate the function with @tf.autograph.experimental.do_not_convert\n",
            "WARNING: AutoGraph could not transform <function Model.make_train_function.<locals>.train_function at 0x000002A4B976FA68> and will run it as-is.\n",
            "Please report this to the TensorFlow team. When filing the bug, set the verbosity to 10 (on Linux, `export AUTOGRAPH_VERBOSITY=10`) and attach the full output.\n",
            "Cause: 'arguments' object has no attribute 'posonlyargs'\n",
            "To silence this warning, decorate the function with @tf.autograph.experimental.do_not_convert\n",
            " 40%|████████████████████                              | 10/25 [04:00<05:35, 22.35s/trial, best loss: -0.9879999756813049]WARNING:tensorflow:AutoGraph could not transform <function Model.make_test_function.<locals>.test_function at 0x000002A4B9A5CC18> and will run it as-is.\n",
            "Please report this to the TensorFlow team. When filing the bug, set the verbosity to 10 (on Linux, `export AUTOGRAPH_VERBOSITY=10`) and attach the full output.\n",
            "Cause: 'arguments' object has no attribute 'posonlyargs'\n",
            "To silence this warning, decorate the function with @tf.autograph.experimental.do_not_convert\n",
            "WARNING: AutoGraph could not transform <function Model.make_test_function.<locals>.test_function at 0x000002A4B9A5CC18> and will run it as-is.\n",
            "Please report this to the TensorFlow team. When filing the bug, set the verbosity to 10 (on Linux, `export AUTOGRAPH_VERBOSITY=10`) and attach the full output.\n",
            "Cause: 'arguments' object has no attribute 'posonlyargs'\n",
            "To silence this warning, decorate the function with @tf.autograph.experimental.do_not_convert\n",
            "Hyperparameters: \n",
            "{'activation': 'relu', 'conv_kernel_size': 5, 'conv_stride': 1, 'dropout_prob': 0.2619601382628475, 'optimizer': 'Adam'}\n",
            "Accuracy: \n",
            "0.9937999844551086\n",
            "----------------------------------------------------\n",
            " 44%|██████████████████████                            | 11/25 [04:40<06:29, 27.85s/trial, best loss: -0.9937999844551086]WARNING:tensorflow:AutoGraph could not transform <function Model.make_train_function.<locals>.train_function at 0x000002A4B9B83C18> and will run it as-is.\n",
            "Please report this to the TensorFlow team. When filing the bug, set the verbosity to 10 (on Linux, `export AUTOGRAPH_VERBOSITY=10`) and attach the full output.\n",
            "Cause: 'arguments' object has no attribute 'posonlyargs'\n",
            "To silence this warning, decorate the function with @tf.autograph.experimental.do_not_convert\n",
            "WARNING: AutoGraph could not transform <function Model.make_train_function.<locals>.train_function at 0x000002A4B9B83C18> and will run it as-is.\n",
            "Please report this to the TensorFlow team. When filing the bug, set the verbosity to 10 (on Linux, `export AUTOGRAPH_VERBOSITY=10`) and attach the full output.\n",
            "Cause: 'arguments' object has no attribute 'posonlyargs'\n",
            "To silence this warning, decorate the function with @tf.autograph.experimental.do_not_convert\n",
            " 44%|██████████████████████                            | 11/25 [04:41<06:29, 27.85s/trial, best loss: -0.9937999844551086]WARNING:tensorflow:AutoGraph could not transform <function Model.make_test_function.<locals>.test_function at 0x000002A4BEC2E708> and will run it as-is.\n",
            "Please report this to the TensorFlow team. When filing the bug, set the verbosity to 10 (on Linux, `export AUTOGRAPH_VERBOSITY=10`) and attach the full output.\n",
            "Cause: 'arguments' object has no attribute 'posonlyargs'\n",
            "To silence this warning, decorate the function with @tf.autograph.experimental.do_not_convert\n",
            "WARNING: AutoGraph could not transform <function Model.make_test_function.<locals>.test_function at 0x000002A4BEC2E708> and will run it as-is.\n",
            "Please report this to the TensorFlow team. When filing the bug, set the verbosity to 10 (on Linux, `export AUTOGRAPH_VERBOSITY=10`) and attach the full output.\n",
            "Cause: 'arguments' object has no attribute 'posonlyargs'\n",
            "To silence this warning, decorate the function with @tf.autograph.experimental.do_not_convert\n",
            "Hyperparameters: \n",
            "{'activation': 'relu', 'conv_kernel_size': 1, 'conv_stride': 1, 'dropout_prob': 0.2797694756432339, 'optimizer': 'sgd'}\n",
            "Accuracy: \n",
            "0.8934000134468079\n",
            "----------------------------------------------------\n",
            " 48%|████████████████████████                          | 12/25 [05:08<06:02, 27.86s/trial, best loss: -0.9937999844551086]WARNING:tensorflow:AutoGraph could not transform <function Model.make_train_function.<locals>.train_function at 0x000002A4BED86A68> and will run it as-is.\n",
            "Please report this to the TensorFlow team. When filing the bug, set the verbosity to 10 (on Linux, `export AUTOGRAPH_VERBOSITY=10`) and attach the full output.\n",
            "Cause: 'arguments' object has no attribute 'posonlyargs'\n",
            "To silence this warning, decorate the function with @tf.autograph.experimental.do_not_convert\n",
            "WARNING: AutoGraph could not transform <function Model.make_train_function.<locals>.train_function at 0x000002A4BED86A68> and will run it as-is.\n",
            "Please report this to the TensorFlow team. When filing the bug, set the verbosity to 10 (on Linux, `export AUTOGRAPH_VERBOSITY=10`) and attach the full output.\n",
            "Cause: 'arguments' object has no attribute 'posonlyargs'\n",
            "To silence this warning, decorate the function with @tf.autograph.experimental.do_not_convert\n",
            " 48%|████████████████████████                          | 12/25 [05:09<06:02, 27.86s/trial, best loss: -0.9937999844551086]WARNING:tensorflow:AutoGraph could not transform <function Model.make_test_function.<locals>.test_function at 0x000002A4BF0833A8> and will run it as-is.\n",
            "Please report this to the TensorFlow team. When filing the bug, set the verbosity to 10 (on Linux, `export AUTOGRAPH_VERBOSITY=10`) and attach the full output.\n",
            "Cause: 'arguments' object has no attribute 'posonlyargs'\n",
            "To silence this warning, decorate the function with @tf.autograph.experimental.do_not_convert\n",
            "WARNING: AutoGraph could not transform <function Model.make_test_function.<locals>.test_function at 0x000002A4BF0833A8> and will run it as-is.\n",
            "Please report this to the TensorFlow team. When filing the bug, set the verbosity to 10 (on Linux, `export AUTOGRAPH_VERBOSITY=10`) and attach the full output.\n",
            "Cause: 'arguments' object has no attribute 'posonlyargs'\n",
            "To silence this warning, decorate the function with @tf.autograph.experimental.do_not_convert\n",
            "Hyperparameters: \n",
            "{'activation': 'tanh', 'conv_kernel_size': 3, 'conv_stride': 1, 'dropout_prob': 0.21787366457122392, 'optimizer': 'Adam'}\n",
            "Accuracy: \n",
            "0.9898999929428101\n",
            "----------------------------------------------------\n",
            " 52%|██████████████████████████                        | 13/25 [05:46<06:07, 30.66s/trial, best loss: -0.9937999844551086]WARNING:tensorflow:AutoGraph could not transform <function Model.make_train_function.<locals>.train_function at 0x000002A4B9B83EE8> and will run it as-is.\n",
            "Please report this to the TensorFlow team. When filing the bug, set the verbosity to 10 (on Linux, `export AUTOGRAPH_VERBOSITY=10`) and attach the full output.\n",
            "Cause: 'arguments' object has no attribute 'posonlyargs'\n",
            "To silence this warning, decorate the function with @tf.autograph.experimental.do_not_convert\n",
            "WARNING: AutoGraph could not transform <function Model.make_train_function.<locals>.train_function at 0x000002A4B9B83EE8> and will run it as-is.\n",
            "Please report this to the TensorFlow team. When filing the bug, set the verbosity to 10 (on Linux, `export AUTOGRAPH_VERBOSITY=10`) and attach the full output.\n",
            "Cause: 'arguments' object has no attribute 'posonlyargs'\n",
            "To silence this warning, decorate the function with @tf.autograph.experimental.do_not_convert\n",
            " 52%|██████████████████████████                        | 13/25 [05:46<06:07, 30.66s/trial, best loss: -0.9937999844551086]WARNING:tensorflow:AutoGraph could not transform <function Model.make_test_function.<locals>.test_function at 0x000002A4B8F27438> and will run it as-is.\n",
            "Please report this to the TensorFlow team. When filing the bug, set the verbosity to 10 (on Linux, `export AUTOGRAPH_VERBOSITY=10`) and attach the full output.\n",
            "Cause: 'arguments' object has no attribute 'posonlyargs'\n",
            "To silence this warning, decorate the function with @tf.autograph.experimental.do_not_convert\n",
            "WARNING: AutoGraph could not transform <function Model.make_test_function.<locals>.test_function at 0x000002A4B8F27438> and will run it as-is.\n",
            "Please report this to the TensorFlow team. When filing the bug, set the verbosity to 10 (on Linux, `export AUTOGRAPH_VERBOSITY=10`) and attach the full output.\n",
            "Cause: 'arguments' object has no attribute 'posonlyargs'\n",
            "To silence this warning, decorate the function with @tf.autograph.experimental.do_not_convert\n",
            "Hyperparameters: \n",
            "{'activation': 'selu', 'conv_kernel_size': 3, 'conv_stride': 2, 'dropout_prob': 0.19336047794477612, 'optimizer': 'sgd'}\n",
            "Accuracy: \n",
            "0.9628000259399414\n",
            "----------------------------------------------------\n",
            " 56%|████████████████████████████                      | 14/25 [05:58<04:37, 25.21s/trial, best loss: -0.9937999844551086]WARNING:tensorflow:AutoGraph could not transform <function Model.make_train_function.<locals>.train_function at 0x000002A234D7D438> and will run it as-is.\n",
            "Please report this to the TensorFlow team. When filing the bug, set the verbosity to 10 (on Linux, `export AUTOGRAPH_VERBOSITY=10`) and attach the full output.\n",
            "Cause: 'arguments' object has no attribute 'posonlyargs'\n",
            "To silence this warning, decorate the function with @tf.autograph.experimental.do_not_convert\n",
            "WARNING: AutoGraph could not transform <function Model.make_train_function.<locals>.train_function at 0x000002A234D7D438> and will run it as-is.\n",
            "Please report this to the TensorFlow team. When filing the bug, set the verbosity to 10 (on Linux, `export AUTOGRAPH_VERBOSITY=10`) and attach the full output.\n",
            "Cause: 'arguments' object has no attribute 'posonlyargs'\n",
            "To silence this warning, decorate the function with @tf.autograph.experimental.do_not_convert\n",
            " 56%|████████████████████████████                      | 14/25 [05:58<04:37, 25.21s/trial, best loss: -0.9937999844551086]WARNING:tensorflow:AutoGraph could not transform <function Model.make_test_function.<locals>.test_function at 0x000002A234F978B8> and will run it as-is.\n",
            "Please report this to the TensorFlow team. When filing the bug, set the verbosity to 10 (on Linux, `export AUTOGRAPH_VERBOSITY=10`) and attach the full output.\n",
            "Cause: 'arguments' object has no attribute 'posonlyargs'\n",
            "To silence this warning, decorate the function with @tf.autograph.experimental.do_not_convert\n",
            "WARNING: AutoGraph could not transform <function Model.make_test_function.<locals>.test_function at 0x000002A234F978B8> and will run it as-is.\n",
            "Please report this to the TensorFlow team. When filing the bug, set the verbosity to 10 (on Linux, `export AUTOGRAPH_VERBOSITY=10`) and attach the full output.\n",
            "Cause: 'arguments' object has no attribute 'posonlyargs'\n",
            "To silence this warning, decorate the function with @tf.autograph.experimental.do_not_convert\n",
            "Hyperparameters: \n",
            "{'activation': 'selu', 'conv_kernel_size': 5, 'conv_stride': 2, 'dropout_prob': 0.19911242812146535, 'optimizer': 'sgd'}\n",
            "Accuracy: \n",
            "0.9757000207901001\n",
            "----------------------------------------------------\n",
            " 60%|██████████████████████████████                    | 15/25 [06:14<03:44, 22.40s/trial, best loss: -0.9937999844551086]WARNING:tensorflow:AutoGraph could not transform <function Model.make_train_function.<locals>.train_function at 0x000002A4B94D24C8> and will run it as-is.\n",
            "Please report this to the TensorFlow team. When filing the bug, set the verbosity to 10 (on Linux, `export AUTOGRAPH_VERBOSITY=10`) and attach the full output.\n",
            "Cause: 'arguments' object has no attribute 'posonlyargs'\n",
            "To silence this warning, decorate the function with @tf.autograph.experimental.do_not_convert\n",
            "WARNING: AutoGraph could not transform <function Model.make_train_function.<locals>.train_function at 0x000002A4B94D24C8> and will run it as-is.\n",
            "Please report this to the TensorFlow team. When filing the bug, set the verbosity to 10 (on Linux, `export AUTOGRAPH_VERBOSITY=10`) and attach the full output.\n",
            "Cause: 'arguments' object has no attribute 'posonlyargs'\n",
            "To silence this warning, decorate the function with @tf.autograph.experimental.do_not_convert\n",
            " 60%|██████████████████████████████                    | 15/25 [06:14<03:44, 22.40s/trial, best loss: -0.9937999844551086]WARNING:tensorflow:AutoGraph could not transform <function Model.make_test_function.<locals>.test_function at 0x000002A4BBA20A68> and will run it as-is.\n",
            "Please report this to the TensorFlow team. When filing the bug, set the verbosity to 10 (on Linux, `export AUTOGRAPH_VERBOSITY=10`) and attach the full output.\n",
            "Cause: 'arguments' object has no attribute 'posonlyargs'\n",
            "To silence this warning, decorate the function with @tf.autograph.experimental.do_not_convert\n",
            "WARNING: AutoGraph could not transform <function Model.make_test_function.<locals>.test_function at 0x000002A4BBA20A68> and will run it as-is.\n",
            "Please report this to the TensorFlow team. When filing the bug, set the verbosity to 10 (on Linux, `export AUTOGRAPH_VERBOSITY=10`) and attach the full output.\n",
            "Cause: 'arguments' object has no attribute 'posonlyargs'\n",
            "To silence this warning, decorate the function with @tf.autograph.experimental.do_not_convert\n",
            "Hyperparameters: \n",
            "{'activation': 'tanh', 'conv_kernel_size': 1, 'conv_stride': 1, 'dropout_prob': 0.27537261772727, 'optimizer': 'sgd'}\n",
            "Accuracy: \n",
            "0.9232000112533569\n",
            "----------------------------------------------------\n",
            " 64%|████████████████████████████████                  | 16/25 [06:41<03:35, 23.95s/trial, best loss: -0.9937999844551086]WARNING:tensorflow:AutoGraph could not transform <function Model.make_train_function.<locals>.train_function at 0x000002A4BBB3B678> and will run it as-is.\n",
            "Please report this to the TensorFlow team. When filing the bug, set the verbosity to 10 (on Linux, `export AUTOGRAPH_VERBOSITY=10`) and attach the full output.\n",
            "Cause: 'arguments' object has no attribute 'posonlyargs'\n",
            "To silence this warning, decorate the function with @tf.autograph.experimental.do_not_convert\n",
            "WARNING: AutoGraph could not transform <function Model.make_train_function.<locals>.train_function at 0x000002A4BBB3B678> and will run it as-is.\n",
            "Please report this to the TensorFlow team. When filing the bug, set the verbosity to 10 (on Linux, `export AUTOGRAPH_VERBOSITY=10`) and attach the full output.\n",
            "Cause: 'arguments' object has no attribute 'posonlyargs'\n",
            "To silence this warning, decorate the function with @tf.autograph.experimental.do_not_convert\n",
            " 64%|████████████████████████████████                  | 16/25 [06:42<03:35, 23.95s/trial, best loss: -0.9937999844551086]WARNING:tensorflow:AutoGraph could not transform <function Model.make_test_function.<locals>.test_function at 0x000002A4BBC138B8> and will run it as-is.\n",
            "Please report this to the TensorFlow team. When filing the bug, set the verbosity to 10 (on Linux, `export AUTOGRAPH_VERBOSITY=10`) and attach the full output.\n",
            "Cause: 'arguments' object has no attribute 'posonlyargs'\n",
            "To silence this warning, decorate the function with @tf.autograph.experimental.do_not_convert\n",
            "WARNING: AutoGraph could not transform <function Model.make_test_function.<locals>.test_function at 0x000002A4BBC138B8> and will run it as-is.\n",
            "Please report this to the TensorFlow team. When filing the bug, set the verbosity to 10 (on Linux, `export AUTOGRAPH_VERBOSITY=10`) and attach the full output.\n",
            "Cause: 'arguments' object has no attribute 'posonlyargs'\n",
            "To silence this warning, decorate the function with @tf.autograph.experimental.do_not_convert\n",
            "Hyperparameters: \n",
            "{'activation': 'tanh', 'conv_kernel_size': 1, 'conv_stride': 2, 'dropout_prob': 0.2938962269609946, 'optimizer': 'sgd'}\n",
            "Accuracy: \n",
            "0.16779999434947968\n",
            "----------------------------------------------------\n",
            " 68%|██████████████████████████████████                | 17/25 [06:52<02:39, 19.96s/trial, best loss: -0.9937999844551086]WARNING:tensorflow:AutoGraph could not transform <function Model.make_train_function.<locals>.train_function at 0x000002A4BBC13B88> and will run it as-is.\n",
            "Please report this to the TensorFlow team. When filing the bug, set the verbosity to 10 (on Linux, `export AUTOGRAPH_VERBOSITY=10`) and attach the full output.\n",
            "Cause: 'arguments' object has no attribute 'posonlyargs'\n",
            "To silence this warning, decorate the function with @tf.autograph.experimental.do_not_convert\n",
            "WARNING: AutoGraph could not transform <function Model.make_train_function.<locals>.train_function at 0x000002A4BBC13B88> and will run it as-is.\n",
            "Please report this to the TensorFlow team. When filing the bug, set the verbosity to 10 (on Linux, `export AUTOGRAPH_VERBOSITY=10`) and attach the full output.\n",
            "Cause: 'arguments' object has no attribute 'posonlyargs'\n",
            "To silence this warning, decorate the function with @tf.autograph.experimental.do_not_convert\n",
            " 68%|██████████████████████████████████                | 17/25 [06:52<02:39, 19.96s/trial, best loss: -0.9937999844551086]WARNING:tensorflow:AutoGraph could not transform <function Model.make_test_function.<locals>.test_function at 0x000002A4BF4CBA68> and will run it as-is.\n",
            "Please report this to the TensorFlow team. When filing the bug, set the verbosity to 10 (on Linux, `export AUTOGRAPH_VERBOSITY=10`) and attach the full output.\n",
            "Cause: 'arguments' object has no attribute 'posonlyargs'\n",
            "To silence this warning, decorate the function with @tf.autograph.experimental.do_not_convert\n",
            "WARNING: AutoGraph could not transform <function Model.make_test_function.<locals>.test_function at 0x000002A4BF4CBA68> and will run it as-is.\n",
            "Please report this to the TensorFlow team. When filing the bug, set the verbosity to 10 (on Linux, `export AUTOGRAPH_VERBOSITY=10`) and attach the full output.\n",
            "Cause: 'arguments' object has no attribute 'posonlyargs'\n",
            "To silence this warning, decorate the function with @tf.autograph.experimental.do_not_convert\n",
            "Hyperparameters: \n",
            "{'activation': 'selu', 'conv_kernel_size': 5, 'conv_stride': 2, 'dropout_prob': 0.34661217051950755, 'optimizer': 'sgd'}\n",
            "Accuracy: \n",
            "0.9751999974250793\n",
            "----------------------------------------------------\n",
            " 72%|████████████████████████████████████              | 18/25 [07:08<02:10, 18.69s/trial, best loss: -0.9937999844551086]WARNING:tensorflow:AutoGraph could not transform <function Model.make_train_function.<locals>.train_function at 0x000002A4BF617678> and will run it as-is.\n",
            "Please report this to the TensorFlow team. When filing the bug, set the verbosity to 10 (on Linux, `export AUTOGRAPH_VERBOSITY=10`) and attach the full output.\n",
            "Cause: 'arguments' object has no attribute 'posonlyargs'\n",
            "To silence this warning, decorate the function with @tf.autograph.experimental.do_not_convert\n",
            "WARNING: AutoGraph could not transform <function Model.make_train_function.<locals>.train_function at 0x000002A4BF617678> and will run it as-is.\n",
            "Please report this to the TensorFlow team. When filing the bug, set the verbosity to 10 (on Linux, `export AUTOGRAPH_VERBOSITY=10`) and attach the full output.\n",
            "Cause: 'arguments' object has no attribute 'posonlyargs'\n",
            "To silence this warning, decorate the function with @tf.autograph.experimental.do_not_convert\n",
            " 72%|████████████████████████████████████              | 18/25 [07:08<02:10, 18.69s/trial, best loss: -0.9937999844551086]WARNING:tensorflow:AutoGraph could not transform <function Model.make_test_function.<locals>.test_function at 0x000002A4C08348B8> and will run it as-is.\n",
            "Please report this to the TensorFlow team. When filing the bug, set the verbosity to 10 (on Linux, `export AUTOGRAPH_VERBOSITY=10`) and attach the full output.\n",
            "Cause: 'arguments' object has no attribute 'posonlyargs'\n",
            "To silence this warning, decorate the function with @tf.autograph.experimental.do_not_convert\n",
            "WARNING: AutoGraph could not transform <function Model.make_test_function.<locals>.test_function at 0x000002A4C08348B8> and will run it as-is.\n",
            "Please report this to the TensorFlow team. When filing the bug, set the verbosity to 10 (on Linux, `export AUTOGRAPH_VERBOSITY=10`) and attach the full output.\n",
            "Cause: 'arguments' object has no attribute 'posonlyargs'\n",
            "To silence this warning, decorate the function with @tf.autograph.experimental.do_not_convert\n",
            "Hyperparameters: \n",
            "{'activation': 'tanh', 'conv_kernel_size': 5, 'conv_stride': 1, 'dropout_prob': 0.23051846819122213, 'optimizer': 'Adam'}\n",
            "Accuracy: \n",
            "0.9894000291824341\n",
            "----------------------------------------------------\n",
            " 76%|██████████████████████████████████████            | 19/25 [07:51<02:35, 25.92s/trial, best loss: -0.9937999844551086]WARNING:tensorflow:AutoGraph could not transform <function Model.make_train_function.<locals>.train_function at 0x000002A4C0FD54C8> and will run it as-is.\n",
            "Please report this to the TensorFlow team. When filing the bug, set the verbosity to 10 (on Linux, `export AUTOGRAPH_VERBOSITY=10`) and attach the full output.\n",
            "Cause: 'arguments' object has no attribute 'posonlyargs'\n",
            "To silence this warning, decorate the function with @tf.autograph.experimental.do_not_convert\n",
            "WARNING: AutoGraph could not transform <function Model.make_train_function.<locals>.train_function at 0x000002A4C0FD54C8> and will run it as-is.\n",
            "Please report this to the TensorFlow team. When filing the bug, set the verbosity to 10 (on Linux, `export AUTOGRAPH_VERBOSITY=10`) and attach the full output.\n",
            "Cause: 'arguments' object has no attribute 'posonlyargs'\n",
            "To silence this warning, decorate the function with @tf.autograph.experimental.do_not_convert\n",
            " 76%|██████████████████████████████████████            | 19/25 [07:51<02:35, 25.92s/trial, best loss: -0.9937999844551086]WARNING:tensorflow:AutoGraph could not transform <function Model.make_test_function.<locals>.test_function at 0x000002A2350AEA68> and will run it as-is.\n",
            "Please report this to the TensorFlow team. When filing the bug, set the verbosity to 10 (on Linux, `export AUTOGRAPH_VERBOSITY=10`) and attach the full output.\n",
            "Cause: 'arguments' object has no attribute 'posonlyargs'\n",
            "To silence this warning, decorate the function with @tf.autograph.experimental.do_not_convert\n",
            "WARNING: AutoGraph could not transform <function Model.make_test_function.<locals>.test_function at 0x000002A2350AEA68> and will run it as-is.\n",
            "Please report this to the TensorFlow team. When filing the bug, set the verbosity to 10 (on Linux, `export AUTOGRAPH_VERBOSITY=10`) and attach the full output.\n",
            "Cause: 'arguments' object has no attribute 'posonlyargs'\n",
            "To silence this warning, decorate the function with @tf.autograph.experimental.do_not_convert\n",
            "Hyperparameters: \n",
            "{'activation': 'tanh', 'conv_kernel_size': 3, 'conv_stride': 2, 'dropout_prob': 0.27014448020774673, 'optimizer': 'sgd'}\n",
            "Accuracy: \n",
            "0.9370999932289124\n",
            "----------------------------------------------------\n",
            " 80%|████████████████████████████████████████          | 20/25 [08:03<01:49, 21.82s/trial, best loss: -0.9937999844551086]WARNING:tensorflow:AutoGraph could not transform <function Model.make_train_function.<locals>.train_function at 0x000002A4E8911678> and will run it as-is.\n",
            "Please report this to the TensorFlow team. When filing the bug, set the verbosity to 10 (on Linux, `export AUTOGRAPH_VERBOSITY=10`) and attach the full output.\n",
            "Cause: 'arguments' object has no attribute 'posonlyargs'\n",
            "To silence this warning, decorate the function with @tf.autograph.experimental.do_not_convert\n",
            "WARNING: AutoGraph could not transform <function Model.make_train_function.<locals>.train_function at 0x000002A4E8911678> and will run it as-is.\n",
            "Please report this to the TensorFlow team. When filing the bug, set the verbosity to 10 (on Linux, `export AUTOGRAPH_VERBOSITY=10`) and attach the full output.\n",
            "Cause: 'arguments' object has no attribute 'posonlyargs'\n",
            "To silence this warning, decorate the function with @tf.autograph.experimental.do_not_convert\n",
            " 80%|████████████████████████████████████████          | 20/25 [08:03<01:49, 21.82s/trial, best loss: -0.9937999844551086]WARNING:tensorflow:AutoGraph could not transform <function Model.make_test_function.<locals>.test_function at 0x000002A4E8A0C8B8> and will run it as-is.\n",
            "Please report this to the TensorFlow team. When filing the bug, set the verbosity to 10 (on Linux, `export AUTOGRAPH_VERBOSITY=10`) and attach the full output.\n",
            "Cause: 'arguments' object has no attribute 'posonlyargs'\n",
            "To silence this warning, decorate the function with @tf.autograph.experimental.do_not_convert\n",
            "WARNING: AutoGraph could not transform <function Model.make_test_function.<locals>.test_function at 0x000002A4E8A0C8B8> and will run it as-is.\n",
            "Please report this to the TensorFlow team. When filing the bug, set the verbosity to 10 (on Linux, `export AUTOGRAPH_VERBOSITY=10`) and attach the full output.\n",
            "Cause: 'arguments' object has no attribute 'posonlyargs'\n",
            "To silence this warning, decorate the function with @tf.autograph.experimental.do_not_convert\n",
            "Hyperparameters: \n",
            "{'activation': 'relu', 'conv_kernel_size': 3, 'conv_stride': 1, 'dropout_prob': 0.10657417965138345, 'optimizer': 'Adam'}\n",
            "Accuracy: \n",
            "0.9937999844551086\n",
            "----------------------------------------------------\n",
            " 84%|██████████████████████████████████████████        | 21/25 [08:38<01:42, 25.72s/trial, best loss: -0.9937999844551086]WARNING:tensorflow:AutoGraph could not transform <function Model.make_train_function.<locals>.train_function at 0x000002A4F76C4828> and will run it as-is.\n",
            "Please report this to the TensorFlow team. When filing the bug, set the verbosity to 10 (on Linux, `export AUTOGRAPH_VERBOSITY=10`) and attach the full output.\n",
            "Cause: 'arguments' object has no attribute 'posonlyargs'\n",
            "To silence this warning, decorate the function with @tf.autograph.experimental.do_not_convert\n",
            "WARNING: AutoGraph could not transform <function Model.make_train_function.<locals>.train_function at 0x000002A4F76C4828> and will run it as-is.\n",
            "Please report this to the TensorFlow team. When filing the bug, set the verbosity to 10 (on Linux, `export AUTOGRAPH_VERBOSITY=10`) and attach the full output.\n",
            "Cause: 'arguments' object has no attribute 'posonlyargs'\n",
            "To silence this warning, decorate the function with @tf.autograph.experimental.do_not_convert\n",
            " 84%|██████████████████████████████████████████        | 21/25 [08:38<01:42, 25.72s/trial, best loss: -0.9937999844551086]WARNING:tensorflow:AutoGraph could not transform <function Model.make_test_function.<locals>.test_function at 0x000002A4F79B7A68> and will run it as-is.\n",
            "Please report this to the TensorFlow team. When filing the bug, set the verbosity to 10 (on Linux, `export AUTOGRAPH_VERBOSITY=10`) and attach the full output.\n",
            "Cause: 'arguments' object has no attribute 'posonlyargs'\n",
            "To silence this warning, decorate the function with @tf.autograph.experimental.do_not_convert\n",
            "WARNING: AutoGraph could not transform <function Model.make_test_function.<locals>.test_function at 0x000002A4F79B7A68> and will run it as-is.\n",
            "Please report this to the TensorFlow team. When filing the bug, set the verbosity to 10 (on Linux, `export AUTOGRAPH_VERBOSITY=10`) and attach the full output.\n",
            "Cause: 'arguments' object has no attribute 'posonlyargs'\n",
            "To silence this warning, decorate the function with @tf.autograph.experimental.do_not_convert\n",
            "Hyperparameters: \n",
            "{'activation': 'relu', 'conv_kernel_size': 3, 'conv_stride': 1, 'dropout_prob': 0.11205198744069345, 'optimizer': 'Adam'}\n",
            "Accuracy: \n",
            "0.993399977684021\n",
            "----------------------------------------------------\n",
            " 88%|████████████████████████████████████████████      | 22/25 [09:12<01:25, 28.42s/trial, best loss: -0.9937999844551086]WARNING:tensorflow:AutoGraph could not transform <function Model.make_train_function.<locals>.train_function at 0x000002A4F79B7558> and will run it as-is.\n",
            "Please report this to the TensorFlow team. When filing the bug, set the verbosity to 10 (on Linux, `export AUTOGRAPH_VERBOSITY=10`) and attach the full output.\n",
            "Cause: 'arguments' object has no attribute 'posonlyargs'\n",
            "To silence this warning, decorate the function with @tf.autograph.experimental.do_not_convert\n",
            "WARNING: AutoGraph could not transform <function Model.make_train_function.<locals>.train_function at 0x000002A4F79B7558> and will run it as-is.\n",
            "Please report this to the TensorFlow team. When filing the bug, set the verbosity to 10 (on Linux, `export AUTOGRAPH_VERBOSITY=10`) and attach the full output.\n",
            "Cause: 'arguments' object has no attribute 'posonlyargs'\n",
            "To silence this warning, decorate the function with @tf.autograph.experimental.do_not_convert\n",
            " 88%|████████████████████████████████████████████      | 22/25 [09:13<01:25, 28.42s/trial, best loss: -0.9937999844551086]WARNING:tensorflow:AutoGraph could not transform <function Model.make_test_function.<locals>.test_function at 0x000002A4BECDFF78> and will run it as-is.\n",
            "Please report this to the TensorFlow team. When filing the bug, set the verbosity to 10 (on Linux, `export AUTOGRAPH_VERBOSITY=10`) and attach the full output.\n",
            "Cause: 'arguments' object has no attribute 'posonlyargs'\n",
            "To silence this warning, decorate the function with @tf.autograph.experimental.do_not_convert\n",
            "WARNING: AutoGraph could not transform <function Model.make_test_function.<locals>.test_function at 0x000002A4BECDFF78> and will run it as-is.\n",
            "Please report this to the TensorFlow team. When filing the bug, set the verbosity to 10 (on Linux, `export AUTOGRAPH_VERBOSITY=10`) and attach the full output.\n",
            "Cause: 'arguments' object has no attribute 'posonlyargs'\n",
            "To silence this warning, decorate the function with @tf.autograph.experimental.do_not_convert\n",
            "Hyperparameters: \n",
            "{'activation': 'relu', 'conv_kernel_size': 3, 'conv_stride': 1, 'dropout_prob': 0.24643605795264995, 'optimizer': 'Adam'}\n",
            "Accuracy: \n",
            "0.9926999807357788\n",
            "----------------------------------------------------\n",
            " 92%|██████████████████████████████████████████████    | 23/25 [09:47<01:00, 30.38s/trial, best loss: -0.9937999844551086]WARNING:tensorflow:AutoGraph could not transform <function Model.make_train_function.<locals>.train_function at 0x000002A4C0F9FA68> and will run it as-is.\n",
            "Please report this to the TensorFlow team. When filing the bug, set the verbosity to 10 (on Linux, `export AUTOGRAPH_VERBOSITY=10`) and attach the full output.\n",
            "Cause: 'arguments' object has no attribute 'posonlyargs'\n",
            "To silence this warning, decorate the function with @tf.autograph.experimental.do_not_convert\n",
            "WARNING: AutoGraph could not transform <function Model.make_train_function.<locals>.train_function at 0x000002A4C0F9FA68> and will run it as-is.\n",
            "Please report this to the TensorFlow team. When filing the bug, set the verbosity to 10 (on Linux, `export AUTOGRAPH_VERBOSITY=10`) and attach the full output.\n",
            "Cause: 'arguments' object has no attribute 'posonlyargs'\n",
            "To silence this warning, decorate the function with @tf.autograph.experimental.do_not_convert\n",
            " 92%|██████████████████████████████████████████████    | 23/25 [09:48<01:00, 30.38s/trial, best loss: -0.9937999844551086]WARNING:tensorflow:AutoGraph could not transform <function Model.make_test_function.<locals>.test_function at 0x000002A4BF1E8B88> and will run it as-is.\n",
            "Please report this to the TensorFlow team. When filing the bug, set the verbosity to 10 (on Linux, `export AUTOGRAPH_VERBOSITY=10`) and attach the full output.\n",
            "Cause: 'arguments' object has no attribute 'posonlyargs'\n",
            "To silence this warning, decorate the function with @tf.autograph.experimental.do_not_convert\n",
            "WARNING: AutoGraph could not transform <function Model.make_test_function.<locals>.test_function at 0x000002A4BF1E8B88> and will run it as-is.\n",
            "Please report this to the TensorFlow team. When filing the bug, set the verbosity to 10 (on Linux, `export AUTOGRAPH_VERBOSITY=10`) and attach the full output.\n",
            "Cause: 'arguments' object has no attribute 'posonlyargs'\n",
            "To silence this warning, decorate the function with @tf.autograph.experimental.do_not_convert\n",
            "Hyperparameters: \n",
            "{'activation': 'relu', 'conv_kernel_size': 3, 'conv_stride': 1, 'dropout_prob': 0.10740543886104506, 'optimizer': 'Adam'}\n",
            "Accuracy: \n",
            "0.9922999739646912\n",
            "----------------------------------------------------\n",
            " 96%|████████████████████████████████████████████████  | 24/25 [10:22<00:31, 31.70s/trial, best loss: -0.9937999844551086]WARNING:tensorflow:AutoGraph could not transform <function Model.make_train_function.<locals>.train_function at 0x000002A234F97CA8> and will run it as-is.\n",
            "Please report this to the TensorFlow team. When filing the bug, set the verbosity to 10 (on Linux, `export AUTOGRAPH_VERBOSITY=10`) and attach the full output.\n",
            "Cause: 'arguments' object has no attribute 'posonlyargs'\n",
            "To silence this warning, decorate the function with @tf.autograph.experimental.do_not_convert\n",
            "WARNING: AutoGraph could not transform <function Model.make_train_function.<locals>.train_function at 0x000002A234F97CA8> and will run it as-is.\n",
            "Please report this to the TensorFlow team. When filing the bug, set the verbosity to 10 (on Linux, `export AUTOGRAPH_VERBOSITY=10`) and attach the full output.\n",
            "Cause: 'arguments' object has no attribute 'posonlyargs'\n",
            "To silence this warning, decorate the function with @tf.autograph.experimental.do_not_convert\n",
            " 96%|████████████████████████████████████████████████  | 24/25 [10:22<00:31, 31.70s/trial, best loss: -0.9937999844551086]WARNING:tensorflow:AutoGraph could not transform <function Model.make_test_function.<locals>.test_function at 0x000002A4B99B2798> and will run it as-is.\n",
            "Please report this to the TensorFlow team. When filing the bug, set the verbosity to 10 (on Linux, `export AUTOGRAPH_VERBOSITY=10`) and attach the full output.\n",
            "Cause: 'arguments' object has no attribute 'posonlyargs'\n",
            "To silence this warning, decorate the function with @tf.autograph.experimental.do_not_convert\n",
            "WARNING: AutoGraph could not transform <function Model.make_test_function.<locals>.test_function at 0x000002A4B99B2798> and will run it as-is.\n",
            "Please report this to the TensorFlow team. When filing the bug, set the verbosity to 10 (on Linux, `export AUTOGRAPH_VERBOSITY=10`) and attach the full output.\n",
            "Cause: 'arguments' object has no attribute 'posonlyargs'\n",
            "To silence this warning, decorate the function with @tf.autograph.experimental.do_not_convert\n",
            "Hyperparameters: \n",
            "{'activation': 'relu', 'conv_kernel_size': 3, 'conv_stride': 1, 'dropout_prob': 0.2538798802417247, 'optimizer': 'Adam'}\n",
            "Accuracy: \n",
            "0.9940000176429749\n",
            "----------------------------------------------------\n",
            "100%|██████████████████████████████████████████████████| 25/25 [10:57<00:00, 26.30s/trial, best loss: -0.9940000176429749]\n",
            "==================================\n",
            "Best Hyperparameters {'activation': 0, 'conv_kernel_size': 1, 'conv_stride': 0, 'dropout_prob': 0.2538798802417247, 'optimizer': 0}\n",
            "313/313 [==============================] - 1s 2ms/step - loss: 0.0205 - accuracy: 0.9944\n",
            "==================================\n",
            "Test Accuracy:  0.9944000244140625\n"
          ],
          "name": "stdout"
        }
      ]
    },
    {
      "cell_type": "markdown",
      "metadata": {
        "id": "330BqyfMmUzv"
      },
      "source": [
        "#Model with optimized Hyperparameters"
      ]
    },
    {
      "cell_type": "code",
      "metadata": {
        "id": "gw5NQ0vHQWnr",
        "colab": {
          "base_uri": "https://localhost:8080/"
        },
        "outputId": "ce4ea37f-1413-4602-d7cd-98b142403825"
      },
      "source": [
        "model = Sequential([Conv2D(50, kernel_size=(3,3), strides=(1,1), padding='same', activation='relu', input_shape=(28,28,1)), \n",
        "          Conv2D(75, kernel_size=(3,3), strides=(1,1), padding='same', activation='relu'), \n",
        "          MaxPooling2D(pool_size=(2,2)), Dropout(0.2538798802417247),\n",
        "          Conv2D(125, kernel_size=(3,3), strides=(1,1), padding='same', activation='relu'),\n",
        "          MaxPooling2D(pool_size=(2,2)), Dropout(0.2538798802417247), \n",
        "          Flatten(),\n",
        "          Dense(500, activation='relu'), Dropout(0.4),\n",
        "          Dense(250, activation='relu'), Dropout(0.3),\n",
        "          Dense(10, activation='softmax')])\n",
        "\n",
        "print(model.summary())"
      ],
      "execution_count": 6,
      "outputs": [
        {
          "output_type": "stream",
          "text": [
            "Model: \"sequential\"\n",
            "_________________________________________________________________\n",
            "Layer (type)                 Output Shape              Param #   \n",
            "=================================================================\n",
            "conv2d (Conv2D)              (None, 28, 28, 50)        500       \n",
            "_________________________________________________________________\n",
            "conv2d_1 (Conv2D)            (None, 28, 28, 75)        33825     \n",
            "_________________________________________________________________\n",
            "max_pooling2d (MaxPooling2D) (None, 14, 14, 75)        0         \n",
            "_________________________________________________________________\n",
            "dropout (Dropout)            (None, 14, 14, 75)        0         \n",
            "_________________________________________________________________\n",
            "conv2d_2 (Conv2D)            (None, 14, 14, 125)       84500     \n",
            "_________________________________________________________________\n",
            "max_pooling2d_1 (MaxPooling2 (None, 7, 7, 125)         0         \n",
            "_________________________________________________________________\n",
            "dropout_1 (Dropout)          (None, 7, 7, 125)         0         \n",
            "_________________________________________________________________\n",
            "flatten (Flatten)            (None, 6125)              0         \n",
            "_________________________________________________________________\n",
            "dense (Dense)                (None, 500)               3063000   \n",
            "_________________________________________________________________\n",
            "dropout_2 (Dropout)          (None, 500)               0         \n",
            "_________________________________________________________________\n",
            "dense_1 (Dense)              (None, 250)               125250    \n",
            "_________________________________________________________________\n",
            "dropout_3 (Dropout)          (None, 250)               0         \n",
            "_________________________________________________________________\n",
            "dense_2 (Dense)              (None, 10)                2510      \n",
            "=================================================================\n",
            "Total params: 3,309,585\n",
            "Trainable params: 3,309,585\n",
            "Non-trainable params: 0\n",
            "_________________________________________________________________\n",
            "None\n"
          ],
          "name": "stdout"
        }
      ]
    },
    {
      "cell_type": "code",
      "metadata": {
        "colab": {
          "base_uri": "https://localhost:8080/"
        },
        "id": "TYBGq2EMwGZ-",
        "outputId": "ad412117-8ca4-45cf-9a00-be8325b0f8c8"
      },
      "source": [
        "import time \n",
        "start_time = time.time()\n",
        "# compiling the sequential model\n",
        "model.compile(loss='categorical_crossentropy', metrics=['accuracy'], optimizer='adam')\n",
        "\n",
        "# training the model for 10 epochs\n",
        "model.fit(train_images_3d, to_categorical(train_labels), epochs=10, batch_size=128,)\n",
        "\n",
        "\n",
        "print(\"--- %s seconds ---\" % (time.time() - start_time))"
      ],
      "execution_count": 7,
      "outputs": [
        {
          "output_type": "stream",
          "text": [
            "Epoch 1/10\n",
            "469/469 [==============================] - 7s 15ms/step - loss: 0.2145 - accuracy: 0.9320\n",
            "Epoch 2/10\n",
            "469/469 [==============================] - 7s 15ms/step - loss: 0.0630 - accuracy: 0.9817\n",
            "Epoch 3/10\n",
            "469/469 [==============================] - 7s 15ms/step - loss: 0.0459 - accuracy: 0.9866\n",
            "Epoch 4/10\n",
            "469/469 [==============================] - 7s 15ms/step - loss: 0.0387 - accuracy: 0.9884\n",
            "Epoch 5/10\n",
            "469/469 [==============================] - 7s 15ms/step - loss: 0.0307 - accuracy: 0.9908\n",
            "Epoch 6/10\n",
            "469/469 [==============================] - 7s 15ms/step - loss: 0.0280 - accuracy: 0.9915\n",
            "Epoch 7/10\n",
            "469/469 [==============================] - 7s 15ms/step - loss: 0.0272 - accuracy: 0.9920\n",
            "Epoch 8/10\n",
            "469/469 [==============================] - 7s 15ms/step - loss: 0.0224 - accuracy: 0.9930\n",
            "Epoch 9/10\n",
            "469/469 [==============================] - 7s 15ms/step - loss: 0.0192 - accuracy: 0.9939\n",
            "Epoch 10/10\n",
            "469/469 [==============================] - 7s 14ms/step - loss: 0.0188 - accuracy: 0.9945\n",
            "--- 76.10818243026733 seconds ---\n"
          ],
          "name": "stdout"
        }
      ]
    },
    {
      "cell_type": "code",
      "metadata": {
        "id": "OHTe-HZgwLX6",
        "colab": {
          "base_uri": "https://localhost:8080/"
        },
        "outputId": "b4cf025b-4efa-4788-95d5-0191247f3bbb"
      },
      "source": [
        "performance = model.evaluate(test_images_3d, to_categorical(test_labels))\n",
        "print(\"Accuracy on Test samples: {0}\".format(performance[1]))"
      ],
      "execution_count": 8,
      "outputs": [
        {
          "output_type": "stream",
          "text": [
            "313/313 [==============================] - 1s 3ms/step - loss: 0.0257 - accuracy: 0.9929\n",
            "Accuracy on Test samples: 0.992900013923645\n"
          ],
          "name": "stdout"
        }
      ]
    },
    {
      "cell_type": "code",
      "metadata": {
        "id": "f805PsnvxiO4"
      },
      "source": [
        ""
      ],
      "execution_count": null,
      "outputs": []
    }
  ]
}