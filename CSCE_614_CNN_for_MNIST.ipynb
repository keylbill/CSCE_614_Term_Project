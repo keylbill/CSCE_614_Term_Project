{
  "nbformat": 4,
  "nbformat_minor": 0,
  "metadata": {
    "colab": {
      "name": "CSCE 614 CNN for MNIST",
      "provenance": [],
      "collapsed_sections": []
    },
    "kernelspec": {
      "name": "python3",
      "display_name": "Python 3"
    },
    "accelerator": "GPU"
  },
  "cells": [
    {
      "cell_type": "code",
      "metadata": {
        "id": "pwE8f3T-fMPn"
      },
      "source": [
        "import warnings\n",
        "warnings.filterwarnings(\"ignore\")\n",
        "from keras.datasets import mnist\n",
        "import matplotlib.pyplot as plt\n",
        "import numpy as np\n",
        "from keras.utils import to_categorical\n",
        "\n",
        "from keras.layers import Dense, Dropout, Conv2D, MaxPool2D, Flatten\n",
        "import warnings\n",
        "warnings.filterwarnings(\"ignore\")  # Ignore some warning logs\n",
        "from keras.models import Sequential"
      ],
      "execution_count": 1,
      "outputs": []
    },
    {
      "cell_type": "code",
      "metadata": {
        "colab": {
          "base_uri": "https://localhost:8080/",
          "height": 355
        },
        "id": "h-nlhpFZfZe9",
        "outputId": "a2598770-c40c-4a99-ed07-a30dfb3ff93e"
      },
      "source": [
        " #Load MNISt dataset\n",
        "(train_images, train_labels), (test_images, test_labels) = mnist.load_data()\n",
        "\n",
        "# Check number of samples (60000 in training and 10000 in test)\n",
        "# Each image has 28 x 28 pixels\n",
        "print(\"Train Image Shape: \", train_images.shape, \"Train Label Shape: \", train_labels.shape) \n",
        "print(\"Test Image Shape: \", test_images.shape, \"Test Label Shape: \", test_labels.shape) \n",
        "\n",
        "#  Visualizing a random image (11th) from training dataset\n",
        "print(\"Visualizing a random image (11th) from training dataset\")\n",
        "_ = plt.imshow(train_images[10])\n",
        "# print(type(train_images))\n",
        "# print(train_images)\n",
        "# print(train_labels)"
      ],
      "execution_count": 2,
      "outputs": [
        {
          "output_type": "stream",
          "text": [
            "Downloading data from https://storage.googleapis.com/tensorflow/tf-keras-datasets/mnist.npz\n",
            "11493376/11490434 [==============================] - 0s 0us/step\n",
            "Train Image Shape:  (60000, 28, 28) Train Label Shape:  (60000,)\n",
            "Test Image Shape:  (10000, 28, 28) Test Label Shape:  (10000,)\n",
            "Visualizing a random image (11th) from training dataset\n"
          ],
          "name": "stdout"
        },
        {
          "output_type": "display_data",
          "data": {
            "image/png": "[encoded data removed]",
            "text/plain": [
              "<Figure size 432x288 with 1 Axes>"
            ]
          },
          "metadata": {
            "tags": [],
            "needs_background": "light"
          }
        }
      ]
    },
    {
      "cell_type": "code",
      "metadata": {
        "id": "4ekIdle9fbMs"
      },
      "source": [
        "# Preprocessing: Normalize the images.\n",
        "train_images = (train_images / 255) - 0.5\n",
        "test_images = (test_images / 255) - 0.5"
      ],
      "execution_count": 3,
      "outputs": []
    },
    {
      "cell_type": "code",
      "metadata": {
        "colab": {
          "base_uri": "https://localhost:8080/"
        },
        "id": "OsmCj4cafdC0",
        "outputId": "53125421-3289-425d-a730-3e489bc7ad77"
      },
      "source": [
        "# building a linear stack of layers with the sequential model\n",
        "model = Sequential()\n",
        "\n",
        "# convolutional layer\n",
        "model.add(Conv2D(50, kernel_size=(3,3), strides=(1,1), padding='same', activation='relu', input_shape=(28, 28, 1)))\n",
        "\n",
        "# convolutional layer\n",
        "model.add(Conv2D(75, kernel_size=(3,3), strides=(1,1), padding='same', activation='relu'))\n",
        "model.add(MaxPool2D(pool_size=(2,2)))\n",
        "model.add(Dropout(0.25))\n",
        "\n",
        "model.add(Conv2D(125, kernel_size=(3,3), strides=(1,1), padding='same', activation='relu'))\n",
        "model.add(MaxPool2D(pool_size=(2,2)))\n",
        "model.add(Dropout(0.25))\n",
        "\n",
        "# flatten output of conv\n",
        "model.add(Flatten())\n",
        "\n",
        "# hidden layer\n",
        "model.add(Dense(500, activation='relu'))\n",
        "model.add(Dropout(0.4))\n",
        "model.add(Dense(250, activation='relu'))\n",
        "model.add(Dropout(0.3))\n",
        "# output layer\n",
        "model.add(Dense(10, activation='softmax'))\n",
        "print(model.summary())"
      ],
      "execution_count": 4,
      "outputs": [
        {
          "output_type": "stream",
          "text": [
            "Model: \"sequential\"\n",
            "_________________________________________________________________\n",
            "Layer (type)                 Output Shape              Param #   \n",
            "=================================================================\n",
            "conv2d (Conv2D)              (None, 28, 28, 50)        500       \n",
            "_________________________________________________________________\n",
            "conv2d_1 (Conv2D)            (None, 28, 28, 75)        33825     \n",
            "_________________________________________________________________\n",
            "max_pooling2d (MaxPooling2D) (None, 14, 14, 75)        0         \n",
            "_________________________________________________________________\n",
            "dropout (Dropout)            (None, 14, 14, 75)        0         \n",
            "_________________________________________________________________\n",
            "conv2d_2 (Conv2D)            (None, 14, 14, 125)       84500     \n",
            "_________________________________________________________________\n",
            "max_pooling2d_1 (MaxPooling2 (None, 7, 7, 125)         0         \n",
            "_________________________________________________________________\n",
            "dropout_1 (Dropout)          (None, 7, 7, 125)         0         \n",
            "_________________________________________________________________\n",
            "flatten (Flatten)            (None, 6125)              0         \n",
            "_________________________________________________________________\n",
            "dense (Dense)                (None, 500)               3063000   \n",
            "_________________________________________________________________\n",
            "dropout_2 (Dropout)          (None, 500)               0         \n",
            "_________________________________________________________________\n",
            "dense_1 (Dense)              (None, 250)               125250    \n",
            "_________________________________________________________________\n",
            "dropout_3 (Dropout)          (None, 250)               0         \n",
            "_________________________________________________________________\n",
            "dense_2 (Dense)              (None, 10)                2510      \n",
            "=================================================================\n",
            "Total params: 3,309,585\n",
            "Trainable params: 3,309,585\n",
            "Non-trainable params: 0\n",
            "_________________________________________________________________\n",
            "None\n"
          ],
          "name": "stdout"
        }
      ]
    },
    {
      "cell_type": "code",
      "metadata": {
        "colab": {
          "base_uri": "https://localhost:8080/"
        },
        "id": "aWhLSUtgfnPQ",
        "outputId": "d495e2b8-e8a5-448c-cf5b-85bc4623f79d"
      },
      "source": [
        "train_images_3d = train_images.reshape(60000,28,28,1)\n",
        "test_images_3d = test_images.reshape(10000,28,28,1)\n",
        "\n",
        "\n",
        "# compiling the sequential model\n",
        "model.compile(loss='categorical_crossentropy', metrics=['accuracy'], optimizer='adam')\n",
        "\n",
        "# training the model for 10 epochs\n",
        "model.fit(train_images_3d, to_categorical(train_labels), epochs=10, batch_size=128,)\n"
      ],
      "execution_count": 5,
      "outputs": [
        {
          "output_type": "stream",
          "text": [
            "Epoch 1/10\n",
            "469/469 [==============================] - 7s 14ms/step - loss: 0.2252 - accuracy: 0.9270\n",
            "Epoch 2/10\n",
            "469/469 [==============================] - 7s 14ms/step - loss: 0.0624 - accuracy: 0.9817\n",
            "Epoch 3/10\n",
            "469/469 [==============================] - 7s 14ms/step - loss: 0.0456 - accuracy: 0.9866\n",
            "Epoch 4/10\n",
            "469/469 [==============================] - 7s 14ms/step - loss: 0.0370 - accuracy: 0.9885\n",
            "Epoch 5/10\n",
            "469/469 [==============================] - 7s 14ms/step - loss: 0.0313 - accuracy: 0.9905\n",
            "Epoch 6/10\n",
            "469/469 [==============================] - 7s 14ms/step - loss: 0.0286 - accuracy: 0.9911\n",
            "Epoch 7/10\n",
            "469/469 [==============================] - 7s 14ms/step - loss: 0.0267 - accuracy: 0.9922\n",
            "Epoch 8/10\n",
            "469/469 [==============================] - 7s 15ms/step - loss: 0.0228 - accuracy: 0.9933\n",
            "Epoch 9/10\n",
            "469/469 [==============================] - 7s 15ms/step - loss: 0.0200 - accuracy: 0.9941\n",
            "Epoch 10/10\n",
            "469/469 [==============================] - 7s 15ms/step - loss: 0.0192 - accuracy: 0.9940\n"
          ],
          "name": "stdout"
        },
        {
          "output_type": "execute_result",
          "data": {
            "text/plain": [
              "<tensorflow.python.keras.callbacks.History at 0x7fe450108550>"
            ]
          },
          "metadata": {
            "tags": []
          },
          "execution_count": 5
        }
      ]
    },
    {
      "cell_type": "code",
      "metadata": {
        "colab": {
          "base_uri": "https://localhost:8080/"
        },
        "id": "0syZ2YCpgDpt",
        "outputId": "5fc66d7e-a92c-4843-cdf3-f196e1de1fa3"
      },
      "source": [
        "performance = model.evaluate(test_images_3d, to_categorical(test_labels))\n",
        "print(\"Accuracy on Test samples: {0}\".format(performance[1]))"
      ],
      "execution_count": 6,
      "outputs": [
        {
          "output_type": "stream",
          "text": [
            "313/313 [==============================] - 1s 3ms/step - loss: 0.0218 - accuracy: 0.9930\n",
            "Accuracy on Test samples: 0.9929999709129333\n"
          ],
          "name": "stdout"
        }
      ]
    },
    {
      "cell_type": "code",
      "metadata": {
        "id": "E22gmqGvr3mp"
      },
      "source": [
        ""
      ],
      "execution_count": 6,
      "outputs": []
    }
  ]
}